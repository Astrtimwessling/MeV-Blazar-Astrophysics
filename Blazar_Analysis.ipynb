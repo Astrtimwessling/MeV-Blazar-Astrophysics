{
 "cells": [
  {
   "cell_type": "markdown",
   "metadata": {},
   "source": [
    "# Imports"
   ]
  },
  {
   "cell_type": "code",
   "execution_count": 16,
   "metadata": {},
   "outputs": [],
   "source": [
    "import numpy as np\n",
    "import matplotlib.pyplot as plt\n",
    "import pandas as pd\n",
    "import awkward as ak \n",
    "import math\n",
    "import numpy.ma as ma\n",
    "import matplotlib.cm as cm\n",
    "import astropy.coordinates as coord\n",
    "import astropy.units as u"
   ]
  },
  {
   "cell_type": "code",
   "execution_count": 17,
   "metadata": {},
   "outputs": [],
   "source": [
    "from astropy.io import fits\n",
    "from astropy.table import Table\n",
    "from scipy.optimize import curve_fit\n",
    "from statistics import mean\n",
    "from astropy.io import ascii"
   ]
  },
  {
   "cell_type": "markdown",
   "metadata": {},
   "source": [
    "# Data "
   ]
  },
  {
   "cell_type": "code",
   "execution_count": 18,
   "metadata": {},
   "outputs": [],
   "source": [
    "table = Table.read(\"C:\\Aramaki Lab Research\\MeV Gamma Ray Science\\MeV Skymap Code\\gll_psc_v22.fit\")"
   ]
  },
  {
   "cell_type": "code",
   "execution_count": 19,
   "metadata": {},
   "outputs": [],
   "source": [
    "table1 = Table.read(\"C:\\Aramaki Lab Research\\MeV Gamma Ray Science\\MeV Skymap Code\\BAT_105m_catalog_SED.fits\")"
   ]
  },
  {
   "cell_type": "code",
   "execution_count": 20,
   "metadata": {},
   "outputs": [],
   "source": [
    "FLE = Table.read(\"C:\\Aramaki Lab Research\\MeV Gamma Ray Science\\MeV Skymap Code\\J_A+A_618_A22_catalog.dat.fits\")\n",
    "bright_FLE = FLE[np.argsort(FLE['EF30-100'])]"
   ]
  },
  {
   "cell_type": "markdown",
   "metadata": {},
   "source": [
    "# 3C 273"
   ]
  },
  {
   "cell_type": "code",
   "execution_count": 21,
   "metadata": {},
   "outputs": [
    {
     "name": "stdout",
     "output_type": "stream",
     "text": [
      "[False False False ... False False False]\n"
     ]
    },
    {
     "data": {
      "text/html": [
       "<div><i>Table length=1</i>\n",
       "<table id=\"table2293834083856\" class=\"table-striped table-bordered table-condensed\">\n",
       "<thead><tr><th>Source_Name</th><th>RAJ2000</th><th>DEJ2000</th><th>GLON</th><th>GLAT</th><th>Conf_68_SemiMajor</th><th>Conf_68_SemiMinor</th><th>Conf_68_PosAng</th><th>Conf_95_SemiMajor</th><th>Conf_95_SemiMinor</th><th>Conf_95_PosAng</th><th>ROI_num</th><th>Extended_Source_Name</th><th>Signif_Avg</th><th>Pivot_Energy</th><th>Flux1000</th><th>Unc_Flux1000</th><th>Energy_Flux100</th><th>Unc_Energy_Flux100</th><th>SpectrumType</th><th>PL_Flux_Density</th><th>Unc_PL_Flux_Density</th><th>PL_Index</th><th>Unc_PL_Index</th><th>LP_Flux_Density</th><th>Unc_LP_Flux_Density</th><th>LP_Index</th><th>Unc_LP_Index</th><th>LP_beta</th><th>Unc_LP_beta</th><th>LP_SigCurv</th><th>PLEC_Flux_Density</th><th>Unc_PLEC_Flux_Density</th><th>PLEC_Index</th><th>Unc_PLEC_Index</th><th>PLEC_Expfactor</th><th>Unc_PLEC_Expfactor</th><th>PLEC_Exp_Index</th><th>Unc_PLEC_Exp_Index</th><th>PLEC_SigCurv</th><th>Npred</th><th>Flux_Band</th><th>Unc_Flux_Band</th><th>nuFnu_Band</th><th>Sqrt_TS_Band</th><th>Variability_Index</th><th>Frac_Variability</th><th>Unc_Frac_Variability</th><th>Signif_Peak</th><th>Flux_Peak</th><th>Unc_Flux_Peak</th><th>Time_Peak</th><th>Peak_Interval</th><th>Flux_History</th><th>Unc_Flux_History</th><th>Sqrt_TS_History</th><th>Variability2_Index</th><th>Frac2_Variability</th><th>Unc_Frac2_Variability</th><th>Signif2_Peak</th><th>Flux2_Peak</th><th>Unc_Flux2_Peak</th><th>Time2_Peak</th><th>Peak2_Interval</th><th>Flux2_History</th><th>Unc_Flux2_History</th><th>Sqrt_TS2_History</th><th>ASSOC_FGL</th><th>ASSOC_FHL</th><th>ASSOC_GAM1</th><th>ASSOC_GAM2</th><th>ASSOC_GAM3</th><th>TEVCAT_FLAG</th><th>ASSOC_TEV</th><th>CLASS1</th><th>CLASS2</th><th>ASSOC1</th><th>ASSOC2</th><th>ASSOC_PROB_BAY</th><th>ASSOC_PROB_LR</th><th>RA_Counterpart</th><th>DEC_Counterpart</th><th>Unc_Counterpart</th><th>Flags</th></tr></thead>\n",
       "<thead><tr><th></th><th>deg</th><th>deg</th><th>deg</th><th>deg</th><th>deg</th><th>deg</th><th>deg</th><th>deg</th><th>deg</th><th>deg</th><th></th><th></th><th></th><th>MeV</th><th>ph / (s cm2)</th><th>ph / (s cm2)</th><th>erg / (s cm2)</th><th>erg / (s cm2)</th><th></th><th>ph / (MeV s cm2)</th><th>ph / (MeV s cm2)</th><th></th><th></th><th>ph / (MeV s cm2)</th><th>ph / (MeV s cm2)</th><th></th><th></th><th></th><th></th><th></th><th>ph / (MeV s cm2)</th><th>ph / (MeV s cm2)</th><th></th><th></th><th></th><th></th><th></th><th></th><th></th><th></th><th>ph / (s cm2)</th><th>ph / (s cm2)</th><th>erg / (s cm2)</th><th></th><th></th><th></th><th></th><th></th><th>ph / (s cm2)</th><th>ph / (s cm2)</th><th>s</th><th>s</th><th>ph / (s cm2)</th><th>ph / (s cm2)</th><th></th><th></th><th></th><th></th><th></th><th>ph / (s cm2)</th><th>ph / (s cm2)</th><th>s</th><th>s</th><th>ph / (s cm2)</th><th>ph / (s cm2)</th><th></th><th></th><th></th><th></th><th></th><th></th><th></th><th></th><th></th><th></th><th></th><th></th><th></th><th></th><th>deg</th><th>deg</th><th>deg</th><th></th></tr></thead>\n",
       "<thead><tr><th>bytes18</th><th>float32</th><th>float32</th><th>float32</th><th>float32</th><th>float32</th><th>float32</th><th>float32</th><th>float32</th><th>float32</th><th>float32</th><th>int16</th><th>bytes18</th><th>float32</th><th>float32</th><th>float32</th><th>float32</th><th>float32</th><th>float32</th><th>bytes17</th><th>float32</th><th>float32</th><th>float32</th><th>float32</th><th>float32</th><th>float32</th><th>float32</th><th>float32</th><th>float32</th><th>float32</th><th>float32</th><th>float32</th><th>float32</th><th>float32</th><th>float32</th><th>float32</th><th>float32</th><th>float32</th><th>float32</th><th>float32</th><th>float32</th><th>float32[7]</th><th>float32[7,2]</th><th>float32[7]</th><th>float32[7]</th><th>float32</th><th>float32</th><th>float32</th><th>float32</th><th>float32</th><th>float32</th><th>float64</th><th>float32</th><th>float32[8]</th><th>float32[8,2]</th><th>float32[8]</th><th>float32</th><th>float32</th><th>float32</th><th>float32</th><th>float32</th><th>float32</th><th>float64</th><th>float32</th><th>float32[48]</th><th>float32[48,2]</th><th>float32[48]</th><th>bytes18</th><th>bytes18</th><th>bytes18</th><th>bytes18</th><th>bytes18</th><th>bytes1</th><th>bytes26</th><th>bytes5</th><th>bytes5</th><th>bytes28</th><th>bytes26</th><th>float32</th><th>float32</th><th>float64</th><th>float64</th><th>float32</th><th>int16</th></tr></thead>\n",
       "<tr><td>4FGL J1229.0+0202</td><td>187.2675</td><td>2.0454</td><td>289.9305</td><td>64.3510</td><td>0.0090</td><td>0.0088</td><td>88.230</td><td>0.0146</td><td>0.0143</td><td>88.230</td><td>1208</td><td></td><td>135.872</td><td>279.05</td><td>6.2881e-09</td><td>1.4483e-10</td><td>1.2873e-10</td><td>1.5582e-12</td><td>LogParabola</td><td>3.6662e-10</td><td>4.4482e-12</td><td>2.7049</td><td>0.0109</td><td>3.9371e-10</td><td>5.4815e-12</td><td>2.6083</td><td>0.0156</td><td>0.0917</td><td>0.0093</td><td>8.696</td><td>3.8336e-10</td><td>5.0600e-12</td><td>2.4512</td><td>0.0291</td><td>0.00511</td><td>0.00057</td><td>0.6667</td><td>--</td><td>8.878</td><td>15287.06</td><td>6.1187336e-07 .. 3.3676237e-12</td><td>-3.736698e-08 .. 4.8877387e-12</td><td>9.664999e-11 .. 1.10055973e-13</td><td>18.304876 .. 1.9060148</td><td>6361.0679</td><td>0.9583</td><td>0.2563</td><td>125.509</td><td>1.0176407e-06</td><td>1.35996805e-08</td><td>286670016.0</td><td>31560000.0</td><td>4.975151e-07 .. 2.9988996e-07</td><td>-8.881011e-09 .. 8.9901055e-09</td><td>86.491905 .. 48.23688</td><td>12153.2773</td><td>1.1640</td><td>0.1204</td><td>99.685</td><td>2.0882555e-06</td><td>3.5279548e-08</td><td>273520000.0</td><td>5260000.0</td><td>6.503525e-07 .. 1.6970517e-07</td><td>-2.0927224e-08 .. 1.7773973e-08</td><td>47.125755 .. 12.778085</td><td>3FGL J1229.1+0202</td><td>3FHL J1229.2+0201</td><td>J1228+0154</td><td>3EG J1229+0210</td><td>EGR J1229+0203</td><td>N</td><td></td><td>FSRQ</td><td></td><td>3C 273</td><td></td><td>1.0000</td><td>0.9998</td><td>187.2779</td><td>2.0524</td><td>0.00000</td><td>0</td></tr>\n",
       "</table></div>"
      ],
      "text/plain": [
       "<Table length=1>\n",
       "   Source_Name     RAJ2000  DEJ2000  ... DEC_Counterpart Unc_Counterpart Flags\n",
       "                     deg      deg    ...       deg             deg            \n",
       "     bytes18       float32  float32  ...     float64         float32     int16\n",
       "------------------ -------- -------- ... --------------- --------------- -----\n",
       "4FGL J1229.0+0202  187.2675   2.0454 ...          2.0524         0.00000     0"
      ]
     },
     "execution_count": 21,
     "metadata": {},
     "output_type": "execute_result"
    }
   ],
   "source": [
    "fermi_obj_name = table['ASSOC1']\n",
    "objname_fermi = '3C 273                      ' \n",
    "\n",
    "wg3 = (fermi_obj_name == objname_fermi)\n",
    "print(wg3)\n",
    "\n",
    "table[wg3]"
   ]
  },
  {
   "cell_type": "code",
   "execution_count": 22,
   "metadata": {},
   "outputs": [
    {
     "name": "stdout",
     "output_type": "stream",
     "text": [
      "[70.71067811865477, 173.20508075688772, 547.722557505166, 1732.0508075688772, 5477.2255750516615, 17320.508075688773, 94868.32980505137]\n",
      "[6.032418580202009e-05, 3.9444581008567237e-05, 1.9985055935031054e-05, 7.876183412333475e-06, 2.1914352220642457e-06, 4.573640122290906e-07, 6.869154585044396e-08]\n"
     ]
    }
   ],
   "source": [
    "Obj_3C273_spectra_fermi = []\n",
    "\n",
    "for gal in table[wg3]:\n",
    "    Obj_3C273_spectra_fermi.extend(gal['nuFnu_Band'])\n",
    "\n",
    "#print(Obj_3C111_spectra_fermi)\n",
    "\n",
    "Obj_3C273_spectra_fermi = [i * (624151) for i in Obj_3C273_spectra_fermi] \n",
    "\n",
    "Fermi_Energy_BandMeV = [1000 * math.sqrt(.05*.1), 1000 * math.sqrt(.1*.3), 1000 * math.sqrt(.3*1), 1000 * math.sqrt(1*3), 1000 * math.sqrt(3*10), 1000 * math.sqrt(10*30), 1000 * math.sqrt(30*300)]\n",
    "\n",
    "print(Fermi_Energy_BandMeV)\n",
    "\n",
    "print(Obj_3C273_spectra_fermi)\n",
    "\n",
    "Obj_3C273_spectra_fermi_yerrmin = [3.683985674416204e-06, 8.442139870464601e-07, 3.4609076218712663e-07, 2.422386578232016e-07, 1.908510182080077e-07, 1.4144101766306e-07, 5.172677499143576e-08]\n",
    "Obj_3C273_spectra_fermi_yerrmax = [3.683985674416204e-06, 8.442139870464601e-07, 3.4609076218712663e-07, 2.422386578232016e-07, 1.908510182080077e-07, 1.7405769924002767e-07, 9.969828917995142e-08]"
   ]
  },
  {
   "cell_type": "code",
   "execution_count": 23,
   "metadata": {},
   "outputs": [
    {
     "data": {
      "text/html": [
       "<div><i>Table length=1</i>\n",
       "<table id=\"table2293834026128\" class=\"table-striped table-bordered table-condensed\">\n",
       "<thead><tr><th>Index</th><th>BAT_NAME</th><th>RA</th><th>DEC</th><th>SNR</th><th>COUNTERPART_NAME</th><th>OTHER_NAME</th><th>CTPT_RA</th><th>CTPT_DEC</th><th>FLUX</th><th>FLUX_LO</th><th>FLUX_HI</th><th>CONTA</th><th>GAMMA</th><th>GAMM_lo</th><th>GAMM_hi</th><th>CHI_SQ_R</th><th>REDSHIFT</th><th>LUM</th><th>ASSOC_STREN</th><th>CL2</th><th>TYPE</th><th>Energy_err</th><th>Flux_err</th><th>Flux</th></tr></thead>\n",
       "<thead><tr><th></th><th></th><th>deg</th><th>deg</th><th></th><th></th><th></th><th>deg</th><th>deg</th><th>10^-12er</th><th>10^-12er</th><th>10^-12er</th><th></th><th></th><th></th><th></th><th></th><th></th><th></th><th></th><th></th><th></th><th>keV</th><th>keV / (s cm2)</th><th>keV / (s cm2)</th></tr></thead>\n",
       "<thead><tr><th>int64</th><th>bytes22</th><th>bytes7</th><th>bytes7</th><th>bytes8</th><th>bytes30</th><th>float64</th><th>bytes8</th><th>bytes8</th><th>bytes8</th><th>bytes8</th><th>bytes8</th><th>bytes5</th><th>bytes5</th><th>bytes7</th><th>bytes7</th><th>bytes9</th><th>float64</th><th>float64</th><th>float64</th><th>bytes3</th><th>bytes25</th><th>float64[8]</th><th>float64[8]</th><th>float64[8]</th></tr></thead>\n",
       "<tr><td>619</td><td>SWIFT J1229.1+0202</td><td>187.276</td><td>2.047</td><td>197.62</td><td>3C 273</td><td>0.0</td><td>187.2779</td><td>2.0524</td><td>421.57</td><td>418.49</td><td>424.66</td><td>0.0</td><td>1.75</td><td>1.73</td><td>1.77</td><td>0.70</td><td>0.1583</td><td>46.46</td><td>0.0</td><td>80</td><td>Beamed AGN</td><td>3.0 .. 22.5</td><td>0.000884711219 .. 0.0188428052</td><td>0.0735220909 .. 0.15560098</td></tr>\n",
       "</table></div>"
      ],
      "text/plain": [
       "<Table length=1>\n",
       "Index      BAT_NAME      ...            Flux           \n",
       "                         ...       keV / (s cm2)       \n",
       "int64      bytes22       ...         float64[8]        \n",
       "----- ------------------ ... --------------------------\n",
       "  619 SWIFT J1229.1+0202 ... 0.0735220909 .. 0.15560098"
      ]
     },
     "execution_count": 23,
     "metadata": {},
     "output_type": "execute_result"
    }
   ],
   "source": [
    "obj_name = table1['COUNTERPART_NAME']\n",
    "name = '3C 273'\n",
    "wg2 = (obj_name == name)\n",
    "table1[wg2]"
   ]
  },
  {
   "cell_type": "code",
   "execution_count": 24,
   "metadata": {},
   "outputs": [
    {
     "name": "stdout",
     "output_type": "stream",
     "text": [
      "[0.016733200530681513, 0.021908902300206645, 0.028982753492378877, 0.041833001326703784, 0.06123724356957946, 0.08660254037844387, 0.12247448713915891, 0.1710263137648707]\n",
      "[7.35220909e-05, 7.88383186e-05, 8.4435761e-05, 9.35884714e-05, 0.000100185104, 0.00011159676300000001, 0.000122341111, 0.00015560098]\n",
      "[8.84711219e-07, 1.05392095e-06, 8.95128236e-07, 1.02069112e-06, 1.2564923400000001e-06, 2.2350503100000004e-06, 4.18877369e-06, 1.88428052e-05]\n"
     ]
    }
   ],
   "source": [
    "Obj_3C273_spectra_swift = [] \n",
    "Obj_3C273_spectra_swift_err = []\n",
    "\n",
    "for gal in table1[wg2]:\n",
    "    Obj_3C273_spectra_swift.extend(gal['Flux'])\n",
    "    Obj_3C273_spectra_swift_err.extend(gal['Flux_err'])\n",
    "\n",
    "Bat_Energy_Band = [math.sqrt(14*20), math.sqrt(20*24), math.sqrt(24*35), math.sqrt(35*50), math.sqrt(50*75), math.sqrt(75*100), math.sqrt(100*150), math.sqrt(150*195)]\n",
    "Bat_Energy_BandMeV = [x * .001 for x in Bat_Energy_Band]\n",
    "print(Bat_Energy_BandMeV)\n",
    "\n",
    "\n",
    "Obj_3C273_spectra_swift = [i * (1e-3) for i in Obj_3C273_spectra_swift]\n",
    "Obj_3C273_spectra_swift_err = [i * (1e-3) for i in Obj_3C273_spectra_swift_err]\n",
    "\n",
    "print(Obj_3C273_spectra_swift)\n",
    "print(Obj_3C273_spectra_swift_err)"
   ]
  },
  {
   "cell_type": "code",
   "execution_count": 25,
   "metadata": {},
   "outputs": [],
   "source": [
    "Obj_3C273_COMPTEL_PhotonFlux_075_1MEV3 = 8.5 * (1e-5)\n",
    "Obj_3C273_COMPTEL_PhotonFlux_1_3MEV3 = 14.5 * (1e-5)\n",
    "Obj_3C273_COMPTEL_PhotonFlux_3_10MEV3 = 3.9  * (1e-5)\n",
    "Obj_3C273_COMPTEL_PhotonFlux_10_30MEV3 = 0.6 * (1e-5)\n",
    "\n",
    "Obj_3C273_COMPTEL_EnergyFlux_075_1MEV3 = math.sqrt(0.75) * Obj_3C273_COMPTEL_PhotonFlux_075_1MEV3\n",
    "Obj_3C273_COMPTEL_EnergyFlux_1_3MEV3 = math.sqrt(3) * Obj_3C273_COMPTEL_PhotonFlux_1_3MEV3\n",
    "Obj_3C273_COMPTEL_EnergyFlux_3_10MEV3 = math.sqrt(30) * Obj_3C273_COMPTEL_PhotonFlux_3_10MEV3\n",
    "Obj_3C273_COMPTEL_EnergyFlux_10_30MEV3 = math.sqrt(300) * Obj_3C273_COMPTEL_PhotonFlux_10_30MEV3\n",
    "\n",
    "Obj_3C273_COMPTEL_PhotonFlux_075_1MEV_err3 = 0 * (1e-5)\n",
    "Obj_3C273_COMPTEL_PhotonFlux_1_3MEV_err3 = 2.2 * (1e-5)\n",
    "Obj_3C273_COMPTEL_PhotonFlux_3_10MEV_err3 = 0.9 * (1e-5)\n",
    "Obj_3C273_COMPTEL_PhotonFlux_10_30MEV_err3 = 0.3 * (1e-5)\n",
    "\n",
    "Obj_3C273_COMPTEL_EnergyFlux_075_1MEV_err3 = math.sqrt(0.75) * Obj_3C273_COMPTEL_PhotonFlux_075_1MEV_err3\n",
    "Obj_3C273_COMPTEL_EnergyFlux_1_3MEV_err3 = math.sqrt(3) * Obj_3C273_COMPTEL_PhotonFlux_1_3MEV_err3\n",
    "Obj_3C273_COMPTEL_EnergyFlux_3_10MEV_err3 = math.sqrt(30) * Obj_3C273_COMPTEL_PhotonFlux_3_10MEV_err3\n",
    "Obj_3C273_COMPTEL_EnergyFlux_10_30MEV_err3 = math.sqrt(300) * Obj_3C273_COMPTEL_PhotonFlux_10_30MEV_err3\n",
    "\n",
    "COMPTEL_3C273_EnergyBand_UL3 = [math.sqrt(0.75)]\n",
    "COMPTEL_3C273_EnergyBand3 = [math.sqrt(3), math.sqrt(30), math.sqrt(300)]\n",
    "\n",
    "COMPTEL_3C273_EnergyFlux_UL3 = [Obj_3C273_COMPTEL_EnergyFlux_075_1MEV3]\n",
    "COMPTEL_3C273_EnergyFlux_err3 = [Obj_3C273_COMPTEL_PhotonFlux_1_3MEV_err3, Obj_3C273_COMPTEL_PhotonFlux_3_10MEV_err3, Obj_3C273_COMPTEL_PhotonFlux_10_30MEV_err3]\n",
    "COMPTEL_3C273_EnergyFlux3 = [Obj_3C273_COMPTEL_EnergyFlux_1_3MEV3, Obj_3C273_COMPTEL_EnergyFlux_3_10MEV3, Obj_3C273_COMPTEL_EnergyFlux_10_30MEV3]"
   ]
  },
  {
   "cell_type": "code",
   "execution_count": 26,
   "metadata": {},
   "outputs": [
    {
     "name": "stdout",
     "output_type": "stream",
     "text": [
      "[0.8660254037844386, 1.7320508075688772, 5.477225575051661]\n",
      "[0.00011951150572225254, 0.00018532943640986986, 0.00030672463220289304]\n",
      "[4.1569219381653056e-05, 6.408587988004847e-05, 0.00010406728592598157]\n"
     ]
    }
   ],
   "source": [
    "Obj_3C273_COMPTEL_PhotonFlux_075_1MEV1 = 13.8 * (1e-5)\n",
    "Obj_3C273_COMPTEL_PhotonFlux_1_3MEV1 = 10.7 * (1e-5)\n",
    "Obj_3C273_COMPTEL_PhotonFlux_3_10MEV1 = 5.6 * (1e-5)\n",
    "Obj_3C273_COMPTEL_PhotonFlux_10_30MEV1 = 1.7 * (1e-5)\n",
    "\n",
    "Obj_3C273_COMPTEL_EnergyFlux_075_1MEV1 = math.sqrt(0.75) * Obj_3C273_COMPTEL_PhotonFlux_075_1MEV1\n",
    "Obj_3C273_COMPTEL_EnergyFlux_1_3MEV1 = math.sqrt(3) * Obj_3C273_COMPTEL_PhotonFlux_1_3MEV1\n",
    "Obj_3C273_COMPTEL_EnergyFlux_3_10MEV1 = math.sqrt(30) * Obj_3C273_COMPTEL_PhotonFlux_3_10MEV1\n",
    "Obj_3C273_COMPTEL_EnergyFlux_10_30MEV1 = math.sqrt(300) * Obj_3C273_COMPTEL_PhotonFlux_10_30MEV1\n",
    "\n",
    "Obj_3C273_COMPTEL_PhotonFlux_075_1MEV1_err = 4.8 * (1e-5)\n",
    "Obj_3C273_COMPTEL_PhotonFlux_1_3MEV1_err = 3.7 * (1e-5)\n",
    "Obj_3C273_COMPTEL_PhotonFlux_3_10MEV1_err = 1.9 * (1e-5)\n",
    "#Obj_3C273_COMPTEL_PhotonFlux_10_30MEV1_err = 0 * (1e-5)\n",
    "\n",
    "Obj_3C273_COMPTEL_EnergyFlux_075_1MEV1_err = math.sqrt(0.75) * Obj_3C273_COMPTEL_PhotonFlux_075_1MEV1_err\n",
    "Obj_3C273_COMPTEL_EnergyFlux_1_3MEV1_err = math.sqrt(3) * Obj_3C273_COMPTEL_PhotonFlux_1_3MEV1_err\n",
    "Obj_3C273_COMPTEL_EnergyFlux_3_10MEV1_err = math.sqrt(30) * Obj_3C273_COMPTEL_PhotonFlux_3_10MEV1_err\n",
    "#Obj_3C273_COMPTEL_EnergyFlux_10_30MEV1_err = math.sqrt(300) * Obj_3C273_COMPTEL_PhotonFlux_10_30MEV1_err\n",
    "\n",
    "COMPTEL_EnergyBand = [math.sqrt(0.75), math.sqrt(3), math.sqrt(30)]\n",
    "print(COMPTEL_EnergyBand)\n",
    "\n",
    "Obj_3C273_COMPTEL_EnergyFlux1 = [Obj_3C273_COMPTEL_EnergyFlux_075_1MEV1, Obj_3C273_COMPTEL_EnergyFlux_1_3MEV1, Obj_3C273_COMPTEL_EnergyFlux_3_10MEV1]\n",
    "print(Obj_3C273_COMPTEL_EnergyFlux1)\n",
    "\n",
    "Obj_3C273_COMPTEL_EnergyFlux_err1 = [Obj_3C273_COMPTEL_EnergyFlux_075_1MEV1_err, Obj_3C273_COMPTEL_EnergyFlux_1_3MEV1_err, Obj_3C273_COMPTEL_EnergyFlux_3_10MEV1_err]\n",
    "print(Obj_3C273_COMPTEL_EnergyFlux_err1)"
   ]
  },
  {
   "cell_type": "code",
   "execution_count": 27,
   "metadata": {},
   "outputs": [
    {
     "name": "stdout",
     "output_type": "stream",
     "text": [
      "[0.8660254037844386, 1.7320508075688772, 5.477225575051661]\n",
      "[0.00023902301144450508, 0.00010565509926170151, 6.024948132556828e-05]\n",
      "[8.313843876330611e-05, 3.637306695894642e-05, 2.190890230020665e-05]\n"
     ]
    }
   ],
   "source": [
    "Obj_3C273_COMPTEL_PhotonFlux_075_1MEV2 = 27.6 * (1e-5)\n",
    "Obj_3C273_COMPTEL_PhotonFlux_1_3MEV2 = 6.1 * (1e-5)\n",
    "Obj_3C273_COMPTEL_PhotonFlux_3_10MEV2 = 1.1 * (1e-5)\n",
    "Obj_3C273_COMPTEL_PhotonFlux_10_30MEV2 = 0.08 * (1e-5)\n",
    "\n",
    "Obj_3C273_COMPTEL_EnergyFlux_075_1MEV2 = math.sqrt(0.75) * Obj_3C273_COMPTEL_PhotonFlux_075_1MEV2\n",
    "Obj_3C273_COMPTEL_EnergyFlux_1_3MEV2 = math.sqrt(3) * Obj_3C273_COMPTEL_PhotonFlux_1_3MEV2\n",
    "Obj_3C273_COMPTEL_EnergyFlux_3_10MEV2 = math.sqrt(30) * Obj_3C273_COMPTEL_PhotonFlux_3_10MEV2\n",
    "Obj_3C273_COMPTEL_EnergyFlux_10_30MEV2 = math.sqrt(300) * Obj_3C273_COMPTEL_PhotonFlux_10_30MEV2\n",
    "\n",
    "Obj_3C273_COMPTEL_PhotonFlux_075_1MEV2_err = 9.6 * (1e-5)\n",
    "Obj_3C273_COMPTEL_PhotonFlux_1_3MEV2_err = 2.1 * (1e-5)\n",
    "Obj_3C273_COMPTEL_PhotonFlux_3_10MEV2_err = 0.4 * (1e-5)\n",
    "#Obj_3C273_COMPTEL_PhotonFlux_10_30MEV1_err = 0 * (1e-5)\n",
    "\n",
    "Obj_3C273_COMPTEL_EnergyFlux_075_1MEV2_err = math.sqrt(0.75) * Obj_3C273_COMPTEL_PhotonFlux_075_1MEV2_err\n",
    "Obj_3C273_COMPTEL_EnergyFlux_1_3MEV2_err = math.sqrt(3) * Obj_3C273_COMPTEL_PhotonFlux_1_3MEV2_err\n",
    "Obj_3C273_COMPTEL_EnergyFlux_3_10MEV2_err = math.sqrt(30) * Obj_3C273_COMPTEL_PhotonFlux_3_10MEV2_err\n",
    "#Obj_3C273_COMPTEL_EnergyFlux_10_30MEV1_err = math.sqrt(300) * Obj_3C273_COMPTEL_PhotonFlux_10_30MEV1_err\n",
    "\n",
    "COMPTEL_EnergyBand = [math.sqrt(0.75), math.sqrt(3), math.sqrt(30)]\n",
    "print(COMPTEL_EnergyBand)\n",
    "\n",
    "Obj_3C273_COMPTEL_EnergyFlux2 = [Obj_3C273_COMPTEL_EnergyFlux_075_1MEV2, Obj_3C273_COMPTEL_EnergyFlux_1_3MEV2, Obj_3C273_COMPTEL_EnergyFlux_3_10MEV2]\n",
    "print(Obj_3C273_COMPTEL_EnergyFlux2)\n",
    "\n",
    "Obj_3C273_COMPTEL_EnergyFlux_err2 = [Obj_3C273_COMPTEL_EnergyFlux_075_1MEV2_err, Obj_3C273_COMPTEL_EnergyFlux_1_3MEV2_err, Obj_3C273_COMPTEL_EnergyFlux_3_10MEV2_err]\n",
    "print(Obj_3C273_COMPTEL_EnergyFlux_err2)"
   ]
  },
  {
   "cell_type": "code",
   "execution_count": 28,
   "metadata": {},
   "outputs": [
    {
     "name": "stdout",
     "output_type": "stream",
     "text": [
      "[0.016733200530681513, 0.021908902300206645, 0.028982753492378877, 0.041833001326703784, 0.06123724356957946, 0.08660254037844387, 0.12247448713915891, 0.1710263137648707, 0.8660254037844386, 1.7320508075688772, 5.477225575051661, 70.71067811865477, 173.20508075688772, 547.722557505166, 1732.0508075688772, 5477.2255750516615, 17320.508075688773, 94868.32980505137]\n",
      "[7.35220909e-05, 7.88383186e-05, 8.4435761e-05, 9.35884714e-05, 0.000100185104, 0.00011159676300000001, 0.000122341111, 0.00015560098, 0.00011951150572225254, 0.00018532943640986986, 0.00030672463220289304, 6.032418580202009e-05, 3.9444581008567237e-05, 1.9985055935031054e-05, 7.876183412333475e-06, 2.1914352220642457e-06, 4.573640122290906e-07, 6.869154585044396e-08]\n"
     ]
    }
   ],
   "source": [
    "Energy_Bands = Bat_Energy_BandMeV + COMPTEL_EnergyBand + Fermi_Energy_BandMeV\n",
    "print(Energy_Bands)\n",
    "\n",
    "Spectra_3C273 = Obj_3C273_spectra_swift + Obj_3C273_COMPTEL_EnergyFlux1 + Obj_3C273_spectra_fermi\n",
    "print(Spectra_3C273)\n",
    "\n",
    "Spectra_3C273_minerr = Obj_3C273_spectra_swift_err + Obj_3C273_COMPTEL_EnergyFlux_err1 + Obj_3C273_spectra_fermi_yerrmin\n",
    "\n",
    "Spectra_3C273_maxerr = Obj_3C273_spectra_swift_err + Obj_3C273_COMPTEL_EnergyFlux_err1 + Obj_3C273_spectra_fermi_yerrmax\n",
    "\n",
    "Spectra_3C273_err = [Spectra_3C273_minerr, Spectra_3C273_maxerr]\n",
    "\n",
    "Upper_lim_3C273 = [(math.sqrt(300),Obj_3C273_COMPTEL_EnergyFlux_10_30MEV1)]"
   ]
  },
  {
   "cell_type": "code",
   "execution_count": 29,
   "metadata": {},
   "outputs": [],
   "source": [
    "Obj_3C273_spectra_swift_err = [Obj_3C273_spectra_swift_err, Obj_3C273_spectra_swift_err]\n",
    "Obj_3C273_COMPTEL_EnergyFlux_err1 = [Obj_3C273_COMPTEL_EnergyFlux_err1, Obj_3C273_COMPTEL_EnergyFlux_err1]\n",
    "Obj_3C273_spectra_fermi_yerr = [Obj_3C273_spectra_fermi_yerrmin, Obj_3C273_spectra_fermi_yerrmax]"
   ]
  },
  {
   "cell_type": "code",
   "execution_count": 104,
   "metadata": {},
   "outputs": [
    {
     "data": {
      "text/html": [
       "<div><i>Table length=1</i>\n",
       "<table id=\"table2293896042192\" class=\"table-striped table-bordered table-condensed\">\n",
       "<thead><tr><th>Name</th><th>RAdeg</th><th>DEdeg</th><th>GLON</th><th>GLAT</th><th>ePos</th><th>Signi</th><th>EF30-100</th><th>e_EF30-100</th><th>EF100-300</th><th>e_EF100-300</th><th>F30-100</th><th>e_F30-100</th><th>F100-300</th><th>e_F100-300</th><th>Class1</th><th>z</th><th>Assoc1</th><th>Assoc3FGL</th><th>AssocCOMP</th></tr></thead>\n",
       "<thead><tr><th></th><th>deg</th><th>deg</th><th>deg</th><th>deg</th><th>deg</th><th></th><th>mW / m2</th><th>mW / m2</th><th>mW / m2</th><th>mW / m2</th><th>1/cm2/s</th><th>1/cm2/s</th><th>1/cm2/s</th><th>1/cm2/s</th><th></th><th></th><th></th><th></th><th></th></tr></thead>\n",
       "<thead><tr><th>bytes15</th><th>float64</th><th>float64</th><th>float64</th><th>float64</th><th>float64</th><th>float64</th><th>float64</th><th>float64</th><th>float64</th><th>float64</th><th>float64</th><th>float64</th><th>float64</th><th>float64</th><th>bytes5</th><th>float64</th><th>bytes18</th><th>bytes18</th><th>bytes23</th></tr></thead>\n",
       "<tr><td>1FLE J1227+0218</td><td>186.971298</td><td>2.308913</td><td>289.132965</td><td>64.547798</td><td>0.243569</td><td>31.050</td><td>6.490310e-11</td><td>1.439090e-11</td><td>3.745700e-11</td><td>1.063370e-11</td><td>7.790260e-07</td><td>1.727320e-07</td><td>2.470080e-07</td><td>4.046980e-08</td><td>fsrq</td><td>0.158000</td><td>3FGL J1229.1+0202</td><td>3FGL J1229.1+0202</td><td>3C273</td></tr>\n",
       "</table></div>"
      ],
      "text/plain": [
       "<Table length=1>\n",
       "      Name        RAdeg    ...     Assoc3FGL             AssocCOMP       \n",
       "                   deg     ...                                           \n",
       "    bytes15      float64   ...      bytes18               bytes23        \n",
       "--------------- ---------- ... ------------------ -----------------------\n",
       "1FLE J1227+0218 186.971298 ... 3FGL J1229.1+0202  3C273                  "
      ]
     },
     "execution_count": 104,
     "metadata": {},
     "output_type": "execute_result"
    }
   ],
   "source": [
    "FLE_obj_name = bright_FLE['AssocCOMP']\n",
    "obj_name_COMP = '3C273                  '\n",
    "\n",
    "wg9 = (obj_name_COMP == FLE_obj_name)\n",
    "#print(wg9)\n",
    "\n",
    "bright_FLE[wg9]"
   ]
  },
  {
   "cell_type": "code",
   "execution_count": 31,
   "metadata": {},
   "outputs": [
    {
     "name": "stdout",
     "output_type": "stream",
     "text": [
      "[6.49031e-11]\n",
      "[1.43909e-11]\n",
      "[3.7457e-11]\n",
      "[1.06337e-11]\n",
      "[4.0509334768099995e-05, 2.3378824007e-05]\n",
      "[8.982094625899999e-06, 6.6370344887e-06]\n",
      "[54.772255750516614, 173.20508075688772]\n"
     ]
    }
   ],
   "source": [
    "EFBucket30_100 = []\n",
    "EFBucket30_100e = []\n",
    "EFBucket100_300 = []\n",
    "EFBucket100_300e = []\n",
    "\n",
    "for gal in bright_FLE[wg9]:\n",
    "    EFBucket30_100.append(gal['EF30-100'])\n",
    "    EFBucket30_100e.append(gal['e_EF30-100'])\n",
    "    EFBucket100_300.append(gal['EF100-300'])\n",
    "    EFBucket100_300e.append(gal['e_EF100-300'])\n",
    "\n",
    "print(EFBucket30_100)\n",
    "print(EFBucket30_100e)\n",
    "print(EFBucket100_300)\n",
    "print(EFBucket100_300e)\n",
    "\n",
    "EF_FLE = EFBucket30_100 + EFBucket100_300\n",
    "EF_FLEe = EFBucket30_100e + EFBucket100_300e\n",
    "\n",
    "EF_FLE = [624151 * x for x in EF_FLE]\n",
    "EF_FLEe = [624151 * x for x in EF_FLEe]\n",
    "\n",
    "\n",
    "print(EF_FLE)\n",
    "print(EF_FLEe)\n",
    "\n",
    "EBucket30_100 = math.sqrt(30*100)\n",
    "EBucket100_300 = math.sqrt(100*300)\n",
    "\n",
    "EBuckets = [EBucket30_100, EBucket100_300]\n",
    "print(EBuckets)"
   ]
  },
  {
   "cell_type": "code",
   "execution_count": 32,
   "metadata": {},
   "outputs": [
    {
     "data": {
      "text/plain": [
       "Text(0.5, 1.0, '3C 273')"
      ]
     },
     "execution_count": 32,
     "metadata": {},
     "output_type": "execute_result"
    },
    {
     "data": {
      "image/png": "[encoded data removed]",
      "text/plain": [
       "<Figure size 640x480 with 1 Axes>"
      ]
     },
     "metadata": {},
     "output_type": "display_data"
    }
   ],
   "source": [
    "plt.errorbar(Bat_Energy_BandMeV, Obj_3C273_spectra_swift, yerr = Obj_3C273_spectra_swift_err, fmt = 'o', markersize = 3, color = 'blue', label = 'Swift')\n",
    "plt.errorbar(COMPTEL_EnergyBand, Obj_3C273_COMPTEL_EnergyFlux1, yerr = Obj_3C273_COMPTEL_EnergyFlux_err1, fmt = 'o', markersize = 3, color = 'orange', label = 'COMPTEL - Hermsen, 1993')\n",
    "plt.errorbar(COMPTEL_EnergyBand, Obj_3C273_COMPTEL_EnergyFlux2, yerr = Obj_3C273_COMPTEL_EnergyFlux_err2, fmt = 'o', markersize = 3, color = 'green', label = 'COMPTEL - Williams, 1995')\n",
    "plt.errorbar(COMPTEL_3C273_EnergyBand3, COMPTEL_3C273_EnergyFlux3, yerr = COMPTEL_3C273_EnergyFlux_err3, fmt = 'o', markersize = 3, color = 'purple', label = 'COMPTEL - Phase I to III')\n",
    "plt.scatter(math.sqrt(300),Obj_3C273_COMPTEL_EnergyFlux_10_30MEV2, marker = r'$\\downarrow$', color = 'green')\n",
    "plt.scatter(math.sqrt(300),Obj_3C273_COMPTEL_EnergyFlux_10_30MEV1, marker = r'$\\downarrow$', color = 'orange')\n",
    "plt.scatter(math.sqrt(0.75), Obj_3C273_COMPTEL_EnergyFlux_075_1MEV3, marker = r'$\\downarrow$', color = 'purple')\n",
    "plt.errorbar(Fermi_Energy_BandMeV, Obj_3C273_spectra_fermi, yerr = Obj_3C273_spectra_fermi_yerr, fmt = 'o', markersize = 3, color = 'red', label = 'Fermi')\n",
    "plt.errorbar(EBuckets, EF_FLE, yerr = EF_FLEe, fmt = 'o', markersize = 3, color = 'teal', label = '1FLE')\n",
    "plt.legend(loc='lower left')\n",
    "plt.xscale('log')\n",
    "plt.yscale('log')\n",
    "plt.xlabel('E (MeV)')\n",
    "plt.ylabel('Flux (MeV s^-1 cm^-2)')\n",
    "plt.title('3C 273')"
   ]
  },
  {
   "cell_type": "markdown",
   "metadata": {},
   "source": [
    "# 3C 279"
   ]
  },
  {
   "cell_type": "code",
   "execution_count": 33,
   "metadata": {},
   "outputs": [
    {
     "name": "stdout",
     "output_type": "stream",
     "text": [
      "[False False False ... False False False]\n"
     ]
    },
    {
     "data": {
      "text/html": [
       "<div><i>Table length=1</i>\n",
       "<table id=\"table2293845429840\" class=\"table-striped table-bordered table-condensed\">\n",
       "<thead><tr><th>Source_Name</th><th>RAJ2000</th><th>DEJ2000</th><th>GLON</th><th>GLAT</th><th>Conf_68_SemiMajor</th><th>Conf_68_SemiMinor</th><th>Conf_68_PosAng</th><th>Conf_95_SemiMajor</th><th>Conf_95_SemiMinor</th><th>Conf_95_PosAng</th><th>ROI_num</th><th>Extended_Source_Name</th><th>Signif_Avg</th><th>Pivot_Energy</th><th>Flux1000</th><th>Unc_Flux1000</th><th>Energy_Flux100</th><th>Unc_Energy_Flux100</th><th>SpectrumType</th><th>PL_Flux_Density</th><th>Unc_PL_Flux_Density</th><th>PL_Index</th><th>Unc_PL_Index</th><th>LP_Flux_Density</th><th>Unc_LP_Flux_Density</th><th>LP_Index</th><th>Unc_LP_Index</th><th>LP_beta</th><th>Unc_LP_beta</th><th>LP_SigCurv</th><th>PLEC_Flux_Density</th><th>Unc_PLEC_Flux_Density</th><th>PLEC_Index</th><th>Unc_PLEC_Index</th><th>PLEC_Expfactor</th><th>Unc_PLEC_Expfactor</th><th>PLEC_Exp_Index</th><th>Unc_PLEC_Exp_Index</th><th>PLEC_SigCurv</th><th>Npred</th><th>Flux_Band</th><th>Unc_Flux_Band</th><th>nuFnu_Band</th><th>Sqrt_TS_Band</th><th>Variability_Index</th><th>Frac_Variability</th><th>Unc_Frac_Variability</th><th>Signif_Peak</th><th>Flux_Peak</th><th>Unc_Flux_Peak</th><th>Time_Peak</th><th>Peak_Interval</th><th>Flux_History</th><th>Unc_Flux_History</th><th>Sqrt_TS_History</th><th>Variability2_Index</th><th>Frac2_Variability</th><th>Unc_Frac2_Variability</th><th>Signif2_Peak</th><th>Flux2_Peak</th><th>Unc_Flux2_Peak</th><th>Time2_Peak</th><th>Peak2_Interval</th><th>Flux2_History</th><th>Unc_Flux2_History</th><th>Sqrt_TS2_History</th><th>ASSOC_FGL</th><th>ASSOC_FHL</th><th>ASSOC_GAM1</th><th>ASSOC_GAM2</th><th>ASSOC_GAM3</th><th>TEVCAT_FLAG</th><th>ASSOC_TEV</th><th>CLASS1</th><th>CLASS2</th><th>ASSOC1</th><th>ASSOC2</th><th>ASSOC_PROB_BAY</th><th>ASSOC_PROB_LR</th><th>RA_Counterpart</th><th>DEC_Counterpart</th><th>Unc_Counterpart</th><th>Flags</th></tr></thead>\n",
       "<thead><tr><th></th><th>deg</th><th>deg</th><th>deg</th><th>deg</th><th>deg</th><th>deg</th><th>deg</th><th>deg</th><th>deg</th><th>deg</th><th></th><th></th><th></th><th>MeV</th><th>ph / (s cm2)</th><th>ph / (s cm2)</th><th>erg / (s cm2)</th><th>erg / (s cm2)</th><th></th><th>ph / (MeV s cm2)</th><th>ph / (MeV s cm2)</th><th></th><th></th><th>ph / (MeV s cm2)</th><th>ph / (MeV s cm2)</th><th></th><th></th><th></th><th></th><th></th><th>ph / (MeV s cm2)</th><th>ph / (MeV s cm2)</th><th></th><th></th><th></th><th></th><th></th><th></th><th></th><th></th><th>ph / (s cm2)</th><th>ph / (s cm2)</th><th>erg / (s cm2)</th><th></th><th></th><th></th><th></th><th></th><th>ph / (s cm2)</th><th>ph / (s cm2)</th><th>s</th><th>s</th><th>ph / (s cm2)</th><th>ph / (s cm2)</th><th></th><th></th><th></th><th></th><th></th><th>ph / (s cm2)</th><th>ph / (s cm2)</th><th>s</th><th>s</th><th>ph / (s cm2)</th><th>ph / (s cm2)</th><th></th><th></th><th></th><th></th><th></th><th></th><th></th><th></th><th></th><th></th><th></th><th></th><th></th><th></th><th>deg</th><th>deg</th><th>deg</th><th></th></tr></thead>\n",
       "<thead><tr><th>bytes18</th><th>float32</th><th>float32</th><th>float32</th><th>float32</th><th>float32</th><th>float32</th><th>float32</th><th>float32</th><th>float32</th><th>float32</th><th>int16</th><th>bytes18</th><th>float32</th><th>float32</th><th>float32</th><th>float32</th><th>float32</th><th>float32</th><th>bytes17</th><th>float32</th><th>float32</th><th>float32</th><th>float32</th><th>float32</th><th>float32</th><th>float32</th><th>float32</th><th>float32</th><th>float32</th><th>float32</th><th>float32</th><th>float32</th><th>float32</th><th>float32</th><th>float32</th><th>float32</th><th>float32</th><th>float32</th><th>float32</th><th>float32</th><th>float32[7]</th><th>float32[7,2]</th><th>float32[7]</th><th>float32[7]</th><th>float32</th><th>float32</th><th>float32</th><th>float32</th><th>float32</th><th>float32</th><th>float64</th><th>float32</th><th>float32[8]</th><th>float32[8,2]</th><th>float32[8]</th><th>float32</th><th>float32</th><th>float32</th><th>float32</th><th>float32</th><th>float32</th><th>float64</th><th>float32</th><th>float32[48]</th><th>float32[48,2]</th><th>float32[48]</th><th>bytes18</th><th>bytes18</th><th>bytes18</th><th>bytes18</th><th>bytes18</th><th>bytes1</th><th>bytes26</th><th>bytes5</th><th>bytes5</th><th>bytes28</th><th>bytes26</th><th>float32</th><th>float32</th><th>float64</th><th>float64</th><th>float32</th><th>int16</th></tr></thead>\n",
       "<tr><td>4FGL J1256.1-0547</td><td>194.0415</td><td>-5.7887</td><td>305.0952</td><td>57.0632</td><td>0.0054</td><td>0.0054</td><td>-80.290</td><td>0.0088</td><td>0.0088</td><td>-80.290</td><td>350</td><td></td><td>200.439</td><td>441.99</td><td>2.4531e-08</td><td>2.8454e-10</td><td>2.7903e-10</td><td>2.6584e-12</td><td>LogParabola</td><td>2.1955e-10</td><td>1.8581e-12</td><td>2.3381</td><td>0.0066</td><td>2.3595e-10</td><td>2.2839e-12</td><td>2.2534</td><td>0.0093</td><td>0.0699</td><td>0.0048</td><td>12.667</td><td>2.2823e-10</td><td>2.0762e-12</td><td>2.1557</td><td>0.0149</td><td>0.00235</td><td>0.00018</td><td>0.6667</td><td>--</td><td>12.640</td><td>25713.41</td><td>5.879691e-07 .. 6.7262994e-11</td><td>-3.280813e-08 .. 1.6311114e-11</td><td>9.420267e-11 .. 2.5494641e-12</td><td>7.1564097 .. 12.653219</td><td>5667.2402</td><td>0.5543</td><td>0.1483</td><td>126.090</td><td>8.884944e-07</td><td>1.1771937e-08</td><td>444470016.0</td><td>31560000.0</td><td>6.327132e-07 .. 3.987742e-07</td><td>-9.104593e-09 .. 8.88e-09</td><td>115.81551 .. 71.96925</td><td>16261.5596</td><td>0.9023</td><td>0.0933</td><td>135.737</td><td>2.523134e-06</td><td>3.3842028e-08</td><td>457620000.0</td><td>5260000.0</td><td>3.194375e-07 .. 2.8929236e-07</td><td>-1.5916243e-08 .. 1.7506382e-08</td><td>31.13378 .. 24.628963</td><td>3FGL J1256.1-0547</td><td>3FHL J1256.1-0547</td><td>J1255-0543</td><td>3EG J1255-0549</td><td>EGR J1256-0552</td><td>P</td><td>3C 279</td><td>FSRQ</td><td></td><td>3C 279</td><td></td><td>1.0000</td><td>1.0000</td><td>194.0465</td><td>-5.7893</td><td>0.00000</td><td>0</td></tr>\n",
       "</table></div>"
      ],
      "text/plain": [
       "<Table length=1>\n",
       "   Source_Name     RAJ2000  DEJ2000  ... DEC_Counterpart Unc_Counterpart Flags\n",
       "                     deg      deg    ...       deg             deg            \n",
       "     bytes18       float32  float32  ...     float64         float32     int16\n",
       "------------------ -------- -------- ... --------------- --------------- -----\n",
       "4FGL J1256.1-0547  194.0415  -5.7887 ...         -5.7893         0.00000     0"
      ]
     },
     "execution_count": 33,
     "metadata": {},
     "output_type": "execute_result"
    }
   ],
   "source": [
    "fermi_obj_name = table['ASSOC1']\n",
    "objname_fermi = '3C 279                      ' \n",
    "\n",
    "wg4 = (fermi_obj_name == objname_fermi)\n",
    "print(wg4)\n",
    "\n",
    "table[wg4]"
   ]
  },
  {
   "cell_type": "code",
   "execution_count": 34,
   "metadata": {},
   "outputs": [
    {
     "name": "stdout",
     "output_type": "stream",
     "text": [
      "[70.71067811865477, 173.20508075688772, 547.722557505166, 1732.0508075688772, 5477.2255750516615, 17320.508075688773, 94868.32980505137]\n",
      "[5.879669283001543e-05, 5.39692442235451e-05, 4.3085094015155034e-05, 2.878121231601055e-05, 1.6502839048320242e-05, 6.3296842085771785e-06, 1.5912505749969552e-06]\n"
     ]
    }
   ],
   "source": [
    "Obj_3C279_spectra_fermi = []\n",
    "\n",
    "for gal in table[wg4]:\n",
    "    Obj_3C279_spectra_fermi.extend(gal['nuFnu_Band'])\n",
    "\n",
    "#print(Obj_3C111_spectra_fermi)\n",
    "\n",
    "Obj_3C279_spectra_fermi = [i * (624151) for i in Obj_3C279_spectra_fermi] \n",
    "\n",
    "Fermi_Energy_BandMeV = [1000 * math.sqrt(.05*.1), 1000 * math.sqrt(.1*.3), 1000 * math.sqrt(.3*1), 1000 * math.sqrt(1*3), 1000 * math.sqrt(3*10), 1000 * math.sqrt(10*30), 1000 * math.sqrt(30*300)]\n",
    "\n",
    "print(Fermi_Energy_BandMeV)\n",
    "\n",
    "print(Obj_3C279_spectra_fermi)\n",
    "\n",
    "Obj_3C279_spectra_fermi_yerrmin = [3.280801068787295e-06, 1.851202804100966e-06, 5.377148153459105e-07, 4.6769907030168095e-07, 5.061720321495916e-07, 5.602445868928751e-07, 3.33107145009321e-07]\n",
    "Obj_3C279_spectra_fermi_yerrmax = [3.280801068787295e-06, 1.851202804100966e-06, 5.377148153459105e-07, 4.6769907030168095e-07, 5.061720321495916e-07, 5.602445868928751e-07, 3.858744356349483e-07]"
   ]
  },
  {
   "cell_type": "code",
   "execution_count": 35,
   "metadata": {},
   "outputs": [
    {
     "data": {
      "text/html": [
       "<div><i>Table length=1</i>\n",
       "<table id=\"table2293835177424\" class=\"table-striped table-bordered table-condensed\">\n",
       "<thead><tr><th>Index</th><th>BAT_NAME</th><th>RA</th><th>DEC</th><th>SNR</th><th>COUNTERPART_NAME</th><th>OTHER_NAME</th><th>CTPT_RA</th><th>CTPT_DEC</th><th>FLUX</th><th>FLUX_LO</th><th>FLUX_HI</th><th>CONTA</th><th>GAMMA</th><th>GAMM_lo</th><th>GAMM_hi</th><th>CHI_SQ_R</th><th>REDSHIFT</th><th>LUM</th><th>ASSOC_STREN</th><th>CL2</th><th>TYPE</th><th>Energy_err</th><th>Flux_err</th><th>Flux</th></tr></thead>\n",
       "<thead><tr><th></th><th></th><th>deg</th><th>deg</th><th></th><th></th><th></th><th>deg</th><th>deg</th><th>10^-12er</th><th>10^-12er</th><th>10^-12er</th><th></th><th></th><th></th><th></th><th></th><th></th><th></th><th></th><th></th><th></th><th>keV</th><th>keV / (s cm2)</th><th>keV / (s cm2)</th></tr></thead>\n",
       "<thead><tr><th>int64</th><th>bytes22</th><th>bytes7</th><th>bytes7</th><th>bytes8</th><th>bytes30</th><th>float64</th><th>bytes8</th><th>bytes8</th><th>bytes8</th><th>bytes8</th><th>bytes8</th><th>bytes5</th><th>bytes5</th><th>bytes7</th><th>bytes7</th><th>bytes9</th><th>float64</th><th>float64</th><th>float64</th><th>bytes3</th><th>bytes25</th><th>float64[8]</th><th>float64[8]</th><th>float64[8]</th></tr></thead>\n",
       "<tr><td>645</td><td>SWIFT J1256.2-0551</td><td>194.053</td><td>-5.799</td><td>12.29</td><td>3C 279</td><td>0.0</td><td>194.0465</td><td>-5.7893</td><td>38.82</td><td>34.66</td><td>42.49</td><td>0.0</td><td>1.32</td><td>1.09</td><td>1.54</td><td>1.20</td><td>0.5362</td><td>46.64</td><td>0.0</td><td>80</td><td>Beamed AGN</td><td>3.0 .. 22.5</td><td>0.00098094705 .. 0.0198482554</td><td>0.0032997462 .. -0.00611037342</td></tr>\n",
       "</table></div>"
      ],
      "text/plain": [
       "<Table length=1>\n",
       "Index      BAT_NAME      ...              Flux             \n",
       "                         ...         keV / (s cm2)         \n",
       "int64      bytes22       ...           float64[8]          \n",
       "----- ------------------ ... ------------------------------\n",
       "  645 SWIFT J1256.2-0551 ... 0.0032997462 .. -0.00611037342"
      ]
     },
     "execution_count": 35,
     "metadata": {},
     "output_type": "execute_result"
    }
   ],
   "source": [
    "obj_name = table1['COUNTERPART_NAME']\n",
    "name = '3C 279'\n",
    "wg2 = (obj_name == name)\n",
    "table1[wg2]"
   ]
  },
  {
   "cell_type": "code",
   "execution_count": 36,
   "metadata": {},
   "outputs": [
    {
     "name": "stdout",
     "output_type": "stream",
     "text": [
      "[0.016733200530681513, 0.021908902300206645, 0.028982753492378877, 0.041833001326703784, 0.06123724356957946, 0.08660254037844387, 0.12247448713915891, 0.1710263137648707]\n",
      "[3.2997462000000002e-06, 4.36917087e-06, 6.35640323e-06, 7.06777116e-06, 7.05165602e-06, 1.2285606899999999e-05, 2.02630442e-05, -6.11037342e-06]\n",
      "[9.8094705e-07, 1.08851376e-06, 9.48345696e-07, 1.0645842400000002e-06, 1.28471444e-06, 2.3395870799999997e-06, 4.34819609e-06, 1.98482554e-05]\n"
     ]
    }
   ],
   "source": [
    "Obj_3C279_spectra_swift = [] \n",
    "Obj_3C279_spectra_swift_err = []\n",
    "\n",
    "for gal in table1[wg2]:\n",
    "    Obj_3C279_spectra_swift.extend(gal['Flux'])\n",
    "    Obj_3C279_spectra_swift_err.extend(gal['Flux_err'])\n",
    "\n",
    "Bat_Energy_Band = [math.sqrt(14*20), math.sqrt(20*24), math.sqrt(24*35), math.sqrt(35*50), math.sqrt(50*75), math.sqrt(75*100), math.sqrt(100*150), math.sqrt(150*195)]\n",
    "Bat_Energy_BandMeV = [x * .001 for x in Bat_Energy_Band]\n",
    "print(Bat_Energy_BandMeV)\n",
    "\n",
    "\n",
    "Obj_3C279_spectra_swift = [i * (1e-3) for i in Obj_3C279_spectra_swift]\n",
    "Obj_3C279_spectra_swift_err = [i * (1e-3) for i in Obj_3C279_spectra_swift_err]\n",
    "\n",
    "print(Obj_3C279_spectra_swift)\n",
    "print(Obj_3C279_spectra_swift_err)"
   ]
  },
  {
   "cell_type": "code",
   "execution_count": 37,
   "metadata": {},
   "outputs": [
    {
     "name": "stdout",
     "output_type": "stream",
     "text": [
      "[5.477225575051661]\n",
      "[0.00013800000000000002]\n",
      "[9e-06]\n"
     ]
    }
   ],
   "source": [
    "Obj_3C279_COMPTEL_PhotonFlux_3_10MEV = 13.8 * (1e-5)\n",
    "Obj_3C279_COMPTEL_PhotonFlux_10_30MEV = 2.9 * (1e-5)\n",
    "\n",
    "Obj_3C279_COMPTEL_EnergyFlux_3_10MEV = math.sqrt(30) * Obj_3C279_COMPTEL_PhotonFlux_3_10MEV\n",
    "Obj_3C279_COMPTEL_EnergyFlux_10_30MEV = math.sqrt(300) * Obj_3C279_COMPTEL_PhotonFlux_10_30MEV\n",
    "\n",
    "\n",
    "Obj_3C279_COMPTEL_PhotonFlux_3_10MEV_err = 0 * (1e-5)\n",
    "Obj_3C279_COMPTEL_PhotonFlux_10_30MEV_err = 0.9 * (1e-5)\n",
    "\n",
    "\n",
    "Obj_3C279_COMPTEL_EnergyFlux_3_10MEV_err = math.sqrt(30) * Obj_3C279_COMPTEL_PhotonFlux_3_10MEV_err\n",
    "#Obj_3C273_COMPTEL_EnergyFlux_10_30MEV1_err = math.sqrt(300) * Obj_3C273_COMPTEL_PhotonFlux_10_30MEV1_err\n",
    "\n",
    "COMPTEL_EnergyBand = [math.sqrt(30)]\n",
    "print(COMPTEL_EnergyBand)\n",
    "\n",
    "Obj_3C279_COMPTEL_EnergyFlux = [Obj_3C279_COMPTEL_PhotonFlux_3_10MEV]\n",
    "print(Obj_3C279_COMPTEL_EnergyFlux)\n",
    "\n",
    "Obj_3C279_COMPTEL_EnergyFlux_err = [Obj_3C279_COMPTEL_PhotonFlux_10_30MEV_err]\n",
    "print(Obj_3C279_COMPTEL_EnergyFlux_err)"
   ]
  },
  {
   "cell_type": "code",
   "execution_count": 38,
   "metadata": {},
   "outputs": [
    {
     "name": "stdout",
     "output_type": "stream",
     "text": [
      "[0.016733200530681513, 0.021908902300206645, 0.028982753492378877, 0.041833001326703784, 0.06123724356957946, 0.08660254037844387, 0.12247448713915891, 0.1710263137648707, 5.477225575051661, 70.71067811865477, 173.20508075688772, 547.722557505166, 1732.0508075688772, 5477.2255750516615, 17320.508075688773, 94868.32980505137]\n",
      "[7.35220909e-05, 7.88383186e-05, 8.4435761e-05, 9.35884714e-05, 0.000100185104, 0.00011159676300000001, 0.000122341111, 0.00015560098, 0.00011951150572225254, 0.00018532943640986986, 0.00030672463220289304, 6.032418580202009e-05, 3.9444581008567237e-05, 1.9985055935031054e-05, 7.876183412333475e-06, 2.1914352220642457e-06, 4.573640122290906e-07, 6.869154585044396e-08]\n"
     ]
    }
   ],
   "source": [
    "Energy_Bands = Bat_Energy_BandMeV + COMPTEL_EnergyBand + Fermi_Energy_BandMeV\n",
    "print(Energy_Bands)\n",
    "\n",
    "Spectra_3C279 = Obj_3C279_spectra_swift + Obj_3C279_COMPTEL_EnergyFlux + Obj_3C279_spectra_fermi\n",
    "print(Spectra_3C273)\n",
    "\n",
    "Spectra_3C279_minerr = Obj_3C279_spectra_swift_err + Obj_3C279_COMPTEL_EnergyFlux_err + Obj_3C279_spectra_fermi_yerrmin\n",
    "\n",
    "Spectra_3C279_maxerr = Obj_3C279_spectra_swift_err + Obj_3C279_COMPTEL_EnergyFlux_err + Obj_3C279_spectra_fermi_yerrmax\n",
    "\n",
    "Obj_3C279_spectra_fermi_yerr = [Obj_3C279_spectra_fermi_yerrmin, Obj_3C279_spectra_fermi_yerrmax]\n",
    "\n",
    "Spectra_3C279_err = [Spectra_3C279_minerr, Spectra_3C279_maxerr]\n",
    "\n",
    "Upper_lim_3C279 = [(math.sqrt(300),Obj_3C279_COMPTEL_EnergyFlux_10_30MEV)]"
   ]
  },
  {
   "cell_type": "code",
   "execution_count": 39,
   "metadata": {},
   "outputs": [
    {
     "name": "stdout",
     "output_type": "stream",
     "text": [
      "[False False False False False False False False False False False False\n",
      " False False False False False False False False False False False False\n",
      " False False False False False False False False False False False False\n",
      " False False False False False False False False False False False False\n",
      " False False False False False False False False False False False False\n",
      " False False False False False False False False False False False False\n",
      " False False False False False False False False False False False False\n",
      " False False False False False False False False False False False False\n",
      " False False False False False False False False False False False False\n",
      " False False False False False False False False False False False False\n",
      " False False False False False False False False False False False False\n",
      " False False False False False False False False False False False False\n",
      " False False False False False False False False False False False False\n",
      " False False False False False False False False False False False False\n",
      " False False False False  True False False False False False False False\n",
      " False False False False False False False False False False False False\n",
      " False False False False False False]\n"
     ]
    },
    {
     "data": {
      "text/html": [
       "<div><i>Table length=1</i>\n",
       "<table id=\"table2295646819472\" class=\"table-striped table-bordered table-condensed\">\n",
       "<thead><tr><th>Name</th><th>RAdeg</th><th>DEdeg</th><th>GLON</th><th>GLAT</th><th>ePos</th><th>Signi</th><th>EF30-100</th><th>e_EF30-100</th><th>EF100-300</th><th>e_EF100-300</th><th>F30-100</th><th>e_F30-100</th><th>F100-300</th><th>e_F100-300</th><th>Class1</th><th>z</th><th>Assoc1</th><th>Assoc3FGL</th><th>AssocCOMP</th></tr></thead>\n",
       "<thead><tr><th></th><th>deg</th><th>deg</th><th>deg</th><th>deg</th><th>deg</th><th></th><th>mW / m2</th><th>mW / m2</th><th>mW / m2</th><th>mW / m2</th><th>1/cm2/s</th><th>1/cm2/s</th><th>1/cm2/s</th><th>1/cm2/s</th><th></th><th></th><th></th><th></th><th></th></tr></thead>\n",
       "<thead><tr><th>bytes15</th><th>float64</th><th>float64</th><th>float64</th><th>float64</th><th>float64</th><th>float64</th><th>float64</th><th>float64</th><th>float64</th><th>float64</th><th>float64</th><th>float64</th><th>float64</th><th>float64</th><th>bytes5</th><th>float64</th><th>bytes18</th><th>bytes18</th><th>bytes23</th></tr></thead>\n",
       "<tr><td>1FLE J1256-0545</td><td>194.023575</td><td>-5.764687</td><td>305.063843</td><td>57.087788</td><td>0.243811</td><td>29.215</td><td>6.282420e-11</td><td>1.392990e-11</td><td>6.463480e-11</td><td>1.921430e-11</td><td>7.540720e-07</td><td>1.671990e-07</td><td>2.390960e-07</td><td>7.312560e-08</td><td>fsrq</td><td>0.536000</td><td>3FGL J1256.1-0547</td><td>3FGL J1256.1-0547</td><td>3C279</td></tr>\n",
       "</table></div>"
      ],
      "text/plain": [
       "<Table length=1>\n",
       "      Name        RAdeg    ...     Assoc3FGL             AssocCOMP       \n",
       "                   deg     ...                                           \n",
       "    bytes15      float64   ...      bytes18               bytes23        \n",
       "--------------- ---------- ... ------------------ -----------------------\n",
       "1FLE J1256-0545 194.023575 ... 3FGL J1256.1-0547  3C279                  "
      ]
     },
     "execution_count": 39,
     "metadata": {},
     "output_type": "execute_result"
    }
   ],
   "source": [
    "FLE_obj_name = bright_FLE['AssocCOMP']\n",
    "obj_name_COMP = '3C279                  '\n",
    "\n",
    "wg9 = (obj_name_COMP == FLE_obj_name)\n",
    "#print(wg9)\n",
    "\n",
    "bright_FLE[wg9]"
   ]
  },
  {
   "cell_type": "code",
   "execution_count": 40,
   "metadata": {},
   "outputs": [
    {
     "name": "stdout",
     "output_type": "stream",
     "text": [
      "[6.28242e-11]\n",
      "[1.39299e-11]\n",
      "[6.46348e-11]\n",
      "[1.92143e-11]\n",
      "[3.92117872542e-05, 4.03418750548e-05]\n",
      "[8.6943610149e-06, 1.19926245593e-05]\n",
      "[54.772255750516614, 173.20508075688772]\n"
     ]
    }
   ],
   "source": [
    "EFBucket30_100 = []\n",
    "EFBucket30_100e = []\n",
    "EFBucket100_300 = []\n",
    "EFBucket100_300e = []\n",
    "\n",
    "for gal in bright_FLE[wg9]:\n",
    "    EFBucket30_100.append(gal['EF30-100'])\n",
    "    EFBucket30_100e.append(gal['e_EF30-100'])\n",
    "    EFBucket100_300.append(gal['EF100-300'])\n",
    "    EFBucket100_300e.append(gal['e_EF100-300'])\n",
    "\n",
    "print(EFBucket30_100)\n",
    "print(EFBucket30_100e)\n",
    "print(EFBucket100_300)\n",
    "print(EFBucket100_300e)\n",
    "\n",
    "EF_FLE = EFBucket30_100 + EFBucket100_300\n",
    "EF_FLEe = EFBucket30_100e + EFBucket100_300e\n",
    "\n",
    "EF_FLE = [624151 * x for x in EF_FLE]\n",
    "EF_FLEe = [624151 * x for x in EF_FLEe]\n",
    "\n",
    "\n",
    "print(EF_FLE)\n",
    "print(EF_FLEe)\n",
    "\n",
    "EBucket30_100 = math.sqrt(30*100)\n",
    "EBucket100_300 = math.sqrt(100*300)\n",
    "\n",
    "EBuckets = [EBucket30_100, EBucket100_300]\n",
    "print(EBuckets)"
   ]
  },
  {
   "cell_type": "code",
   "execution_count": 41,
   "metadata": {},
   "outputs": [
    {
     "data": {
      "text/plain": [
       "Text(0.5, 1.0, 'Spectra of Object 3C 279')"
      ]
     },
     "execution_count": 41,
     "metadata": {},
     "output_type": "execute_result"
    },
    {
     "data": {
      "image/png": "[encoded data removed]",
      "text/plain": [
       "<Figure size 640x480 with 1 Axes>"
      ]
     },
     "metadata": {},
     "output_type": "display_data"
    }
   ],
   "source": [
    "\n",
    "plt.errorbar(Bat_Energy_BandMeV, Obj_3C279_spectra_swift, Obj_3C279_spectra_swift_err, fmt = 'o', markersize = 3, color = 'blue', label = 'Swift')\n",
    "plt.errorbar(COMPTEL_EnergyBand, Obj_3C279_COMPTEL_EnergyFlux, Obj_3C279_COMPTEL_EnergyFlux_err, fmt = 'o', markersize = 3, color = 'orange', label = 'COMPTEL')\n",
    "plt.scatter(math.sqrt(300),Obj_3C279_COMPTEL_EnergyFlux_10_30MEV, marker = r'$\\downarrow$', color = 'orange')\n",
    "plt.errorbar(Fermi_Energy_BandMeV, Obj_3C279_spectra_fermi, Obj_3C279_spectra_fermi_yerr, fmt = 'o', markersize = 3, color = 'red', label = 'Fermi')\n",
    "plt.errorbar(EBuckets, EF_FLE, yerr = EF_FLEe, fmt = 'o', markersize = 3, color = 'purple', label = '1FLE')\n",
    "plt.legend(loc='upper right')\n",
    "plt.xscale('log')\n",
    "plt.yscale('log')\n",
    "plt.xlabel('Energy in MeV')\n",
    "plt.ylabel('Flux (MeV s^-1 cm^-2)')\n",
    "plt.title('Spectra of Object 3C 279')"
   ]
  },
  {
   "cell_type": "markdown",
   "metadata": {},
   "source": [
    "# 3C 454.3 "
   ]
  },
  {
   "cell_type": "code",
   "execution_count": 50,
   "metadata": {},
   "outputs": [
    {
     "name": "stdout",
     "output_type": "stream",
     "text": [
      "[False False False ... False False False]\n"
     ]
    },
    {
     "data": {
      "text/html": [
       "<div><i>Table length=1</i>\n",
       "<table id=\"table2293856719888\" class=\"table-striped table-bordered table-condensed\">\n",
       "<thead><tr><th>Source_Name</th><th>RAJ2000</th><th>DEJ2000</th><th>GLON</th><th>GLAT</th><th>Conf_68_SemiMajor</th><th>Conf_68_SemiMinor</th><th>Conf_68_PosAng</th><th>Conf_95_SemiMajor</th><th>Conf_95_SemiMinor</th><th>Conf_95_PosAng</th><th>ROI_num</th><th>Extended_Source_Name</th><th>Signif_Avg</th><th>Pivot_Energy</th><th>Flux1000</th><th>Unc_Flux1000</th><th>Energy_Flux100</th><th>Unc_Energy_Flux100</th><th>SpectrumType</th><th>PL_Flux_Density</th><th>Unc_PL_Flux_Density</th><th>PL_Index</th><th>Unc_PL_Index</th><th>LP_Flux_Density</th><th>Unc_LP_Flux_Density</th><th>LP_Index</th><th>Unc_LP_Index</th><th>LP_beta</th><th>Unc_LP_beta</th><th>LP_SigCurv</th><th>PLEC_Flux_Density</th><th>Unc_PLEC_Flux_Density</th><th>PLEC_Index</th><th>Unc_PLEC_Index</th><th>PLEC_Expfactor</th><th>Unc_PLEC_Expfactor</th><th>PLEC_Exp_Index</th><th>Unc_PLEC_Exp_Index</th><th>PLEC_SigCurv</th><th>Npred</th><th>Flux_Band</th><th>Unc_Flux_Band</th><th>nuFnu_Band</th><th>Sqrt_TS_Band</th><th>Variability_Index</th><th>Frac_Variability</th><th>Unc_Frac_Variability</th><th>Signif_Peak</th><th>Flux_Peak</th><th>Unc_Flux_Peak</th><th>Time_Peak</th><th>Peak_Interval</th><th>Flux_History</th><th>Unc_Flux_History</th><th>Sqrt_TS_History</th><th>Variability2_Index</th><th>Frac2_Variability</th><th>Unc_Frac2_Variability</th><th>Signif2_Peak</th><th>Flux2_Peak</th><th>Unc_Flux2_Peak</th><th>Time2_Peak</th><th>Peak2_Interval</th><th>Flux2_History</th><th>Unc_Flux2_History</th><th>Sqrt_TS2_History</th><th>ASSOC_FGL</th><th>ASSOC_FHL</th><th>ASSOC_GAM1</th><th>ASSOC_GAM2</th><th>ASSOC_GAM3</th><th>TEVCAT_FLAG</th><th>ASSOC_TEV</th><th>CLASS1</th><th>CLASS2</th><th>ASSOC1</th><th>ASSOC2</th><th>ASSOC_PROB_BAY</th><th>ASSOC_PROB_LR</th><th>RA_Counterpart</th><th>DEC_Counterpart</th><th>Unc_Counterpart</th><th>Flags</th></tr></thead>\n",
       "<thead><tr><th></th><th>deg</th><th>deg</th><th>deg</th><th>deg</th><th>deg</th><th>deg</th><th>deg</th><th>deg</th><th>deg</th><th>deg</th><th></th><th></th><th></th><th>MeV</th><th>ph / (s cm2)</th><th>ph / (s cm2)</th><th>erg / (s cm2)</th><th>erg / (s cm2)</th><th></th><th>ph / (MeV s cm2)</th><th>ph / (MeV s cm2)</th><th></th><th></th><th>ph / (MeV s cm2)</th><th>ph / (MeV s cm2)</th><th></th><th></th><th></th><th></th><th></th><th>ph / (MeV s cm2)</th><th>ph / (MeV s cm2)</th><th></th><th></th><th></th><th></th><th></th><th></th><th></th><th></th><th>ph / (s cm2)</th><th>ph / (s cm2)</th><th>erg / (s cm2)</th><th></th><th></th><th></th><th></th><th></th><th>ph / (s cm2)</th><th>ph / (s cm2)</th><th>s</th><th>s</th><th>ph / (s cm2)</th><th>ph / (s cm2)</th><th></th><th></th><th></th><th></th><th></th><th>ph / (s cm2)</th><th>ph / (s cm2)</th><th>s</th><th>s</th><th>ph / (s cm2)</th><th>ph / (s cm2)</th><th></th><th></th><th></th><th></th><th></th><th></th><th></th><th></th><th></th><th></th><th></th><th></th><th></th><th></th><th>deg</th><th>deg</th><th>deg</th><th></th></tr></thead>\n",
       "<thead><tr><th>bytes18</th><th>float32</th><th>float32</th><th>float32</th><th>float32</th><th>float32</th><th>float32</th><th>float32</th><th>float32</th><th>float32</th><th>float32</th><th>int16</th><th>bytes18</th><th>float32</th><th>float32</th><th>float32</th><th>float32</th><th>float32</th><th>float32</th><th>bytes17</th><th>float32</th><th>float32</th><th>float32</th><th>float32</th><th>float32</th><th>float32</th><th>float32</th><th>float32</th><th>float32</th><th>float32</th><th>float32</th><th>float32</th><th>float32</th><th>float32</th><th>float32</th><th>float32</th><th>float32</th><th>float32</th><th>float32</th><th>float32</th><th>float32</th><th>float32[7]</th><th>float32[7,2]</th><th>float32[7]</th><th>float32[7]</th><th>float32</th><th>float32</th><th>float32</th><th>float32</th><th>float32</th><th>float32</th><th>float64</th><th>float32</th><th>float32[8]</th><th>float32[8,2]</th><th>float32[8]</th><th>float32</th><th>float32</th><th>float32</th><th>float32</th><th>float32</th><th>float32</th><th>float64</th><th>float32</th><th>float32[48]</th><th>float32[48,2]</th><th>float32[48]</th><th>bytes18</th><th>bytes18</th><th>bytes18</th><th>bytes18</th><th>bytes18</th><th>bytes1</th><th>bytes26</th><th>bytes5</th><th>bytes5</th><th>bytes28</th><th>bytes26</th><th>float32</th><th>float32</th><th>float64</th><th>float64</th><th>float32</th><th>int16</th></tr></thead>\n",
       "<tr><td>4FGL J2253.9+1609</td><td>343.4963</td><td>16.1506</td><td>86.1185</td><td>-38.1849</td><td>0.0046</td><td>0.0046</td><td>-53.830</td><td>0.0074</td><td>0.0074</td><td>-53.830</td><td>699</td><td></td><td>443.845</td><td>517.46</td><td>9.8347e-08</td><td>5.9638e-10</td><td>1.1148e-09</td><td>5.3423e-12</td><td>PLSuperExpCutoff</td><td>6.3231e-10</td><td>2.8152e-12</td><td>2.3872</td><td>0.0034</td><td>7.2007e-10</td><td>3.9488e-12</td><td>2.3149</td><td>0.0050</td><td>0.0999</td><td>0.0027</td><td>38.146</td><td>7.0141e-10</td><td>3.5839e-12</td><td>2.0142</td><td>0.0095</td><td>0.01991</td><td>0.00142</td><td>0.5184</td><td>0.0067</td><td>39.508</td><td>72486.00</td><td>2.5202414e-06 .. 6.3178913e-11</td><td>-9.9892794e-08 .. 1.5491015e-11</td><td>4.0201378e-10 .. 1.7561069e-12</td><td>20.126493 .. 13.044973</td><td>50905.2305</td><td>0.8069</td><td>0.2157</td><td>355.842</td><td>5.1103757e-06</td><td>2.8642487e-08</td><td>318230016.0</td><td>31560000.0</td><td>1.1215884e-06 .. 2.3332825e-06</td><td>-1.3649307e-08 .. 2.0764046e-08</td><td>149.57155 .. 214.46951</td><td>132456.5781</td><td>1.2604</td><td>0.1300</td><td>295.682</td><td>1.3344133e-05</td><td>8.290318e-08</td><td>310340000.0</td><td>5260000.0</td><td>3.1720895e-06 .. 3.2216678e-06</td><td>-4.0893774e-08 .. 4.4087955e-08</td><td>137.70451 .. 130.8758</td><td>3FGL J2254.0+1608</td><td>3FHL J2253.9+1608</td><td>J2254+1609</td><td>3EG J2254+1601</td><td>EGR J2253+1606</td><td>N</td><td></td><td>FSRQ</td><td></td><td>3C 454.3</td><td></td><td>1.0000</td><td>0.9996</td><td>343.4906</td><td>16.1482</td><td>0.00000</td><td>0</td></tr>\n",
       "</table></div>"
      ],
      "text/plain": [
       "<Table length=1>\n",
       "   Source_Name     RAJ2000  DEJ2000  ... DEC_Counterpart Unc_Counterpart Flags\n",
       "                     deg      deg    ...       deg             deg            \n",
       "     bytes18       float32  float32  ...     float64         float32     int16\n",
       "------------------ -------- -------- ... --------------- --------------- -----\n",
       "4FGL J2253.9+1609  343.4963  16.1506 ...         16.1482         0.00000     0"
      ]
     },
     "execution_count": 50,
     "metadata": {},
     "output_type": "execute_result"
    }
   ],
   "source": [
    "fermi_obj_name = table['ASSOC1']\n",
    "objname_fermi = '3C 454.3                    ' \n",
    "\n",
    "wg3 = (fermi_obj_name == objname_fermi)\n",
    "print(wg3)\n",
    "\n",
    "table[wg3]"
   ]
  },
  {
   "cell_type": "code",
   "execution_count": 51,
   "metadata": {},
   "outputs": [
    {
     "name": "stdout",
     "output_type": "stream",
     "text": [
      "[70.71067811865477, 173.20508075688772, 547.722557505166, 1732.0508075688772, 5477.2255750516615, 17320.508075688773, 94868.32980505137]\n",
      "[0.00025091730490653386, 0.0002374215940803559, 0.0001840810951458105, 0.00011872551349807747, 5.44828607308076e-05, 1.4361509971047223e-05, 1.096075859119785e-06]\n"
     ]
    }
   ],
   "source": [
    "Obj_3C4543_spectra_fermi = []\n",
    "\n",
    "for gal in table[wg3]:\n",
    "    Obj_3C4543_spectra_fermi.extend(gal['nuFnu_Band'])\n",
    "\n",
    "#print(Obj_3C111_spectra_fermi)\n",
    "\n",
    "Obj_3C4543_spectra_fermi = [i * (624151) for i in Obj_3C4543_spectra_fermi] \n",
    "\n",
    "Fermi_Energy_BandMeV = [1000 * math.sqrt(.05*.1), 1000 * math.sqrt(.1*.3), 1000 * math.sqrt(.3*1), 1000 * math.sqrt(1*3), 1000 * math.sqrt(3*10), 1000 * math.sqrt(10*30), 1000 * math.sqrt(30*300)]\n",
    "\n",
    "print(Fermi_Energy_BandMeV)\n",
    "\n",
    "print(Obj_3C4543_spectra_fermi)\n",
    "\n",
    "Obj_3C4543_spectra_fermi_yerrmin = [9.945408667094008e-06, 3.249965206378238e-06, 1.297116714320647e-06, 1.0125479557778622e-06, 9.045272925008174e-07, 7.843460217252544e-07, 2.3366005750719595e-07]\n",
    "Obj_3C4543_spectra_fermi_yerrmax = [9.945408667094008e-06, 3.249965206378238e-06, 1.297116714320647e-06, 1.0125479557778622e-06, 9.045272925008174e-07, 7.843460217252544e-07, 2.687499129454805e-07]\n",
    "Obj_3C4543_spectra_fermi_yerr = [Obj_3C4543_spectra_fermi_yerrmin, Obj_3C4543_spectra_fermi_yerrmax]"
   ]
  },
  {
   "cell_type": "code",
   "execution_count": 52,
   "metadata": {},
   "outputs": [
    {
     "data": {
      "text/html": [
       "<div><i>Table length=1</i>\n",
       "<table id=\"table2293855285008\" class=\"table-striped table-bordered table-condensed\">\n",
       "<thead><tr><th>Index</th><th>BAT_NAME</th><th>RA</th><th>DEC</th><th>SNR</th><th>COUNTERPART_NAME</th><th>OTHER_NAME</th><th>CTPT_RA</th><th>CTPT_DEC</th><th>FLUX</th><th>FLUX_LO</th><th>FLUX_HI</th><th>CONTA</th><th>GAMMA</th><th>GAMM_lo</th><th>GAMM_hi</th><th>CHI_SQ_R</th><th>REDSHIFT</th><th>LUM</th><th>ASSOC_STREN</th><th>CL2</th><th>TYPE</th><th>Energy_err</th><th>Flux_err</th><th>Flux</th></tr></thead>\n",
       "<thead><tr><th></th><th></th><th>deg</th><th>deg</th><th></th><th></th><th></th><th>deg</th><th>deg</th><th>10^-12er</th><th>10^-12er</th><th>10^-12er</th><th></th><th></th><th></th><th></th><th></th><th></th><th></th><th></th><th></th><th></th><th>keV</th><th>keV / (s cm2)</th><th>keV / (s cm2)</th></tr></thead>\n",
       "<thead><tr><th>int64</th><th>bytes22</th><th>bytes7</th><th>bytes7</th><th>bytes8</th><th>bytes30</th><th>float64</th><th>bytes8</th><th>bytes8</th><th>bytes8</th><th>bytes8</th><th>bytes8</th><th>bytes5</th><th>bytes5</th><th>bytes7</th><th>bytes7</th><th>bytes9</th><th>float64</th><th>float64</th><th>float64</th><th>bytes3</th><th>bytes25</th><th>float64[8]</th><th>float64[8]</th><th>float64[8]</th></tr></thead>\n",
       "<tr><td>1171</td><td>SWIFT J2253.9+1608</td><td>343.485</td><td>16.149</td><td>61.98</td><td>3C 454.3</td><td>0.0</td><td>343.4906</td><td>16.1482</td><td>158.36</td><td>155.57</td><td>161.17</td><td>0.0</td><td>1.50</td><td>1.45</td><td>1.55</td><td>13.00</td><td>0.859</td><td>47.75</td><td>0.0</td><td>80</td><td>Beamed AGN</td><td>3.0 .. 22.5</td><td>0.000904141809 .. 0.0176009666</td><td>0.0224485956 .. 0.165065587</td></tr>\n",
       "</table></div>"
      ],
      "text/plain": [
       "<Table length=1>\n",
       "Index      BAT_NAME      ...             Flux           \n",
       "                         ...        keV / (s cm2)       \n",
       "int64      bytes22       ...          float64[8]        \n",
       "----- ------------------ ... ---------------------------\n",
       " 1171 SWIFT J2253.9+1608 ... 0.0224485956 .. 0.165065587"
      ]
     },
     "execution_count": 52,
     "metadata": {},
     "output_type": "execute_result"
    }
   ],
   "source": [
    "obj_name = table1['COUNTERPART_NAME']\n",
    "name = '3C 454.3'\n",
    "wg2 = (obj_name == name)\n",
    "table1[wg2]"
   ]
  },
  {
   "cell_type": "code",
   "execution_count": 53,
   "metadata": {},
   "outputs": [
    {
     "name": "stdout",
     "output_type": "stream",
     "text": [
      "[0.016733200530681513, 0.021908902300206645, 0.028982753492378877, 0.041833001326703784, 0.06123724356957946, 0.08660254037844387, 0.12247448713915891, 0.1710263137648707]\n",
      "[2.24485956e-05, 2.2155009199999998e-05, 2.7347702500000003e-05, 2.69263834e-05, 3.55346203e-05, 4.73680757e-05, 6.72985762e-05, 0.000165065587]\n",
      "[9.041418090000001e-07, 1.0656825e-06, 9.39523801e-07, 1.0069882300000001e-06, 1.23451569e-06, 2.2686785099999997e-06, 4.27514454e-06, 1.76009666e-05]\n"
     ]
    }
   ],
   "source": [
    "Obj_3C4543_spectra_swift = [] \n",
    "Obj_3C4543_spectra_swift_err = []\n",
    "\n",
    "for gal in table1[wg2]:\n",
    "    Obj_3C4543_spectra_swift.extend(gal['Flux'])\n",
    "    Obj_3C4543_spectra_swift_err.extend(gal['Flux_err'])\n",
    "\n",
    "Bat_Energy_Band = [math.sqrt(14*20), math.sqrt(20*24), math.sqrt(24*35), math.sqrt(35*50), math.sqrt(50*75), math.sqrt(75*100), math.sqrt(100*150), math.sqrt(150*195)]\n",
    "Bat_Energy_BandMeV = [x * .001 for x in Bat_Energy_Band]\n",
    "print(Bat_Energy_BandMeV)\n",
    "\n",
    "\n",
    "Obj_3C4543_spectra_swift = [i * (1e-3) for i in Obj_3C4543_spectra_swift]\n",
    "Obj_3C4543_spectra_swift_err = [i * (1e-3) for i in Obj_3C4543_spectra_swift_err]\n",
    "\n",
    "print(Obj_3C4543_spectra_swift)\n",
    "print(Obj_3C4543_spectra_swift_err)"
   ]
  },
  {
   "cell_type": "code",
   "execution_count": 54,
   "metadata": {},
   "outputs": [],
   "source": [
    "Obj_3C4543_COMPTEL_PhotonFlux_075_1MEV = 10.4 * (1e-5)\n",
    "Obj_3C4543_COMPTEL_PhotonFlux_1_3MEV = 9.2 * (1e-5)\n",
    "Obj_3C4543_COMPTEL_PhotonFlux_3_10MEV = 2.8 * (1e-5)\n",
    "Obj_3C4543_COMPTEL_PhotonFlux_10_30MEV = 2.9 * (1e-5)\n",
    "\n",
    "Obj_3C4543_COMPTEL_EnergyFlux_075_1MEV = math.sqrt(0.75) * Obj_3C4543_COMPTEL_PhotonFlux_075_1MEV\n",
    "Obj_3C4543_COMPTEL_EnergyFlux_1_3MEV = math.sqrt(3) * Obj_3C4543_COMPTEL_PhotonFlux_1_3MEV\n",
    "Obj_3C4543_COMPTEL_EnergyFlux_3_10MEV = math.sqrt(30) * Obj_3C4543_COMPTEL_PhotonFlux_3_10MEV\n",
    "Obj_3C4543_COMPTEL_EnergyFlux_10_30MEV = math.sqrt(300) * Obj_3C4543_COMPTEL_PhotonFlux_10_30MEV\n",
    "\n",
    "Obj_3C4543_COMPTEL_PhotonFlux_075_1MEV_err = 0 * (1e-5)\n",
    "Obj_3C4543_COMPTEL_PhotonFlux_1_3MEV_err = 0 * (1e-5)\n",
    "Obj_3C4543_COMPTEL_PhotonFlux_3_10MEV_err = 2.3 * (1e-5)\n",
    "Obj_3C4543_COMPTEL_PhotonFlux_10_30MEV_err = 1 * (1e-5)\n",
    "\n",
    "Obj_3C4543_COMPTEL_EnergyFlux_075_1MEV_err = math.sqrt(0.75) * Obj_3C4543_COMPTEL_PhotonFlux_075_1MEV_err\n",
    "Obj_3C4543_COMPTEL_EnergyFlux_1_3MEV_err = math.sqrt(3) * Obj_3C4543_COMPTEL_PhotonFlux_1_3MEV_err\n",
    "Obj_3C4543_COMPTEL_EnergyFlux_3_10MEV_err = math.sqrt(30) * Obj_3C4543_COMPTEL_PhotonFlux_3_10MEV_err\n",
    "Obj_3C4543_COMPTEL_EnergyFlux_10_30MEV_err = math.sqrt(300) * Obj_3C4543_COMPTEL_PhotonFlux_10_30MEV_err\n",
    "\n",
    "COMPTEL_3C4543_EnergyBand = [math.sqrt(30), math.sqrt(300)]\n",
    "COMPTEL_3C4543_EnergyBand_UL = [math.sqrt(.75), math.sqrt(3)]\n",
    "\n",
    "Obj_3C4543_COMPTEL_EnergyFlux = [Obj_3C4543_COMPTEL_EnergyFlux_3_10MEV, Obj_3C4543_COMPTEL_EnergyFlux_10_30MEV]\n",
    "Obj_3C4543_COMPTEL_EnergyFlux_UL = [Obj_3C4543_COMPTEL_EnergyFlux_075_1MEV, Obj_3C4543_COMPTEL_EnergyFlux_1_3MEV]\n",
    "Obj_3C4543_COMPTEL_EnergyFlux_err = [Obj_3C4543_COMPTEL_EnergyFlux_3_10MEV_err, Obj_3C4543_COMPTEL_EnergyFlux_10_30MEV_err]"
   ]
  },
  {
   "cell_type": "code",
   "execution_count": 55,
   "metadata": {},
   "outputs": [
    {
     "name": "stdout",
     "output_type": "stream",
     "text": [
      "[False False False False False False False False False False False False\n",
      " False False False False False False False False False False False False\n",
      " False False False False False False False False False False False False\n",
      " False False False False False False False False False False False False\n",
      " False False False False False False False False False False False False\n",
      " False False False False False False False False False False False False\n",
      " False False False False False False False False False False False False\n",
      " False False False False False False False False False False False False\n",
      " False False False False False False False False False False False False\n",
      " False False False False False False False False False False False False\n",
      " False False False False False False False False False False False False\n",
      " False False False False False False False False False False False False\n",
      " False False False False False False False False False False False False\n",
      " False False False False False False False False False False False False\n",
      " False False False False False False False False False False False False\n",
      " False False False False False False False False False False False False\n",
      " False False  True False False False]\n"
     ]
    },
    {
     "data": {
      "text/html": [
       "<div><i>Table length=1</i>\n",
       "<table id=\"table2293857187280\" class=\"table-striped table-bordered table-condensed\">\n",
       "<thead><tr><th>Name</th><th>RAdeg</th><th>DEdeg</th><th>GLON</th><th>GLAT</th><th>ePos</th><th>Signi</th><th>EF30-100</th><th>e_EF30-100</th><th>EF100-300</th><th>e_EF100-300</th><th>F30-100</th><th>e_F30-100</th><th>F100-300</th><th>e_F100-300</th><th>Class1</th><th>z</th><th>Assoc1</th><th>Assoc3FGL</th><th>AssocCOMP</th></tr></thead>\n",
       "<thead><tr><th></th><th>deg</th><th>deg</th><th>deg</th><th>deg</th><th>deg</th><th></th><th>mW / m2</th><th>mW / m2</th><th>mW / m2</th><th>mW / m2</th><th>1/cm2/s</th><th>1/cm2/s</th><th>1/cm2/s</th><th>1/cm2/s</th><th></th><th></th><th></th><th></th><th></th></tr></thead>\n",
       "<thead><tr><th>bytes15</th><th>float64</th><th>float64</th><th>float64</th><th>float64</th><th>float64</th><th>float64</th><th>float64</th><th>float64</th><th>float64</th><th>float64</th><th>float64</th><th>float64</th><th>float64</th><th>float64</th><th>bytes5</th><th>float64</th><th>bytes18</th><th>bytes18</th><th>bytes23</th></tr></thead>\n",
       "<tr><td>1FLE J2254+1617</td><td>343.562622</td><td>16.287817</td><td>86.282646</td><td>-38.105961</td><td>0.240857</td><td>99.997</td><td>2.732470e-10</td><td>5.550470e-11</td><td>2.506050e-10</td><td>5.881840e-11</td><td>3.279760e-06</td><td>6.662180e-07</td><td>1.039920e-06</td><td>2.238510e-07</td><td>fsrq</td><td>0.859000</td><td>3FGL J2254.0+1608</td><td>3FGL J2254.0+1608</td><td>3C_454.3</td></tr>\n",
       "</table></div>"
      ],
      "text/plain": [
       "<Table length=1>\n",
       "      Name        RAdeg    ...     Assoc3FGL             AssocCOMP       \n",
       "                   deg     ...                                           \n",
       "    bytes15      float64   ...      bytes18               bytes23        \n",
       "--------------- ---------- ... ------------------ -----------------------\n",
       "1FLE J2254+1617 343.562622 ... 3FGL J2254.0+1608  3C_454.3               "
      ]
     },
     "execution_count": 55,
     "metadata": {},
     "output_type": "execute_result"
    }
   ],
   "source": [
    "FLE_obj_name = bright_FLE['AssocCOMP']\n",
    "obj_name_COMP = '3C_454.3               '\n",
    "\n",
    "wg9 = (obj_name_COMP == FLE_obj_name)\n",
    "print(wg9)\n",
    "\n",
    "bright_FLE[wg9]"
   ]
  },
  {
   "cell_type": "code",
   "execution_count": 56,
   "metadata": {},
   "outputs": [
    {
     "name": "stdout",
     "output_type": "stream",
     "text": [
      "[2.73247e-10]\n",
      "[5.55047e-11]\n",
      "[2.50605e-10]\n",
      "[5.88184e-11]\n",
      "[0.000170547388297, 0.00015641536135499999]\n",
      "[3.4643314009700004e-05, 3.67115631784e-05]\n",
      "[54.772255750516614, 173.20508075688772]\n"
     ]
    }
   ],
   "source": [
    "EFBucket30_100 = []\n",
    "EFBucket30_100e = []\n",
    "EFBucket100_300 = []\n",
    "EFBucket100_300e = []\n",
    "\n",
    "for gal in bright_FLE[wg9]:\n",
    "    EFBucket30_100.append(gal['EF30-100'])\n",
    "    EFBucket30_100e.append(gal['e_EF30-100'])\n",
    "    EFBucket100_300.append(gal['EF100-300'])\n",
    "    EFBucket100_300e.append(gal['e_EF100-300'])\n",
    "\n",
    "print(EFBucket30_100)\n",
    "print(EFBucket30_100e)\n",
    "print(EFBucket100_300)\n",
    "print(EFBucket100_300e)\n",
    "\n",
    "EF_FLE = EFBucket30_100 + EFBucket100_300\n",
    "EF_FLEe = EFBucket30_100e + EFBucket100_300e\n",
    "\n",
    "EF_FLE = [624151 * x for x in EF_FLE]\n",
    "EF_FLEe = [624151 * x for x in EF_FLEe]\n",
    "\n",
    "\n",
    "print(EF_FLE)\n",
    "print(EF_FLEe)\n",
    "\n",
    "EBucket30_100 = math.sqrt(30*100)\n",
    "EBucket100_300 = math.sqrt(100*300)\n",
    "\n",
    "EBuckets = [EBucket30_100, EBucket100_300]\n",
    "print(EBuckets)"
   ]
  },
  {
   "cell_type": "code",
   "execution_count": 57,
   "metadata": {},
   "outputs": [
    {
     "data": {
      "text/plain": [
       "Text(0.5, 1.0, 'Spectra of Object 3C 454.3')"
      ]
     },
     "execution_count": 57,
     "metadata": {},
     "output_type": "execute_result"
    },
    {
     "data": {
      "image/png": "[encoded data removed]",
      "text/plain": [
       "<Figure size 640x480 with 1 Axes>"
      ]
     },
     "metadata": {},
     "output_type": "display_data"
    }
   ],
   "source": [
    "plt.errorbar(Bat_Energy_BandMeV, Obj_3C4543_spectra_swift, yerr = Obj_3C4543_spectra_swift_err, fmt = 'o', color= 'blue', markersize = 3, label = 'Swift')\n",
    "plt.errorbar(Fermi_Energy_BandMeV, Obj_3C4543_spectra_fermi, yerr = Obj_3C4543_spectra_fermi_yerr, fmt = 'o', color = 'red', markersize = 3, label = 'Fermi')\n",
    "plt.errorbar(COMPTEL_3C4543_EnergyBand, Obj_3C4543_COMPTEL_EnergyFlux, yerr = Obj_3C4543_COMPTEL_EnergyFlux_err, fmt = 'o', markersize = 3, color = 'orange', label = 'COMPTEL Phase I - Blom et. al 1995a') \n",
    "plt.scatter(COMPTEL_3C4543_EnergyBand_UL, Obj_3C4543_COMPTEL_EnergyFlux_UL, marker = r'$\\downarrow$', color= 'orange')\n",
    "plt.errorbar(EBuckets, EF_FLE, yerr = EF_FLEe, fmt = 'o', markersize = 3, color = 'purple', label = '1FLE')\n",
    "plt.legend(loc='lower left')\n",
    "plt.xscale('log')\n",
    "plt.yscale('log')\n",
    "plt.xlabel('Energy in MeV')\n",
    "plt.ylabel('Flux (MeV s^-1 cm^-2)')\n",
    "plt.title('Spectra of Object 3C 454.3')"
   ]
  },
  {
   "cell_type": "markdown",
   "metadata": {},
   "source": [
    "# CTA 102"
   ]
  },
  {
   "cell_type": "code",
   "execution_count": 58,
   "metadata": {},
   "outputs": [
    {
     "name": "stdout",
     "output_type": "stream",
     "text": [
      "[False False False ... False False False]\n"
     ]
    },
    {
     "data": {
      "text/html": [
       "<div><i>Table length=1</i>\n",
       "<table id=\"table2293855110224\" class=\"table-striped table-bordered table-condensed\">\n",
       "<thead><tr><th>Source_Name</th><th>RAJ2000</th><th>DEJ2000</th><th>GLON</th><th>GLAT</th><th>Conf_68_SemiMajor</th><th>Conf_68_SemiMinor</th><th>Conf_68_PosAng</th><th>Conf_95_SemiMajor</th><th>Conf_95_SemiMinor</th><th>Conf_95_PosAng</th><th>ROI_num</th><th>Extended_Source_Name</th><th>Signif_Avg</th><th>Pivot_Energy</th><th>Flux1000</th><th>Unc_Flux1000</th><th>Energy_Flux100</th><th>Unc_Energy_Flux100</th><th>SpectrumType</th><th>PL_Flux_Density</th><th>Unc_PL_Flux_Density</th><th>PL_Index</th><th>Unc_PL_Index</th><th>LP_Flux_Density</th><th>Unc_LP_Flux_Density</th><th>LP_Index</th><th>Unc_LP_Index</th><th>LP_beta</th><th>Unc_LP_beta</th><th>LP_SigCurv</th><th>PLEC_Flux_Density</th><th>Unc_PLEC_Flux_Density</th><th>PLEC_Index</th><th>Unc_PLEC_Index</th><th>PLEC_Expfactor</th><th>Unc_PLEC_Expfactor</th><th>PLEC_Exp_Index</th><th>Unc_PLEC_Exp_Index</th><th>PLEC_SigCurv</th><th>Npred</th><th>Flux_Band</th><th>Unc_Flux_Band</th><th>nuFnu_Band</th><th>Sqrt_TS_Band</th><th>Variability_Index</th><th>Frac_Variability</th><th>Unc_Frac_Variability</th><th>Signif_Peak</th><th>Flux_Peak</th><th>Unc_Flux_Peak</th><th>Time_Peak</th><th>Peak_Interval</th><th>Flux_History</th><th>Unc_Flux_History</th><th>Sqrt_TS_History</th><th>Variability2_Index</th><th>Frac2_Variability</th><th>Unc_Frac2_Variability</th><th>Signif2_Peak</th><th>Flux2_Peak</th><th>Unc_Flux2_Peak</th><th>Time2_Peak</th><th>Peak2_Interval</th><th>Flux2_History</th><th>Unc_Flux2_History</th><th>Sqrt_TS2_History</th><th>ASSOC_FGL</th><th>ASSOC_FHL</th><th>ASSOC_GAM1</th><th>ASSOC_GAM2</th><th>ASSOC_GAM3</th><th>TEVCAT_FLAG</th><th>ASSOC_TEV</th><th>CLASS1</th><th>CLASS2</th><th>ASSOC1</th><th>ASSOC2</th><th>ASSOC_PROB_BAY</th><th>ASSOC_PROB_LR</th><th>RA_Counterpart</th><th>DEC_Counterpart</th><th>Unc_Counterpart</th><th>Flags</th></tr></thead>\n",
       "<thead><tr><th></th><th>deg</th><th>deg</th><th>deg</th><th>deg</th><th>deg</th><th>deg</th><th>deg</th><th>deg</th><th>deg</th><th>deg</th><th></th><th></th><th></th><th>MeV</th><th>ph / (s cm2)</th><th>ph / (s cm2)</th><th>erg / (s cm2)</th><th>erg / (s cm2)</th><th></th><th>ph / (MeV s cm2)</th><th>ph / (MeV s cm2)</th><th></th><th></th><th>ph / (MeV s cm2)</th><th>ph / (MeV s cm2)</th><th></th><th></th><th></th><th></th><th></th><th>ph / (MeV s cm2)</th><th>ph / (MeV s cm2)</th><th></th><th></th><th></th><th></th><th></th><th></th><th></th><th></th><th>ph / (s cm2)</th><th>ph / (s cm2)</th><th>erg / (s cm2)</th><th></th><th></th><th></th><th></th><th></th><th>ph / (s cm2)</th><th>ph / (s cm2)</th><th>s</th><th>s</th><th>ph / (s cm2)</th><th>ph / (s cm2)</th><th></th><th></th><th></th><th></th><th></th><th>ph / (s cm2)</th><th>ph / (s cm2)</th><th>s</th><th>s</th><th>ph / (s cm2)</th><th>ph / (s cm2)</th><th></th><th></th><th></th><th></th><th></th><th></th><th></th><th></th><th></th><th></th><th></th><th></th><th></th><th></th><th>deg</th><th>deg</th><th>deg</th><th></th></tr></thead>\n",
       "<thead><tr><th>bytes18</th><th>float32</th><th>float32</th><th>float32</th><th>float32</th><th>float32</th><th>float32</th><th>float32</th><th>float32</th><th>float32</th><th>float32</th><th>int16</th><th>bytes18</th><th>float32</th><th>float32</th><th>float32</th><th>float32</th><th>float32</th><th>float32</th><th>bytes17</th><th>float32</th><th>float32</th><th>float32</th><th>float32</th><th>float32</th><th>float32</th><th>float32</th><th>float32</th><th>float32</th><th>float32</th><th>float32</th><th>float32</th><th>float32</th><th>float32</th><th>float32</th><th>float32</th><th>float32</th><th>float32</th><th>float32</th><th>float32</th><th>float32</th><th>float32[7]</th><th>float32[7,2]</th><th>float32[7]</th><th>float32[7]</th><th>float32</th><th>float32</th><th>float32</th><th>float32</th><th>float32</th><th>float32</th><th>float64</th><th>float32</th><th>float32[8]</th><th>float32[8,2]</th><th>float32[8]</th><th>float32</th><th>float32</th><th>float32</th><th>float32</th><th>float32</th><th>float32</th><th>float64</th><th>float32</th><th>float32[48]</th><th>float32[48,2]</th><th>float32[48]</th><th>bytes18</th><th>bytes18</th><th>bytes18</th><th>bytes18</th><th>bytes18</th><th>bytes1</th><th>bytes26</th><th>bytes5</th><th>bytes5</th><th>bytes28</th><th>bytes26</th><th>float32</th><th>float32</th><th>float64</th><th>float64</th><th>float32</th><th>int16</th></tr></thead>\n",
       "<tr><td>4FGL J2232.6+1143</td><td>338.1525</td><td>11.7306</td><td>77.4385</td><td>-38.5832</td><td>0.0060</td><td>0.0060</td><td>-26.470</td><td>0.0097</td><td>0.0097</td><td>-26.470</td><td>1215</td><td></td><td>199.458</td><td>414.07</td><td>1.8789e-08</td><td>2.4464e-10</td><td>2.2012e-10</td><td>2.1896e-12</td><td>LogParabola</td><td>2.1136e-10</td><td>1.9238e-12</td><td>2.3785</td><td>0.0072</td><td>2.3241e-10</td><td>2.4354e-12</td><td>2.2607</td><td>0.0088</td><td>0.1007</td><td>0.0060</td><td>16.128</td><td>2.2348e-10</td><td>2.2148e-12</td><td>2.1027</td><td>0.0184</td><td>0.00392</td><td>0.00026</td><td>0.6667</td><td>--</td><td>16.437</td><td>22015.18</td><td>4.8138196e-07 .. 5.2458315e-12</td><td>-2.7125306e-08 .. 5.5841386e-12</td><td>7.7409475e-11 .. 1.8268446e-13</td><td>8.519442 .. 2.0327704</td><td>14315.2090</td><td>0.9575</td><td>0.2560</td><td>183.847</td><td>1.2822404e-06</td><td>1.3493233e-08</td><td>476029728.0</td><td>31559456.0</td><td>1.1389902e-07 .. 1.2822404e-06</td><td>-4.8152313e-09 .. 1.3493233e-08</td><td>35.372093 .. 183.8471</td><td>25276.4258</td><td>1.1533</td><td>0.1191</td><td>142.882</td><td>2.77533e-06</td><td>3.9012978e-08</td><td>478660000.0</td><td>5260000.0</td><td>1.1657867e-07 .. 1.3792907e-06</td><td>-1.0844816e-08 .. 2.9507543e-08</td><td>16.230228 .. 83.1392</td><td>3FGL J2232.5+1143</td><td>3FHL J2232.7+1143</td><td>J2232+1132</td><td>3EG J2232+1147</td><td></td><td>N</td><td></td><td>FSRQ</td><td></td><td>CTA 102</td><td></td><td>1.0000</td><td>0.9997</td><td>338.1517</td><td>11.7308</td><td>0.00000</td><td>256</td></tr>\n",
       "</table></div>"
      ],
      "text/plain": [
       "<Table length=1>\n",
       "   Source_Name     RAJ2000  DEJ2000  ... DEC_Counterpart Unc_Counterpart Flags\n",
       "                     deg      deg    ...       deg             deg            \n",
       "     bytes18       float32  float32  ...     float64         float32     int16\n",
       "------------------ -------- -------- ... --------------- --------------- -----\n",
       "4FGL J2232.6+1143  338.1525  11.7306 ...         11.7308         0.00000   256"
      ]
     },
     "execution_count": 58,
     "metadata": {},
     "output_type": "execute_result"
    }
   ],
   "source": [
    "fermi_obj_name = table['ASSOC1']\n",
    "objname_fermi = 'CTA 102                     ' \n",
    "\n",
    "wg3 = (fermi_obj_name == objname_fermi)\n",
    "print(wg3)\n",
    "\n",
    "table[wg3]"
   ]
  },
  {
   "cell_type": "code",
   "execution_count": 59,
   "metadata": {},
   "outputs": [
    {
     "name": "stdout",
     "output_type": "stream",
     "text": [
      "[70.71067811865477, 173.20508075688772, 547.722557505166, 1732.0508075688772, 5477.2255750516615, 17320.508075688773, 94868.32980505137]\n",
      "[4.831520102076964e-05, 4.533557304246122e-05, 3.5892719719158445e-05, 2.2862905185008775e-05, 1.0841413796548391e-05, 3.4062155090685588e-06, 1.1402268907477323e-07]\n"
     ]
    }
   ],
   "source": [
    "Obj_CTA102_spectra_fermi = []\n",
    "\n",
    "for gal in table[wg3]:\n",
    "    Obj_CTA102_spectra_fermi.extend(gal['nuFnu_Band'])\n",
    "\n",
    "Obj_CTA102_spectra_fermi = [i * (624151) for i in Obj_CTA102_spectra_fermi] \n",
    "\n",
    "Fermi_Energy_BandMeV = [1000 * math.sqrt(.05*.1), 1000 * math.sqrt(.1*.3), 1000 * math.sqrt(.3*1), 1000 * math.sqrt(1*3), 1000 * math.sqrt(3*10), 1000 * math.sqrt(10*30), 1000 * math.sqrt(30*300)]\n",
    "\n",
    "print(Fermi_Energy_BandMeV)\n",
    "\n",
    "print(Obj_CTA102_spectra_fermi)\n",
    "\n",
    "Obj_CTA102_spectra_fermi_yerrmin = [2.722504650424021e-06, 1.0823877911311439e-06, 4.775767090413373e-07, 4.068548890921839e-07, 4.0222246522271694e-07, 3.858378596826662e-07, 7.536086707732456e-08]\n",
    "Obj_CTA102_spectra_fermi_yerrmax = [2.722504650424021e-06, 1.0823877911311439e-06, 4.775767090413373e-07, 4.068548890921839e-07, 4.0222246522271694e-07, 4.1604140812664687e-07, 1.2137608803638588e-07]\n",
    "Obj_CTA102_spectra_fermi_yerr = [Obj_CTA102_spectra_fermi_yerrmin, Obj_CTA102_spectra_fermi_yerrmax]"
   ]
  },
  {
   "cell_type": "code",
   "execution_count": 60,
   "metadata": {},
   "outputs": [
    {
     "data": {
      "text/html": [
       "<div><i>Table length=1</i>\n",
       "<table id=\"table2293859969680\" class=\"table-striped table-bordered table-condensed\">\n",
       "<thead><tr><th>Index</th><th>BAT_NAME</th><th>RA</th><th>DEC</th><th>SNR</th><th>COUNTERPART_NAME</th><th>OTHER_NAME</th><th>CTPT_RA</th><th>CTPT_DEC</th><th>FLUX</th><th>FLUX_LO</th><th>FLUX_HI</th><th>CONTA</th><th>GAMMA</th><th>GAMM_lo</th><th>GAMM_hi</th><th>CHI_SQ_R</th><th>REDSHIFT</th><th>LUM</th><th>ASSOC_STREN</th><th>CL2</th><th>TYPE</th><th>Energy_err</th><th>Flux_err</th><th>Flux</th></tr></thead>\n",
       "<thead><tr><th></th><th></th><th>deg</th><th>deg</th><th></th><th></th><th></th><th>deg</th><th>deg</th><th>10^-12er</th><th>10^-12er</th><th>10^-12er</th><th></th><th></th><th></th><th></th><th></th><th></th><th></th><th></th><th></th><th></th><th>keV</th><th>keV / (s cm2)</th><th>keV / (s cm2)</th></tr></thead>\n",
       "<thead><tr><th>int64</th><th>bytes22</th><th>bytes7</th><th>bytes7</th><th>bytes8</th><th>bytes30</th><th>float64</th><th>bytes8</th><th>bytes8</th><th>bytes8</th><th>bytes8</th><th>bytes8</th><th>bytes5</th><th>bytes5</th><th>bytes7</th><th>bytes7</th><th>bytes9</th><th>float64</th><th>float64</th><th>float64</th><th>bytes3</th><th>bytes25</th><th>float64[8]</th><th>float64[8]</th><th>float64[8]</th></tr></thead>\n",
       "<tr><td>1155</td><td>SWIFT J2232.5+1141</td><td>338.178</td><td>11.713</td><td>10.78</td><td>[HB89] 2230+114</td><td>0.0</td><td>338.1517</td><td>11.7308</td><td>30.05</td><td>26.91</td><td>33.41</td><td>0.0</td><td>1.49</td><td>1.24</td><td>1.76</td><td>0.30</td><td>1.037</td><td>47.23</td><td>0.0</td><td>80</td><td>Beamed AGN</td><td>3.0 .. 22.5</td><td>0.000940803497 .. 0.0187821295</td><td>0.00351800676 .. 0.00908446591</td></tr>\n",
       "</table></div>"
      ],
      "text/plain": [
       "<Table length=1>\n",
       "Index      BAT_NAME      ...              Flux             \n",
       "                         ...         keV / (s cm2)         \n",
       "int64      bytes22       ...           float64[8]          \n",
       "----- ------------------ ... ------------------------------\n",
       " 1155 SWIFT J2232.5+1141 ... 0.00351800676 .. 0.00908446591"
      ]
     },
     "execution_count": 60,
     "metadata": {},
     "output_type": "execute_result"
    }
   ],
   "source": [
    "obj_name = table1['COUNTERPART_NAME']\n",
    "name = '[HB89] 2230+114'\n",
    "wg2 = (obj_name == name)\n",
    "table1[wg2]"
   ]
  },
  {
   "cell_type": "code",
   "execution_count": 61,
   "metadata": {},
   "outputs": [
    {
     "name": "stdout",
     "output_type": "stream",
     "text": [
      "[0.016733200530681513, 0.021908902300206645, 0.028982753492378877, 0.041833001326703784, 0.06123724356957946, 0.08660254037844387, 0.12247448713915891, 0.1710263137648707]\n",
      "[3.5180067600000004e-06, 4.6133888e-06, 5.478855220000001e-06, 4.8082047099999995e-06, 7.1730921000000005e-06, 1.01435725e-05, 9.32974368e-06, 9.084465910000001e-06]\n",
      "[9.40803497e-07, 1.08162302e-06, 9.70055466e-07, 1.07329641e-06, 1.2855744e-06, 2.37393193e-06, 4.2825453000000005e-06, 1.87821295e-05]\n"
     ]
    }
   ],
   "source": [
    "Obj_CTA102_spectra_swift = [] \n",
    "Obj_CTA102_spectra_swift_err = []\n",
    "\n",
    "for gal in table1[wg2]:\n",
    "    Obj_CTA102_spectra_swift.extend(gal['Flux'])\n",
    "    Obj_CTA102_spectra_swift_err.extend(gal['Flux_err'])\n",
    "\n",
    "Bat_Energy_Band = [math.sqrt(14*20), math.sqrt(20*24), math.sqrt(24*35), math.sqrt(35*50), math.sqrt(50*75), math.sqrt(75*100), math.sqrt(100*150), math.sqrt(150*195)]\n",
    "Bat_Energy_BandMeV = [x * .001 for x in Bat_Energy_Band]\n",
    "print(Bat_Energy_BandMeV)\n",
    "\n",
    "\n",
    "Obj_CTA102_spectra_swift = [i * (1e-3) for i in Obj_CTA102_spectra_swift]\n",
    "Obj_CTA102_spectra_swift_err = [i * (1e-3) for i in Obj_CTA102_spectra_swift_err]\n",
    "\n",
    "print(Obj_CTA102_spectra_swift)\n",
    "print(Obj_CTA102_spectra_swift_err)"
   ]
  },
  {
   "cell_type": "code",
   "execution_count": 62,
   "metadata": {},
   "outputs": [],
   "source": [
    "Obj_CTA102_COMPTEL_PhotonFlux_075_1MEV = 7.8 * (1e-5)\n",
    "Obj_CTA102_COMPTEL_PhotonFlux_1_3MEV = 12.2 * (1e-5)\n",
    "Obj_CTA102_COMPTEL_PhotonFlux_3_10MEV =  6.4 * (1e-5)\n",
    "Obj_CTA102_COMPTEL_PhotonFlux_10_30MEV = 1.9 * (1e-5)\n",
    "\n",
    "Obj_CTA102_COMPTEL_EnergyFlux_075_1MEV = math.sqrt(0.75) * Obj_CTA102_COMPTEL_PhotonFlux_075_1MEV\n",
    "Obj_CTA102_COMPTEL_EnergyFlux_1_3MEV = math.sqrt(3) * Obj_CTA102_COMPTEL_PhotonFlux_1_3MEV\n",
    "Obj_CTA102_COMPTEL_EnergyFlux_3_10MEV = math.sqrt(30) * Obj_CTA102_COMPTEL_PhotonFlux_3_10MEV\n",
    "Obj_CTA102_COMPTEL_EnergyFlux_10_30MEV = math.sqrt(300) * Obj_CTA102_COMPTEL_PhotonFlux_10_30MEV\n",
    "\n",
    "Obj_CTA102_COMPTEL_PhotonFlux_075_1MEV_err = 0 * (1e-5)\n",
    "Obj_CTA102_COMPTEL_PhotonFlux_1_3MEV_err = 0 * (1e-5)\n",
    "Obj_CTA102_COMPTEL_PhotonFlux_3_10MEV_err = 0 * (1e-5)\n",
    "Obj_CTA102_COMPTEL_PhotonFlux_10_30MEV_err = .9 * (1e-5)\n",
    "\n",
    "Obj_CTA102_COMPTEL_EnergyFlux_075_1MEV_err = math.sqrt(0.75) * Obj_CTA102_COMPTEL_PhotonFlux_075_1MEV_err\n",
    "Obj_CTA102_COMPTEL_EnergyFlux_1_3MEV_err = math.sqrt(3) * Obj_CTA102_COMPTEL_PhotonFlux_1_3MEV_err\n",
    "Obj_CTA102_COMPTEL_EnergyFlux_3_10MEV_err = math.sqrt(30) * Obj_CTA102_COMPTEL_PhotonFlux_3_10MEV_err\n",
    "Obj_CTA102_COMPTEL_EnergyFlux_10_30MEV_err = math.sqrt(300) * Obj_CTA102_COMPTEL_PhotonFlux_10_30MEV_err\n",
    "\n",
    "COMPTEL_CTA102_EnergyBand = [math.sqrt(300)]\n",
    "COMTPEL_CTA102_EnergyBand_UL = [math.sqrt(0.75), math.sqrt(3), math.sqrt(30)]\n",
    "\n",
    "Obj_CTA102_COMPTEL_EnergyFlux = [Obj_CTA102_COMPTEL_EnergyFlux_10_30MEV]\n",
    "Obj_CTA102_COMPTEL_EnergyFlux_err = [Obj_CTA102_COMPTEL_EnergyFlux_10_30MEV_err]\n",
    "Obj_CTA102_COMPTEL_EnergyFlux_UL = [Obj_CTA102_COMPTEL_EnergyFlux_075_1MEV, Obj_CTA102_COMPTEL_EnergyFlux_1_3MEV,Obj_CTA102_COMPTEL_EnergyFlux_10_30MEV]"
   ]
  },
  {
   "cell_type": "code",
   "execution_count": 66,
   "metadata": {},
   "outputs": [
    {
     "data": {
      "text/html": [
       "<div><i>Table length=1</i>\n",
       "<table id=\"table2293864811280\" class=\"table-striped table-bordered table-condensed\">\n",
       "<thead><tr><th>Name</th><th>RAdeg</th><th>DEdeg</th><th>GLON</th><th>GLAT</th><th>ePos</th><th>Signi</th><th>EF30-100</th><th>e_EF30-100</th><th>EF100-300</th><th>e_EF100-300</th><th>F30-100</th><th>e_F30-100</th><th>F100-300</th><th>e_F100-300</th><th>Class1</th><th>z</th><th>Assoc1</th><th>Assoc3FGL</th><th>AssocCOMP</th></tr></thead>\n",
       "<thead><tr><th></th><th>deg</th><th>deg</th><th>deg</th><th>deg</th><th>deg</th><th></th><th>mW / m2</th><th>mW / m2</th><th>mW / m2</th><th>mW / m2</th><th>1/cm2/s</th><th>1/cm2/s</th><th>1/cm2/s</th><th>1/cm2/s</th><th></th><th></th><th></th><th></th><th></th></tr></thead>\n",
       "<thead><tr><th>bytes15</th><th>float64</th><th>float64</th><th>float64</th><th>float64</th><th>float64</th><th>float64</th><th>float64</th><th>float64</th><th>float64</th><th>float64</th><th>float64</th><th>float64</th><th>float64</th><th>float64</th><th>bytes5</th><th>float64</th><th>bytes18</th><th>bytes18</th><th>bytes23</th></tr></thead>\n",
       "<tr><td>1FLE J2231+1132</td><td>337.938690</td><td>11.538370</td><td>77.075043</td><td>-38.593109</td><td>0.243086</td><td>30.071</td><td>6.882840e-11</td><td>1.526120e-11</td><td>7.432160e-11</td><td>2.209390e-11</td><td>8.261400e-07</td><td>1.831790e-07</td><td>2.619470e-07</td><td>8.408490e-08</td><td>fsrq</td><td>1.037000</td><td>3FGL J2232.5+1143</td><td>3FGL J2232.5+1143</td><td>CTA_102_(PKS_2230+114)</td></tr>\n",
       "</table></div>"
      ],
      "text/plain": [
       "<Table length=1>\n",
       "      Name        RAdeg    ...     Assoc3FGL             AssocCOMP       \n",
       "                   deg     ...                                           \n",
       "    bytes15      float64   ...      bytes18               bytes23        \n",
       "--------------- ---------- ... ------------------ -----------------------\n",
       "1FLE J2231+1132 337.938690 ... 3FGL J2232.5+1143  CTA_102_(PKS_2230+114) "
      ]
     },
     "execution_count": 66,
     "metadata": {},
     "output_type": "execute_result"
    }
   ],
   "source": [
    "FLE_obj_name = bright_FLE['AssocCOMP']\n",
    "obj_name_COMP = 'CTA_102_(PKS_2230+114) '\n",
    "\n",
    "wg9 = (obj_name_COMP == FLE_obj_name)\n",
    "\n",
    "bright_FLE[wg9]"
   ]
  },
  {
   "cell_type": "code",
   "execution_count": 64,
   "metadata": {},
   "outputs": [
    {
     "name": "stdout",
     "output_type": "stream",
     "text": [
      "[6.88284e-11]\n",
      "[1.52612e-11]\n",
      "[7.43216e-11]\n",
      "[2.20939e-11]\n",
      "[4.29593146884e-05, 4.63879009616e-05]\n",
      "[9.525293241199998e-06, 1.37899297789e-05]\n",
      "[54.772255750516614, 173.20508075688772]\n"
     ]
    }
   ],
   "source": [
    "EFBucket30_100 = []\n",
    "EFBucket30_100e = []\n",
    "EFBucket100_300 = []\n",
    "EFBucket100_300e = []\n",
    "\n",
    "for gal in bright_FLE[wg9]:\n",
    "    EFBucket30_100.append(gal['EF30-100'])\n",
    "    EFBucket30_100e.append(gal['e_EF30-100'])\n",
    "    EFBucket100_300.append(gal['EF100-300'])\n",
    "    EFBucket100_300e.append(gal['e_EF100-300'])\n",
    "\n",
    "print(EFBucket30_100)\n",
    "print(EFBucket30_100e)\n",
    "print(EFBucket100_300)\n",
    "print(EFBucket100_300e)\n",
    "\n",
    "EF_FLE = EFBucket30_100 + EFBucket100_300\n",
    "EF_FLEe = EFBucket30_100e + EFBucket100_300e\n",
    "\n",
    "EF_FLE = [624151 * x for x in EF_FLE]\n",
    "EF_FLEe = [624151 * x for x in EF_FLEe]\n",
    "\n",
    "\n",
    "print(EF_FLE)\n",
    "print(EF_FLEe)\n",
    "\n",
    "EBucket30_100 = math.sqrt(30*100)\n",
    "EBucket100_300 = math.sqrt(100*300)\n",
    "\n",
    "EBuckets = [EBucket30_100, EBucket100_300]\n",
    "print(EBuckets)"
   ]
  },
  {
   "cell_type": "code",
   "execution_count": 65,
   "metadata": {},
   "outputs": [
    {
     "data": {
      "text/plain": [
       "Text(0.5, 1.0, 'Spectra of Object CTA 102')"
      ]
     },
     "execution_count": 65,
     "metadata": {},
     "output_type": "execute_result"
    },
    {
     "data": {
      "image/png": "[encoded data removed]",
      "text/plain": [
       "<Figure size 640x480 with 1 Axes>"
      ]
     },
     "metadata": {},
     "output_type": "display_data"
    }
   ],
   "source": [
    "plt.errorbar(Bat_Energy_BandMeV, Obj_CTA102_spectra_swift, Obj_CTA102_spectra_swift_err, fmt = 'o', markersize = 3, color = 'blue', label = 'Swift')\n",
    "plt.errorbar(COMPTEL_CTA102_EnergyBand, Obj_CTA102_COMPTEL_EnergyFlux, yerr = Obj_CTA102_COMPTEL_EnergyFlux_err, fmt = 'o', markersize = 3, color = 'orange', label = 'COMPTEL')\n",
    "plt.scatter(COMTPEL_CTA102_EnergyBand_UL, Obj_CTA102_COMPTEL_EnergyFlux_UL, marker = r'$\\downarrow$', color = 'orange')\n",
    "plt.errorbar(Fermi_Energy_BandMeV, Obj_CTA102_spectra_fermi, Obj_CTA102_spectra_fermi_yerr, fmt = 'o', markersize = 3, color = 'red', label = 'Fermi')\n",
    "plt.errorbar(EBuckets, EF_FLE, yerr = EF_FLEe, fmt = 'o', markersize = 3, color = 'purple', label = '1FLE')\n",
    "plt.legend(loc='upper right')\n",
    "plt.xscale('log')\n",
    "plt.yscale('log')\n",
    "plt.xlabel('Energy in MeV')\n",
    "plt.ylabel('Flux (MeV s^-1 cm^-2)')\n",
    "plt.title('Spectra of Object CTA 102')"
   ]
  },
  {
   "cell_type": "markdown",
   "metadata": {},
   "source": [
    "# Centaurus A"
   ]
  },
  {
   "cell_type": "code",
   "execution_count": 67,
   "metadata": {},
   "outputs": [
    {
     "name": "stdout",
     "output_type": "stream",
     "text": [
      "[False False False ... False False False]\n"
     ]
    },
    {
     "data": {
      "text/html": [
       "<div><i>Table length=1</i>\n",
       "<table id=\"table2293883537168\" class=\"table-striped table-bordered table-condensed\">\n",
       "<thead><tr><th>Source_Name</th><th>RAJ2000</th><th>DEJ2000</th><th>GLON</th><th>GLAT</th><th>Conf_68_SemiMajor</th><th>Conf_68_SemiMinor</th><th>Conf_68_PosAng</th><th>Conf_95_SemiMajor</th><th>Conf_95_SemiMinor</th><th>Conf_95_PosAng</th><th>ROI_num</th><th>Extended_Source_Name</th><th>Signif_Avg</th><th>Pivot_Energy</th><th>Flux1000</th><th>Unc_Flux1000</th><th>Energy_Flux100</th><th>Unc_Energy_Flux100</th><th>SpectrumType</th><th>PL_Flux_Density</th><th>Unc_PL_Flux_Density</th><th>PL_Index</th><th>Unc_PL_Index</th><th>LP_Flux_Density</th><th>Unc_LP_Flux_Density</th><th>LP_Index</th><th>Unc_LP_Index</th><th>LP_beta</th><th>Unc_LP_beta</th><th>LP_SigCurv</th><th>PLEC_Flux_Density</th><th>Unc_PLEC_Flux_Density</th><th>PLEC_Index</th><th>Unc_PLEC_Index</th><th>PLEC_Expfactor</th><th>Unc_PLEC_Expfactor</th><th>PLEC_Exp_Index</th><th>Unc_PLEC_Exp_Index</th><th>PLEC_SigCurv</th><th>Npred</th><th>Flux_Band</th><th>Unc_Flux_Band</th><th>nuFnu_Band</th><th>Sqrt_TS_Band</th><th>Variability_Index</th><th>Frac_Variability</th><th>Unc_Frac_Variability</th><th>Signif_Peak</th><th>Flux_Peak</th><th>Unc_Flux_Peak</th><th>Time_Peak</th><th>Peak_Interval</th><th>Flux_History</th><th>Unc_Flux_History</th><th>Sqrt_TS_History</th><th>Variability2_Index</th><th>Frac2_Variability</th><th>Unc_Frac2_Variability</th><th>Signif2_Peak</th><th>Flux2_Peak</th><th>Unc_Flux2_Peak</th><th>Time2_Peak</th><th>Peak2_Interval</th><th>Flux2_History</th><th>Unc_Flux2_History</th><th>Sqrt_TS2_History</th><th>ASSOC_FGL</th><th>ASSOC_FHL</th><th>ASSOC_GAM1</th><th>ASSOC_GAM2</th><th>ASSOC_GAM3</th><th>TEVCAT_FLAG</th><th>ASSOC_TEV</th><th>CLASS1</th><th>CLASS2</th><th>ASSOC1</th><th>ASSOC2</th><th>ASSOC_PROB_BAY</th><th>ASSOC_PROB_LR</th><th>RA_Counterpart</th><th>DEC_Counterpart</th><th>Unc_Counterpart</th><th>Flags</th></tr></thead>\n",
       "<thead><tr><th></th><th>deg</th><th>deg</th><th>deg</th><th>deg</th><th>deg</th><th>deg</th><th>deg</th><th>deg</th><th>deg</th><th>deg</th><th></th><th></th><th></th><th>MeV</th><th>ph / (s cm2)</th><th>ph / (s cm2)</th><th>erg / (s cm2)</th><th>erg / (s cm2)</th><th></th><th>ph / (MeV s cm2)</th><th>ph / (MeV s cm2)</th><th></th><th></th><th>ph / (MeV s cm2)</th><th>ph / (MeV s cm2)</th><th></th><th></th><th></th><th></th><th></th><th>ph / (MeV s cm2)</th><th>ph / (MeV s cm2)</th><th></th><th></th><th></th><th></th><th></th><th></th><th></th><th></th><th>ph / (s cm2)</th><th>ph / (s cm2)</th><th>erg / (s cm2)</th><th></th><th></th><th></th><th></th><th></th><th>ph / (s cm2)</th><th>ph / (s cm2)</th><th>s</th><th>s</th><th>ph / (s cm2)</th><th>ph / (s cm2)</th><th></th><th></th><th></th><th></th><th></th><th>ph / (s cm2)</th><th>ph / (s cm2)</th><th>s</th><th>s</th><th>ph / (s cm2)</th><th>ph / (s cm2)</th><th></th><th></th><th></th><th></th><th></th><th></th><th></th><th></th><th></th><th></th><th></th><th></th><th></th><th></th><th>deg</th><th>deg</th><th>deg</th><th></th></tr></thead>\n",
       "<thead><tr><th>bytes18</th><th>float32</th><th>float32</th><th>float32</th><th>float32</th><th>float32</th><th>float32</th><th>float32</th><th>float32</th><th>float32</th><th>float32</th><th>int16</th><th>bytes18</th><th>float32</th><th>float32</th><th>float32</th><th>float32</th><th>float32</th><th>float32</th><th>bytes17</th><th>float32</th><th>float32</th><th>float32</th><th>float32</th><th>float32</th><th>float32</th><th>float32</th><th>float32</th><th>float32</th><th>float32</th><th>float32</th><th>float32</th><th>float32</th><th>float32</th><th>float32</th><th>float32</th><th>float32</th><th>float32</th><th>float32</th><th>float32</th><th>float32</th><th>float32[7]</th><th>float32[7,2]</th><th>float32[7]</th><th>float32[7]</th><th>float32</th><th>float32</th><th>float32</th><th>float32</th><th>float32</th><th>float32</th><th>float64</th><th>float32</th><th>float32[8]</th><th>float32[8,2]</th><th>float32[8]</th><th>float32</th><th>float32</th><th>float32</th><th>float32</th><th>float32</th><th>float32</th><th>float64</th><th>float32</th><th>float32[48]</th><th>float32[48,2]</th><th>float32[48]</th><th>bytes18</th><th>bytes18</th><th>bytes18</th><th>bytes18</th><th>bytes18</th><th>bytes1</th><th>bytes26</th><th>bytes5</th><th>bytes5</th><th>bytes28</th><th>bytes26</th><th>float32</th><th>float32</th><th>float64</th><th>float64</th><th>float32</th><th>int16</th></tr></thead>\n",
       "<tr><td>4FGL J1325.5-4300</td><td>201.3813</td><td>-43.0165</td><td>309.5287</td><td>19.4182</td><td>0.0105</td><td>0.0099</td><td>52.570</td><td>0.0170</td><td>0.0161</td><td>52.570</td><td>348</td><td></td><td>63.457</td><td>681.73</td><td>3.5581e-09</td><td>1.1354e-10</td><td>6.3842e-11</td><td>1.5818e-12</td><td>PowerLaw</td><td>1.6191e-11</td><td>3.6314e-13</td><td>2.6492</td><td>0.0230</td><td>1.5264e-11</td><td>3.8875e-13</td><td>2.6662</td><td>0.0187</td><td>-0.0512</td><td>0.0089</td><td>4.148</td><td>1.5995e-11</td><td>3.6033e-13</td><td>2.6978</td><td>0.0243</td><td>-0.00050</td><td>0.00009</td><td>0.6667</td><td>--</td><td>2.917</td><td>7846.10</td><td>2.114724e-07 .. 3.2325198e-11</td><td>-8.719589e-08 .. 1.1165019e-11</td><td>3.3024476e-11 .. 1.3599346e-12</td><td>2.4491396 .. 7.7377543</td><td>8.2470</td><td>0.0202</td><td>0.0401</td><td>--</td><td>--</td><td>--</td><td>--</td><td>--</td><td>1.5569073e-07 .. 1.691461e-07</td><td>-8.575757e-09 .. 7.956436e-09</td><td>23.462181 .. 27.932505</td><td>71.9110</td><td>0.0840</td><td>0.0248</td><td>--</td><td>--</td><td>--</td><td>--</td><td>--</td><td>1.2857228e-07 .. 1.7853088e-07</td><td>-1.8577662e-08 .. 1.7248075e-08</td><td>8.372939 .. 13.303789</td><td>3FGL J1325.4-4301</td><td>3FHL J1325.5-4300</td><td>J1324-4348</td><td>3EG J1324-4314</td><td></td><td>P</td><td>Centaurus A</td><td>RDG</td><td></td><td>Cen A</td><td>CenA Lobes field</td><td>1.0000</td><td>1.0000</td><td>201.3651</td><td>-43.0191</td><td>0.00000</td><td>512</td></tr>\n",
       "</table></div>"
      ],
      "text/plain": [
       "<Table length=1>\n",
       "   Source_Name     RAJ2000  DEJ2000  ... DEC_Counterpart Unc_Counterpart Flags\n",
       "                     deg      deg    ...       deg             deg            \n",
       "     bytes18       float32  float32  ...     float64         float32     int16\n",
       "------------------ -------- -------- ... --------------- --------------- -----\n",
       "4FGL J1325.5-4300  201.3813 -43.0165 ...        -43.0191         0.00000   512"
      ]
     },
     "execution_count": 67,
     "metadata": {},
     "output_type": "execute_result"
    }
   ],
   "source": [
    "fermi_obj_name = table['ASSOC1']\n",
    "objname_fermi = 'Cen A                       ' \n",
    "\n",
    "wg7 = (fermi_obj_name == objname_fermi)\n",
    "print(wg7)\n",
    "table[wg7]"
   ]
  },
  {
   "cell_type": "code",
   "execution_count": 68,
   "metadata": {},
   "outputs": [
    {
     "name": "stdout",
     "output_type": "stream",
     "text": [
      "[70.71067811865477, 173.20508075688772, 547.722557505166, 1732.0508075688772, 5477.2255750516615, 17320.508075688773, 94868.32980505137]\n",
      "[2.0612259417376183e-05, 2.0628062935585528e-05, 8.476477821092905e-06, 3.844446441030654e-06, 2.1366500622043913e-06, 1.9285455481190487e-06, 8.488045566578577e-07]\n"
     ]
    }
   ],
   "source": [
    "Obj_CENA_spectra_fermi = []\n",
    "\n",
    "for gal in table[wg7]:\n",
    "    Obj_CENA_spectra_fermi.extend(gal['nuFnu_Band'])\n",
    "\n",
    "Obj_CENA_spectra_fermi = [i * (624151) for i in Obj_CENA_spectra_fermi] \n",
    "\n",
    "Fermi_Energy_BandMeV = [1000 * math.sqrt(.05*.1), 1000 * math.sqrt(.1*.3), 1000 * math.sqrt(.3*1), 1000 * math.sqrt(1*3), 1000 * math.sqrt(3*10), 1000 * math.sqrt(10*30), 1000 * math.sqrt(30*300)]\n",
    "\n",
    "print(Fermi_Energy_BandMeV)\n",
    "\n",
    "print(Obj_CENA_spectra_fermi)\n",
    "\n",
    "Obj_CENA_spectra_fermi_yerrmin = [8.499001840639973e-06, 1.083222575492572e-06, 2.784467189589836e-07, 1.8675361491713523e-07, 1.865759796262185e-07, 2.9574306723554634e-07, 2.4716116858155895e-07]\n",
    "Obj_CENA_spectra_fermi_yerrmax = [8.780601349165675e-06, 1.083222575492572e-06, 2.784467189589836e-07, 1.8675361491713523e-07, 1.865759796262185e-07, 3.2508960153026416e-07, 2.931743594230098e-07]\n",
    "Obj_CENA_spectra_fermi_yerr = [Obj_CENA_spectra_fermi_yerrmin, Obj_CENA_spectra_fermi_yerrmax]"
   ]
  },
  {
   "cell_type": "code",
   "execution_count": 69,
   "metadata": {},
   "outputs": [
    {
     "data": {
      "text/html": [
       "<div><i>Table length=1</i>\n",
       "<table id=\"table2293884659088\" class=\"table-striped table-bordered table-condensed\">\n",
       "<thead><tr><th>Index</th><th>BAT_NAME</th><th>RA</th><th>DEC</th><th>SNR</th><th>COUNTERPART_NAME</th><th>OTHER_NAME</th><th>CTPT_RA</th><th>CTPT_DEC</th><th>FLUX</th><th>FLUX_LO</th><th>FLUX_HI</th><th>CONTA</th><th>GAMMA</th><th>GAMM_lo</th><th>GAMM_hi</th><th>CHI_SQ_R</th><th>REDSHIFT</th><th>LUM</th><th>ASSOC_STREN</th><th>CL2</th><th>TYPE</th><th>Energy_err</th><th>Flux_err</th><th>Flux</th></tr></thead>\n",
       "<thead><tr><th></th><th></th><th>deg</th><th>deg</th><th></th><th></th><th></th><th>deg</th><th>deg</th><th>10^-12er</th><th>10^-12er</th><th>10^-12er</th><th></th><th></th><th></th><th></th><th></th><th></th><th></th><th></th><th></th><th></th><th>keV</th><th>keV / (s cm2)</th><th>keV / (s cm2)</th></tr></thead>\n",
       "<thead><tr><th>int64</th><th>bytes22</th><th>bytes7</th><th>bytes7</th><th>bytes8</th><th>bytes30</th><th>float64</th><th>bytes8</th><th>bytes8</th><th>bytes8</th><th>bytes8</th><th>bytes8</th><th>bytes5</th><th>bytes5</th><th>bytes7</th><th>bytes7</th><th>bytes9</th><th>float64</th><th>float64</th><th>float64</th><th>bytes3</th><th>bytes25</th><th>float64[8]</th><th>float64[8]</th><th>float64[8]</th></tr></thead>\n",
       "<tr><td>671</td><td>SWIFT J1325.4-4301</td><td>201.365</td><td>-43.019</td><td>604.78</td><td>Cen A</td><td>0.0</td><td>201.3651</td><td>-43.0191</td><td>1346.34</td><td>1343.29</td><td>1350.03</td><td>0.0</td><td>1.88</td><td>1.88</td><td>1.89</td><td>2.20</td><td>0.0018</td><td>42.98</td><td>0.0</td><td>80</td><td>Beamed AGN</td><td>3.0 .. 22.5</td><td>0.00108032196 .. 0.0191586595</td><td>0.274805427 .. 0.350963622</td></tr>\n",
       "</table></div>"
      ],
      "text/plain": [
       "<Table length=1>\n",
       "Index      BAT_NAME      ...            Flux           \n",
       "                         ...       keV / (s cm2)       \n",
       "int64      bytes22       ...         float64[8]        \n",
       "----- ------------------ ... --------------------------\n",
       "  671 SWIFT J1325.4-4301 ... 0.274805427 .. 0.350963622"
      ]
     },
     "execution_count": 69,
     "metadata": {},
     "output_type": "execute_result"
    }
   ],
   "source": [
    "obj_name = table1['COUNTERPART_NAME']\n",
    "name = 'Cen A'\n",
    "wg2 = (obj_name == name)\n",
    "table1[wg2]"
   ]
  },
  {
   "cell_type": "code",
   "execution_count": 70,
   "metadata": {},
   "outputs": [
    {
     "name": "stdout",
     "output_type": "stream",
     "text": [
      "[0.016733200530681513, 0.021908902300206645, 0.028982753492378877, 0.041833001326703784, 0.06123724356957946, 0.08660254037844387, 0.12247448713915891, 0.1710263137648707]\n",
      "[0.000274805427, 0.00028771191800000003, 0.000295605808, 0.00031094369300000004, 0.000323952645, 0.00033354711500000004, 0.000345252812, 0.000350963622]\n",
      "[1.08032196e-06, 1.19100325e-06, 9.89822089e-07, 1.14119088e-06, 1.4067135100000001e-06, 2.3959358199999997e-06, 4.36010631e-06, 1.9158659500000003e-05]\n"
     ]
    }
   ],
   "source": [
    "Obj_CENA_spectra_swift = []\n",
    "Obj_CENA_spectra_swift_err = []\n",
    "\n",
    "for gal in table1[wg2]:\n",
    "    Obj_CENA_spectra_swift.extend(gal['Flux'])\n",
    "    Obj_CENA_spectra_swift_err.extend(gal['Flux_err'])\n",
    "\n",
    "print(Bat_Energy_BandMeV)\n",
    "\n",
    "Obj_CENA_spectra_swift = [i * (1e-3) for i in Obj_CENA_spectra_swift]\n",
    "Obj_CENA_spectra_swift_err = [i * (1e-3) for i in Obj_CENA_spectra_swift_err]\n",
    "\n",
    "print(Obj_CENA_spectra_swift)\n",
    "print(Obj_CENA_spectra_swift_err)"
   ]
  },
  {
   "cell_type": "code",
   "execution_count": 71,
   "metadata": {},
   "outputs": [],
   "source": [
    "Obj_CENA_COMPTEL_PhotonFlux_075_1MEV_p1 = 11.3 * (1e-5)\n",
    "Obj_CENA_COMPTEL_PhotonFlux_1_3MEV_p1 = 14.2 * (1e-5)\n",
    "Obj_CENA_COMPTEL_PhotonFlux_3_10MEV_p1 = 5.5 * (1e-5)\n",
    "Obj_CENA_COMPTEL_PhotonFlux_10_30MEV_p1 = 1.4 * (1e-5)\n",
    "\n",
    "Obj_CENA_COMPTEL_PhotonFlux_075_1MEV_err_p1 = 2.9 * (1e-5)\n",
    "Obj_CENA_COMPTEL_PhotonFlux_1_3MEV_err_p1 = 4.1 * (1e-5)\n",
    "Obj_CENA_COMPTEL_PhotonFlux_3_10MEV_err_p1 = 0 * (1e-5)\n",
    "Obj_CENA_COMPTEL_PhotonFlux_10_30MEV_err_p1 = 0 * (1e-5)\n",
    "\n",
    "Obj_CENA_COMPTEL_EnergyFlux_075_1MEV_p1 = math.sqrt(0.75) * Obj_CENA_COMPTEL_PhotonFlux_075_1MEV_p1\n",
    "Obj_CENA_COMPTEL_EnergyFlux_1_3MEV_p1 = math.sqrt(3) * Obj_CENA_COMPTEL_PhotonFlux_1_3MEV_p1\n",
    "Obj_CENA_COMPTEL_EnergyFlux_3_10MEV_p1 = math.sqrt(3*10) * Obj_CENA_COMPTEL_PhotonFlux_3_10MEV_p1\n",
    "Obj_CENA_COMPTEL_EnergyFlux_10_30MEV_p1 = math.sqrt(30*10) * Obj_CENA_COMPTEL_PhotonFlux_3_10MEV_p1\n",
    "\n",
    "Obj_CENA_COMPTEL_EnergyFlux_075_1MEV_err_p1 = math.sqrt(0.75) * Obj_CENA_COMPTEL_PhotonFlux_075_1MEV_err_p1 \n",
    "Obj_CENA_COMPTEL_EnergyFlux_1_3MEV_err_p1 = math.sqrt(3) * Obj_CENA_COMPTEL_PhotonFlux_1_3MEV_err_p1\n",
    "Obj_CENA_COMPTEL_EnergyFlux_3_10MEV_err_p1 = 0 \n",
    "Obj_CENA_COMPTEL_EnergyFlux_10_30MEV_err_p1 = 0\n",
    "\n",
    "COMPTEL_CENA_EnergyBand1 = [math.sqrt(0.75), math.sqrt(3)]\n",
    "COMPTEL_CENA_EnergyBand1_UL = [math.sqrt(3*10), math.sqrt(30*10)]\n",
    "\n",
    "Obj_CENA_COMPTEL_EnergyFlux1 = [Obj_CENA_COMPTEL_EnergyFlux_075_1MEV_p1, Obj_CENA_COMPTEL_EnergyFlux_1_3MEV_p1]\n",
    "Obj_CENA_COMPTEL_EnergyFlux1_UL = [Obj_CENA_COMPTEL_EnergyFlux_3_10MEV_p1, Obj_CENA_COMPTEL_EnergyFlux_10_30MEV_p1]\n",
    "Obj_CENA_COMPTEL_EnergyFlux_err1 = [Obj_CENA_COMPTEL_EnergyFlux_075_1MEV_err_p1, Obj_CENA_COMPTEL_EnergyFlux_1_3MEV_err_p1]\n"
   ]
  },
  {
   "cell_type": "code",
   "execution_count": 72,
   "metadata": {},
   "outputs": [],
   "source": [
    "Obj_CENA_COMPTEL_PhotonFlux_075_1MEV_p2 = 4.4 * (1e-5)\n",
    "Obj_CENA_COMPTEL_PhotonFlux_1_3MEV_p2 = 13.9 * (1e-5)\n",
    "Obj_CENA_COMPTEL_PhotonFlux_3_10MEV_p2 = 7 * (1e-5)\n",
    "Obj_CENA_COMPTEL_PhotonFlux_10_30MEV_p2 = 2.7 * (1e-5)\n",
    "\n",
    "Obj_CENA_COMPTEL_PhotonFlux_075_1MEV_err_p2 = 0 * (1e-5)\n",
    "Obj_CENA_COMPTEL_PhotonFlux_1_3MEV_err_p2 = 0 * (1e-5)\n",
    "Obj_CENA_COMPTEL_PhotonFlux_3_10MEV_err_p2 = 1.7 * (1e-5)\n",
    "Obj_CENA_COMPTEL_PhotonFlux_10_30MEV_err_p2 = 0 * (1e-5)\n",
    "\n",
    "Obj_CENA_COMPTEL_EnergyFlux_075_1MEV_p2 = math.sqrt(0.75) * Obj_CENA_COMPTEL_PhotonFlux_075_1MEV_p2\n",
    "Obj_CENA_COMPTEL_EnergyFlux_1_3MEV_p2 = math.sqrt(3) * Obj_CENA_COMPTEL_PhotonFlux_1_3MEV_p2\n",
    "Obj_CENA_COMPTEL_EnergyFlux_3_10MEV_p2 = math.sqrt(3*10) * Obj_CENA_COMPTEL_PhotonFlux_3_10MEV_p2\n",
    "Obj_CENA_COMPTEL_EnergyFlux_10_30MEV_p2 = math.sqrt(30*10) * Obj_CENA_COMPTEL_PhotonFlux_3_10MEV_p2\n",
    "\n",
    "Obj_CENA_COMPTEL_EnergyFlux_075_1MEV_err_p2 = 0 \n",
    "Obj_CENA_COMPTEL_EnergyFlux_1_3MEV_err_p2 = 0\n",
    "Obj_CENA_COMPTEL_EnergyFlux_3_10MEV_err_p2 = Obj_CENA_COMPTEL_PhotonFlux_3_10MEV_err_p2 * math.sqrt(3*10)\n",
    "Obj_CENA_COMPTEL_EnergyFlux_10_30MEV_err_p2 = 0\n",
    "\n",
    "COMPTEL_CENA_EnergyBand2 = [math.sqrt(30)]\n",
    "COMPTEL_CENA_EnergyBand2_UL = [math.sqrt(0.75), math.sqrt(3), math.sqrt(30*10)]\n",
    "\n",
    "Obj_CENA_COMPTEL_EnergyFlux2 = [Obj_CENA_COMPTEL_EnergyFlux_3_10MEV_p2]\n",
    "Obj_CENA_COMPTEL_EnergyFlux2_UL = [Obj_CENA_COMPTEL_EnergyFlux_075_1MEV_p2, Obj_CENA_COMPTEL_EnergyFlux_1_3MEV_p2, Obj_CENA_COMPTEL_EnergyFlux_10_30MEV_p2]\n",
    "Obj_CENA_COMPTEL_EnergyFlux_err2 = [Obj_CENA_COMPTEL_EnergyFlux_3_10MEV_err_p2]"
   ]
  },
  {
   "cell_type": "code",
   "execution_count": 73,
   "metadata": {},
   "outputs": [
    {
     "name": "stdout",
     "output_type": "stream",
     "text": [
      "[0.00025807557032776274, 0.00021361179742701477, 0.0006754998149518622]\n"
     ]
    }
   ],
   "source": [
    "Obj_CENA_COMPTEL_PhotonFlux_075_1MEV_p3 = 24.1 * (1e-5)\n",
    "Obj_CENA_COMPTEL_PhotonFlux_1_3MEV_p3 = 14.9 * (1e-5)\n",
    "Obj_CENA_COMPTEL_PhotonFlux_3_10MEV_p3 = 3.9 * (1e-5)\n",
    "Obj_CENA_COMPTEL_PhotonFlux_10_30MEV_p3 = 1.2 * (1e-5)\n",
    "\n",
    "Obj_CENA_COMPTEL_PhotonFlux_075_1MEV_err_p3 = 6.2 * (1e-5)\n",
    "Obj_CENA_COMPTEL_PhotonFlux_1_3MEV_err_p3 = 0 * (1e-5)\n",
    "Obj_CENA_COMPTEL_PhotonFlux_3_10MEV_err_p3 = 0 * (1e-5)\n",
    "Obj_CENA_COMPTEL_PhotonFlux_10_30MEV_err_p3 = 0 * (1e-5)\n",
    "\n",
    "Obj_CENA_COMPTEL_EnergyFlux_075_1MEV_p3 = math.sqrt(0.75) * Obj_CENA_COMPTEL_PhotonFlux_075_1MEV_p3\n",
    "Obj_CENA_COMPTEL_EnergyFlux_1_3MEV_p3 = math.sqrt(3) * Obj_CENA_COMPTEL_PhotonFlux_1_3MEV_p3\n",
    "Obj_CENA_COMPTEL_EnergyFlux_3_10MEV_p3 = math.sqrt(3*10) * Obj_CENA_COMPTEL_PhotonFlux_3_10MEV_p3\n",
    "Obj_CENA_COMPTEL_EnergyFlux_10_30MEV_p3 = math.sqrt(30*10) * Obj_CENA_COMPTEL_PhotonFlux_3_10MEV_p3\n",
    "\n",
    "Obj_CENA_COMPTEL_EnergyFlux_075_1MEV_err_p3 = Obj_CENA_COMPTEL_PhotonFlux_075_1MEV_err_p3 * math.sqrt(0.75)\n",
    "Obj_CENA_COMPTEL_EnergyFlux_1_3MEV_err_p3 = 0\n",
    "Obj_CENA_COMPTEL_EnergyFlux_3_10MEV_err_p3 = 0\n",
    "Obj_CENA_COMPTEL_EnergyFlux_10_30MEV_err_p3 = 0\n",
    "\n",
    "Obj_CENA_COMPTEL_EnergyFlux3 = [Obj_CENA_COMPTEL_EnergyFlux_075_1MEV_p3]\n",
    "Obj_CENA_COMPTEL_EnergyFlux_err3 = [Obj_CENA_COMPTEL_EnergyFlux_075_1MEV_err_p3]\n",
    "Obj_CENA_COMPTEL_EnergyFlux3_UL = [Obj_CENA_COMPTEL_EnergyFlux_1_3MEV_p3, Obj_CENA_COMPTEL_EnergyFlux_3_10MEV_p3, Obj_CENA_COMPTEL_EnergyFlux_10_30MEV_p3]\n",
    "\n",
    "COMPTEL_CENA_EnergyBand3 = [math.sqrt(0.75)]\n",
    "COMPTEL_CENA_EnergyBand3_UL = [math.sqrt(3), math.sqrt(30), math.sqrt(30*10)]\n",
    "\n",
    "print(Obj_CENA_COMPTEL_EnergyFlux3_UL)"
   ]
  },
  {
   "cell_type": "code",
   "execution_count": 74,
   "metadata": {},
   "outputs": [],
   "source": [
    "Obj_CENA_COMPTEL_PhotonFlux_075_1MEV_p1to4 = 9.1 * (1e-5)\n",
    "Obj_CENA_COMPTEL_PhotonFlux_1_3MEV_p1to4 = 6.4 * (1e-5)\n",
    "Obj_CENA_COMPTEL_PhotonFlux_3_10MEV_p1to4 = 2.1 * (1e-5)\n",
    "Obj_CENA_COMPTEL_PhotonFlux_10_30MEV_p1to4 = 0.6 * (1e-5)\n",
    "\n",
    "Obj_CENA_COMPTEL_PhotonFlux_075_1MEV_err_p1to4 = 3.0 * (1e-5)\n",
    "Obj_CENA_COMPTEL_PhotonFlux_1_3MEV_err_p1to4 = 2.5 * (1e-5)\n",
    "Obj_CENA_COMPTEL_PhotonFlux_3_10MEV_err_p1to4 = 2.1 * (1e-5)\n",
    "Obj_CENA_COMPTEL_PhotonFlux_10_30MEV_err_p1to4 = 0 * (1e-5)\n",
    "\n",
    "Obj_CENA_COMPTEL_EnergyFlux_075_1MEV_p1to4 = math.sqrt(0.75) * Obj_CENA_COMPTEL_PhotonFlux_075_1MEV_p1to4\n",
    "Obj_CENA_COMPTEL_EnergyFlux_1_3MEV_p1to4 = math.sqrt(3) * Obj_CENA_COMPTEL_PhotonFlux_1_3MEV_p1to4\n",
    "Obj_CENA_COMPTEL_EnergyFlux_3_10MEV_p1to4 = math.sqrt(3*10) * Obj_CENA_COMPTEL_PhotonFlux_3_10MEV_p1to4\n",
    "Obj_CENA_COMPTEL_EnergyFlux_10_30MEV_p1to4 = math.sqrt(30*10) * Obj_CENA_COMPTEL_PhotonFlux_3_10MEV_p1to4\n",
    "\n",
    "Obj_CENA_COMPTEL_EnergyFlux_075_1MEV_err_p1to4 = Obj_CENA_COMPTEL_PhotonFlux_075_1MEV_err_p1to4 * math.sqrt(0.75)\n",
    "Obj_CENA_COMPTEL_EnergyFlux_1_3MEV_err_p1to4 = Obj_CENA_COMPTEL_PhotonFlux_1_3MEV_err_p1to4 * math.sqrt(3)\n",
    "Obj_CENA_COMPTEL_EnergyFlux_3_10MEV_err_p1to4 = Obj_CENA_COMPTEL_PhotonFlux_3_10MEV_err_p1to4 * math.sqrt(30)\n",
    "Obj_CENA_COMPTEL_EnergyFlux_10_30MEV_err_p1to4 = 0\n",
    "\n",
    "Obj_CENA_COMPTEL_EnergyFlux1to4 = [Obj_CENA_COMPTEL_EnergyFlux_075_1MEV_p1to4, Obj_CENA_COMPTEL_EnergyFlux_1_3MEV_p1to4, Obj_CENA_COMPTEL_EnergyFlux_10_30MEV_p1to4]\n",
    "Obj_CENA_COMPTEL_EnergyFlux_err1to4 = [Obj_CENA_COMPTEL_EnergyFlux_075_1MEV_err_p1to4, Obj_CENA_COMPTEL_EnergyFlux_1_3MEV_err_p1to4, Obj_CENA_COMPTEL_EnergyFlux_3_10MEV_err_p1to4]\n",
    "Obj_CENA_COMPTEL_EnergyFlux1to4_UL = [Obj_CENA_COMPTEL_EnergyFlux_10_30MEV_p1to4]\n",
    "\n",
    "COMPTEL_CENA_EnergyBand1to4_UL = [math.sqrt(30*10)] \n",
    "COMPTEL_CENA_EnergyBand1to4 = [math.sqrt(0.75), math.sqrt(3), math.sqrt(30)]"
   ]
  },
  {
   "cell_type": "code",
   "execution_count": 75,
   "metadata": {},
   "outputs": [
    {
     "data": {
      "text/html": [
       "<div><i>Table length=1</i>\n",
       "<table id=\"table2293884680144\" class=\"table-striped table-bordered table-condensed\">\n",
       "<thead><tr><th>Name</th><th>RAdeg</th><th>DEdeg</th><th>GLON</th><th>GLAT</th><th>ePos</th><th>Signi</th><th>EF30-100</th><th>e_EF30-100</th><th>EF100-300</th><th>e_EF100-300</th><th>F30-100</th><th>e_F30-100</th><th>F100-300</th><th>e_F100-300</th><th>Class1</th><th>z</th><th>Assoc1</th><th>Assoc3FGL</th><th>AssocCOMP</th></tr></thead>\n",
       "<thead><tr><th></th><th>deg</th><th>deg</th><th>deg</th><th>deg</th><th>deg</th><th></th><th>mW / m2</th><th>mW / m2</th><th>mW / m2</th><th>mW / m2</th><th>1/cm2/s</th><th>1/cm2/s</th><th>1/cm2/s</th><th>1/cm2/s</th><th></th><th></th><th></th><th></th><th></th></tr></thead>\n",
       "<thead><tr><th>bytes15</th><th>float64</th><th>float64</th><th>float64</th><th>float64</th><th>float64</th><th>float64</th><th>float64</th><th>float64</th><th>float64</th><th>float64</th><th>float64</th><th>float64</th><th>float64</th><th>float64</th><th>bytes5</th><th>float64</th><th>bytes18</th><th>bytes18</th><th>bytes23</th></tr></thead>\n",
       "<tr><td>1FLE J1324-4319</td><td>201.120453</td><td>-43.318058</td><td>309.285156</td><td>19.145691</td><td>0.245276</td><td>24.427</td><td>7.094940e-11</td><td>1.573150e-11</td><td>4.112710e-11</td><td>1.222600e-11</td><td>8.515980e-07</td><td>1.888240e-07</td><td>2.700190e-07</td><td>4.652980e-08</td><td>rdg</td><td>0.001800</td><td>3FGL J1325.4-4301</td><td>3FGL J1325.4-4301</td><td>Centaurus_A</td></tr>\n",
       "</table></div>"
      ],
      "text/plain": [
       "<Table length=1>\n",
       "      Name        RAdeg    ...     Assoc3FGL             AssocCOMP       \n",
       "                   deg     ...                                           \n",
       "    bytes15      float64   ...      bytes18               bytes23        \n",
       "--------------- ---------- ... ------------------ -----------------------\n",
       "1FLE J1324-4319 201.120453 ... 3FGL J1325.4-4301  Centaurus_A            "
      ]
     },
     "execution_count": 75,
     "metadata": {},
     "output_type": "execute_result"
    }
   ],
   "source": [
    "FLE_obj_name = bright_FLE['AssocCOMP']\n",
    "obj_name_COMP = 'Centaurus_A            '\n",
    "\n",
    "wg9 = (obj_name_COMP == FLE_obj_name)\n",
    "#print(wg9)\n",
    "\n",
    "bright_FLE[wg9]"
   ]
  },
  {
   "cell_type": "code",
   "execution_count": 76,
   "metadata": {},
   "outputs": [
    {
     "name": "stdout",
     "output_type": "stream",
     "text": [
      "[7.09494e-11]\n",
      "[1.57315e-11]\n",
      "[4.11271e-11]\n",
      "[1.2226e-11]\n",
      "[4.42831389594e-05, 2.5669520592099998e-05]\n",
      "[9.8188314565e-06, 7.630870126000001e-06]\n",
      "[54.772255750516614, 173.20508075688772]\n"
     ]
    }
   ],
   "source": [
    "EFBucket30_100 = []\n",
    "EFBucket30_100e = []\n",
    "EFBucket100_300 = []\n",
    "EFBucket100_300e = []\n",
    "\n",
    "for gal in bright_FLE[wg9]:\n",
    "    EFBucket30_100.append(gal['EF30-100'])\n",
    "    EFBucket30_100e.append(gal['e_EF30-100'])\n",
    "    EFBucket100_300.append(gal['EF100-300'])\n",
    "    EFBucket100_300e.append(gal['e_EF100-300'])\n",
    "\n",
    "print(EFBucket30_100)\n",
    "print(EFBucket30_100e)\n",
    "print(EFBucket100_300)\n",
    "print(EFBucket100_300e)\n",
    "\n",
    "EF_FLE = EFBucket30_100 + EFBucket100_300\n",
    "EF_FLEe = EFBucket30_100e + EFBucket100_300e\n",
    "\n",
    "EF_FLE = [624151 * x for x in EF_FLE]\n",
    "EF_FLEe = [624151 * x for x in EF_FLEe]\n",
    "\n",
    "\n",
    "print(EF_FLE)\n",
    "print(EF_FLEe)\n",
    "\n",
    "EBucket30_100 = math.sqrt(30*100)\n",
    "EBucket100_300 = math.sqrt(100*300)\n",
    "\n",
    "EBuckets = [EBucket30_100, EBucket100_300]\n",
    "print(EBuckets)"
   ]
  },
  {
   "cell_type": "code",
   "execution_count": 77,
   "metadata": {},
   "outputs": [
    {
     "data": {
      "text/plain": [
       "Text(0.5, 1.0, 'Spectra of Object Cen A')"
      ]
     },
     "execution_count": 77,
     "metadata": {},
     "output_type": "execute_result"
    },
    {
     "data": {
      "image/png": "[encoded data removed]",
      "text/plain": [
       "<Figure size 640x480 with 1 Axes>"
      ]
     },
     "metadata": {},
     "output_type": "display_data"
    }
   ],
   "source": [
    "plt.errorbar(Bat_Energy_BandMeV, Obj_CENA_spectra_swift, yerr = Obj_CENA_spectra_swift_err, fmt = 'o', markersize = 3, color = 'blue', label = 'Swift')\n",
    "plt.errorbar(Fermi_Energy_BandMeV, Obj_CENA_spectra_fermi, yerr = Obj_CENA_spectra_fermi_yerr, fmt = 'o', markersize = 3, color = 'red', label = 'fermi')\n",
    "plt.errorbar(COMPTEL_CENA_EnergyBand1, Obj_CENA_COMPTEL_EnergyFlux1, yerr = Obj_CENA_COMPTEL_EnergyFlux_err1, fmt = 'o', markersize = 3, color = 'orange', label = 'COMPTEL - Phase 1',)\n",
    "plt.scatter(COMPTEL_CENA_EnergyBand1_UL, Obj_CENA_COMPTEL_EnergyFlux1_UL, marker = r'$\\downarrow$', color = 'orange')\n",
    "plt.errorbar(COMPTEL_CENA_EnergyBand2, Obj_CENA_COMPTEL_EnergyFlux2, yerr = Obj_CENA_COMPTEL_EnergyFlux_err2, fmt = 'o', markersize = 3, color = 'green', label = 'COMPTEL - Phase 2')\n",
    "plt.scatter(COMPTEL_CENA_EnergyBand2_UL, Obj_CENA_COMPTEL_EnergyFlux2_UL, marker = r'$\\downarrow$', color = 'green')\n",
    "plt.errorbar(COMPTEL_CENA_EnergyBand3, Obj_CENA_COMPTEL_EnergyFlux3, yerr = Obj_CENA_COMPTEL_EnergyFlux_err3, fmt = 'o', markersize = 3, color = 'teal', label = 'COMPTEL - Phase 3')\n",
    "plt.scatter(COMPTEL_CENA_EnergyBand3_UL, Obj_CENA_COMPTEL_EnergyFlux3_UL, marker = r'$\\downarrow$', color = 'teal')\n",
    "plt.errorbar(COMPTEL_CENA_EnergyBand1to4, Obj_CENA_COMPTEL_EnergyFlux1to4, yerr = Obj_CENA_COMPTEL_EnergyFlux_err1to4, fmt = 'o', markersize = 3, color = 'pink', label = 'COMPTEL - Phase 1 to 4')\n",
    "plt.scatter(COMPTEL_CENA_EnergyBand1to4_UL, Obj_CENA_COMPTEL_EnergyFlux1to4_UL, marker = r'$\\downarrow$', color = 'pink')\n",
    "plt.errorbar(EBuckets, EF_FLE, yerr = EF_FLEe, fmt = 'o', markersize = 3, color = 'purple', label = '1FLE')\n",
    "plt.legend(loc='lower left')\n",
    "plt.xscale('log')\n",
    "plt.yscale('log')\n",
    "plt.xlabel('Energy in MeV')\n",
    "plt.ylabel('Flux (MeV s^-1 cm^-2)')\n",
    "plt.title('Spectra of Object Cen A')"
   ]
  },
  {
   "cell_type": "markdown",
   "metadata": {},
   "source": [
    "# GRO J1224+2155"
   ]
  },
  {
   "cell_type": "code",
   "execution_count": 78,
   "metadata": {},
   "outputs": [],
   "source": [
    "Obj_GROJ1224_COMPTEL_PhotonFlux_075_1MEV = 4.8 * (1e-5)\n",
    "Obj_GROJ1224_COMPTEL_PhotonFlux_1_3MEV = 5.4 * (1e-5)\n",
    "Obj_GROJ1224_COMPTEL_PhotonFlux_3_10MEV =  2.6 * (1e-5)\n",
    "Obj_GROJ1224_COMPTEL_PhotonFlux_10_30MEV = 0.9 * (1e-5)\n",
    "\n",
    "Obj_GROJ1224_COMPTEL_EnergyFlux_075_1MEV = math.sqrt(0.75) * Obj_GROJ1224_COMPTEL_PhotonFlux_075_1MEV\n",
    "Obj_GROJ1224_COMPTEL_EnergyFlux_1_3MEV = math.sqrt(3) * Obj_GROJ1224_COMPTEL_PhotonFlux_1_3MEV\n",
    "Obj_GROJ1224_COMPTEL_EnergyFlux_3_10MEV = math.sqrt(30) * Obj_GROJ1224_COMPTEL_PhotonFlux_3_10MEV\n",
    "Obj_GROJ1224_COMPTEL_EnergyFlux_10_30MEV = math.sqrt(300) * Obj_GROJ1224_COMPTEL_PhotonFlux_10_30MEV\n",
    "\n",
    "Obj_GROJ1224_COMPTEL_PhotonFlux_075_1MEV_err = 0 * (1e-5)\n",
    "Obj_GROJ1224_COMPTEL_PhotonFlux_1_3MEV_err = 0 * (1e-5)\n",
    "Obj_GROJ1224_COMPTEL_PhotonFlux_3_10MEV_err = 0.9 * (1e-5)\n",
    "Obj_GROJ1224_COMPTEL_PhotonFlux_10_30MEV_err = 0 * (1e-5)\n",
    "\n",
    "Obj_GROJ1224_COMPTEL_EnergyFlux_075_1MEV_err = math.sqrt(0.75) * Obj_GROJ1224_COMPTEL_PhotonFlux_075_1MEV_err\n",
    "Obj_GROJ1224_COMPTEL_EnergyFlux_1_3MEV_err = math.sqrt(3) * Obj_GROJ1224_COMPTEL_PhotonFlux_1_3MEV_err\n",
    "Obj_GROJ1224_COMPTEL_EnergyFlux_3_10MEV_err = math.sqrt(30) * Obj_GROJ1224_COMPTEL_PhotonFlux_3_10MEV_err\n",
    "Obj_GROJ1224_COMPTEL_EnergyFlux_10_30MEV_err = math.sqrt(300) * Obj_GROJ1224_COMPTEL_PhotonFlux_10_30MEV_err\n",
    "\n",
    "COMPTEL_GROJ1224_EnergyBand = [math.sqrt(30)]\n",
    "COMTPEL_GROJ1224_EnergyBand_UL = [math.sqrt(0.75), math.sqrt(3), math.sqrt(300)]\n",
    "\n",
    "COMPTEL_GROJ1224_EnergyFlux = [Obj_GROJ1224_COMPTEL_EnergyFlux_3_10MEV]\n",
    "COMPTEL_GROJ1224_EnergyFlux_err = [Obj_GROJ1224_COMPTEL_PhotonFlux_3_10MEV_err]\n",
    "COMPTEL_GROJ1224_EnergyFlux_UL = [Obj_GROJ1224_COMPTEL_EnergyFlux_075_1MEV, Obj_GROJ1224_COMPTEL_EnergyFlux_1_3MEV, Obj_GROJ1224_COMPTEL_EnergyFlux_10_30MEV]"
   ]
  },
  {
   "cell_type": "code",
   "execution_count": 79,
   "metadata": {},
   "outputs": [
    {
     "name": "stdout",
     "output_type": "stream",
     "text": [
      "[False False False ... False False False]\n"
     ]
    },
    {
     "data": {
      "text/html": [
       "<div><i>Table length=1</i>\n",
       "<table id=\"table2293883459216\" class=\"table-striped table-bordered table-condensed\">\n",
       "<thead><tr><th>Source_Name</th><th>RAJ2000</th><th>DEJ2000</th><th>GLON</th><th>GLAT</th><th>Conf_68_SemiMajor</th><th>Conf_68_SemiMinor</th><th>Conf_68_PosAng</th><th>Conf_95_SemiMajor</th><th>Conf_95_SemiMinor</th><th>Conf_95_PosAng</th><th>ROI_num</th><th>Extended_Source_Name</th><th>Signif_Avg</th><th>Pivot_Energy</th><th>Flux1000</th><th>Unc_Flux1000</th><th>Energy_Flux100</th><th>Unc_Energy_Flux100</th><th>SpectrumType</th><th>PL_Flux_Density</th><th>Unc_PL_Flux_Density</th><th>PL_Index</th><th>Unc_PL_Index</th><th>LP_Flux_Density</th><th>Unc_LP_Flux_Density</th><th>LP_Index</th><th>Unc_LP_Index</th><th>LP_beta</th><th>Unc_LP_beta</th><th>LP_SigCurv</th><th>PLEC_Flux_Density</th><th>Unc_PLEC_Flux_Density</th><th>PLEC_Index</th><th>Unc_PLEC_Index</th><th>PLEC_Expfactor</th><th>Unc_PLEC_Expfactor</th><th>PLEC_Exp_Index</th><th>Unc_PLEC_Exp_Index</th><th>PLEC_SigCurv</th><th>Npred</th><th>Flux_Band</th><th>Unc_Flux_Band</th><th>nuFnu_Band</th><th>Sqrt_TS_Band</th><th>Variability_Index</th><th>Frac_Variability</th><th>Unc_Frac_Variability</th><th>Signif_Peak</th><th>Flux_Peak</th><th>Unc_Flux_Peak</th><th>Time_Peak</th><th>Peak_Interval</th><th>Flux_History</th><th>Unc_Flux_History</th><th>Sqrt_TS_History</th><th>Variability2_Index</th><th>Frac2_Variability</th><th>Unc_Frac2_Variability</th><th>Signif2_Peak</th><th>Flux2_Peak</th><th>Unc_Flux2_Peak</th><th>Time2_Peak</th><th>Peak2_Interval</th><th>Flux2_History</th><th>Unc_Flux2_History</th><th>Sqrt_TS2_History</th><th>ASSOC_FGL</th><th>ASSOC_FHL</th><th>ASSOC_GAM1</th><th>ASSOC_GAM2</th><th>ASSOC_GAM3</th><th>TEVCAT_FLAG</th><th>ASSOC_TEV</th><th>CLASS1</th><th>CLASS2</th><th>ASSOC1</th><th>ASSOC2</th><th>ASSOC_PROB_BAY</th><th>ASSOC_PROB_LR</th><th>RA_Counterpart</th><th>DEC_Counterpart</th><th>Unc_Counterpart</th><th>Flags</th></tr></thead>\n",
       "<thead><tr><th></th><th>deg</th><th>deg</th><th>deg</th><th>deg</th><th>deg</th><th>deg</th><th>deg</th><th>deg</th><th>deg</th><th>deg</th><th></th><th></th><th></th><th>MeV</th><th>ph / (s cm2)</th><th>ph / (s cm2)</th><th>erg / (s cm2)</th><th>erg / (s cm2)</th><th></th><th>ph / (MeV s cm2)</th><th>ph / (MeV s cm2)</th><th></th><th></th><th>ph / (MeV s cm2)</th><th>ph / (MeV s cm2)</th><th></th><th></th><th></th><th></th><th></th><th>ph / (MeV s cm2)</th><th>ph / (MeV s cm2)</th><th></th><th></th><th></th><th></th><th></th><th></th><th></th><th></th><th>ph / (s cm2)</th><th>ph / (s cm2)</th><th>erg / (s cm2)</th><th></th><th></th><th></th><th></th><th></th><th>ph / (s cm2)</th><th>ph / (s cm2)</th><th>s</th><th>s</th><th>ph / (s cm2)</th><th>ph / (s cm2)</th><th></th><th></th><th></th><th></th><th></th><th>ph / (s cm2)</th><th>ph / (s cm2)</th><th>s</th><th>s</th><th>ph / (s cm2)</th><th>ph / (s cm2)</th><th></th><th></th><th></th><th></th><th></th><th></th><th></th><th></th><th></th><th></th><th></th><th></th><th></th><th></th><th>deg</th><th>deg</th><th>deg</th><th></th></tr></thead>\n",
       "<thead><tr><th>bytes18</th><th>float32</th><th>float32</th><th>float32</th><th>float32</th><th>float32</th><th>float32</th><th>float32</th><th>float32</th><th>float32</th><th>float32</th><th>int16</th><th>bytes18</th><th>float32</th><th>float32</th><th>float32</th><th>float32</th><th>float32</th><th>float32</th><th>bytes17</th><th>float32</th><th>float32</th><th>float32</th><th>float32</th><th>float32</th><th>float32</th><th>float32</th><th>float32</th><th>float32</th><th>float32</th><th>float32</th><th>float32</th><th>float32</th><th>float32</th><th>float32</th><th>float32</th><th>float32</th><th>float32</th><th>float32</th><th>float32</th><th>float32</th><th>float32[7]</th><th>float32[7,2]</th><th>float32[7]</th><th>float32[7]</th><th>float32</th><th>float32</th><th>float32</th><th>float32</th><th>float32</th><th>float32</th><th>float64</th><th>float32</th><th>float32[8]</th><th>float32[8,2]</th><th>float32[8]</th><th>float32</th><th>float32</th><th>float32</th><th>float32</th><th>float32</th><th>float32</th><th>float64</th><th>float32</th><th>float32[48]</th><th>float32[48,2]</th><th>float32[48]</th><th>bytes18</th><th>bytes18</th><th>bytes18</th><th>bytes18</th><th>bytes18</th><th>bytes1</th><th>bytes26</th><th>bytes5</th><th>bytes5</th><th>bytes28</th><th>bytes26</th><th>float32</th><th>float32</th><th>float64</th><th>float64</th><th>float32</th><th>int16</th></tr></thead>\n",
       "<tr><td>4FGL J1224.9+2122</td><td>186.2277</td><td>21.3814</td><td>255.0679</td><td>81.6616</td><td>0.0055</td><td>0.0055</td><td>-83.110</td><td>0.0089</td><td>0.0089</td><td>-83.110</td><td>1068</td><td></td><td>211.243</td><td>393.68</td><td>1.9832e-08</td><td>2.4006e-10</td><td>2.3198e-10</td><td>2.2976e-12</td><td>LogParabola</td><td>2.3269e-10</td><td>1.9988e-12</td><td>2.3335</td><td>0.0068</td><td>2.4309e-10</td><td>2.3355e-12</td><td>2.2722</td><td>0.0090</td><td>0.0450</td><td>0.0045</td><td>7.277</td><td>2.3681e-10</td><td>2.1202e-12</td><td>2.2324</td><td>0.0133</td><td>0.00128</td><td>0.00015</td><td>0.6667</td><td>--</td><td>6.939</td><td>24063.52</td><td>5.168021e-07 .. 1.0360074e-10</td><td>-2.2967862e-08 .. 1.9310217e-11</td><td>8.240524e-11 .. 4.2031556e-12</td><td>12.617417 .. 17.562609</td><td>17566.5957</td><td>0.9943</td><td>0.2658</td><td>202.662</td><td>1.3178145e-06</td><td>1.2597564e-08</td><td>286670016.0</td><td>31560000.0</td><td>7.767332e-08 .. 5.7892958e-08</td><td>-3.902095e-09 .. 4.0574033e-09</td><td>30.362185 .. 21.345629</td><td>31860.0586</td><td>1.2400</td><td>0.1280</td><td>145.815</td><td>2.5350862e-06</td><td>3.3761104e-08</td><td>299820000.0</td><td>5260000.0</td><td>5.619648e-08 .. 8.0303174e-08</td><td>-7.561023e-09 .. 1.1468526e-08</td><td>10.523777 .. 10.363925</td><td>3FGL J1224.9+2122</td><td>3FHL J1224.9+2122</td><td></td><td>3EG J1224+2118</td><td></td><td>P</td><td>4C +21.35</td><td>FSRQ</td><td></td><td>4C +21.35</td><td></td><td>1.0000</td><td>0.9990</td><td>186.2269</td><td>21.3796</td><td>0.00000</td><td>0</td></tr>\n",
       "</table></div>"
      ],
      "text/plain": [
       "<Table length=1>\n",
       "   Source_Name     RAJ2000  DEJ2000  ... DEC_Counterpart Unc_Counterpart Flags\n",
       "                     deg      deg    ...       deg             deg            \n",
       "     bytes18       float32  float32  ...     float64         float32     int16\n",
       "------------------ -------- -------- ... --------------- --------------- -----\n",
       "4FGL J1224.9+2122  186.2277  21.3814 ...         21.3796         0.00000     0"
      ]
     },
     "execution_count": 79,
     "metadata": {},
     "output_type": "execute_result"
    }
   ],
   "source": [
    "fermi_obj_name = table['ASSOC1']\n",
    "objname_fermi = '4C +21.35                   ' \n",
    "\n",
    "wg3 = (fermi_obj_name == objname_fermi)\n",
    "print(wg3)\n",
    "\n",
    "table[wg3]"
   ]
  },
  {
   "cell_type": "code",
   "execution_count": 80,
   "metadata": {},
   "outputs": [
    {
     "name": "stdout",
     "output_type": "stream",
     "text": [
      "[70.71067811865477, 173.20508075688772, 547.722557505166, 1732.0508075688772, 5477.2255750516615, 17320.508075688773, 94868.32980505137]\n",
      "[5.1433314419264964e-05, 4.4278036597705794e-05, 3.4013783613721926e-05, 2.2914534053349034e-05, 1.3601667807233361e-05, 6.8625624717278885e-06, 2.623403782562716e-06]\n"
     ]
    }
   ],
   "source": [
    "Obj_GROJ1224_spectra_fermi = []\n",
    "\n",
    "for gal in table[wg3]:\n",
    "    Obj_GROJ1224_spectra_fermi.extend(gal['nuFnu_Band'])\n",
    "\n",
    "Obj_GROJ1224_spectra_fermi = [i * (624151) for i in Obj_GROJ1224_spectra_fermi] \n",
    "\n",
    "Fermi_Energy_BandMeV = [1000 * math.sqrt(.05*.1), 1000 * math.sqrt(.1*.3), 1000 * math.sqrt(.3*1), 1000 * math.sqrt(1*3), 1000 * math.sqrt(3*10), 1000 * math.sqrt(10*30), 1000 * math.sqrt(30*300)]\n",
    "\n",
    "print(Fermi_Energy_BandMeV)\n",
    "\n",
    "print(Obj_GROJ1224_spectra_fermi)\n",
    "\n",
    "Obj_GROJ1224_spectra_fermi_yerrmin = [2.285813630340059e-06, 9.577348479655702e-07, 4.3924044177919876e-07, 3.9363899262444615e-07, 4.433676032107115e-07, 5.649715804076968e-07, 4.252033627380231e-07]\n",
    "Obj_GROJ1224_spectra_fermi_yerrmax = [2.285813630340059e-06, 9.577348479655702e-07, 4.3924044177919876e-07, 3.9363899262444615e-07, 4.433676032107115e-07, 5.649715804076968e-07, 4.889781540594177e-07]\n",
    "Obj_GROJ1224_spectra_fermi_yerr = [Obj_GROJ1224_spectra_fermi_yerrmin, Obj_GROJ1224_spectra_fermi_yerrmax]"
   ]
  },
  {
   "cell_type": "code",
   "execution_count": 81,
   "metadata": {},
   "outputs": [
    {
     "data": {
      "text/html": [
       "<div><i>Table length=1</i>\n",
       "<table id=\"table2293864805968\" class=\"table-striped table-bordered table-condensed\">\n",
       "<thead><tr><th>Index</th><th>BAT_NAME</th><th>RA</th><th>DEC</th><th>SNR</th><th>COUNTERPART_NAME</th><th>OTHER_NAME</th><th>CTPT_RA</th><th>CTPT_DEC</th><th>FLUX</th><th>FLUX_LO</th><th>FLUX_HI</th><th>CONTA</th><th>GAMMA</th><th>GAMM_lo</th><th>GAMM_hi</th><th>CHI_SQ_R</th><th>REDSHIFT</th><th>LUM</th><th>ASSOC_STREN</th><th>CL2</th><th>TYPE</th><th>Energy_err</th><th>Flux_err</th><th>Flux</th></tr></thead>\n",
       "<thead><tr><th></th><th></th><th>deg</th><th>deg</th><th></th><th></th><th></th><th>deg</th><th>deg</th><th>10^-12er</th><th>10^-12er</th><th>10^-12er</th><th></th><th></th><th></th><th></th><th></th><th></th><th></th><th></th><th></th><th></th><th>keV</th><th>keV / (s cm2)</th><th>keV / (s cm2)</th></tr></thead>\n",
       "<thead><tr><th>int64</th><th>bytes22</th><th>bytes7</th><th>bytes7</th><th>bytes8</th><th>bytes30</th><th>float64</th><th>bytes8</th><th>bytes8</th><th>bytes8</th><th>bytes8</th><th>bytes8</th><th>bytes5</th><th>bytes5</th><th>bytes7</th><th>bytes7</th><th>bytes9</th><th>float64</th><th>float64</th><th>float64</th><th>bytes3</th><th>bytes25</th><th>float64[8]</th><th>float64[8]</th><th>float64[8]</th></tr></thead>\n",
       "<tr><td>614</td><td>SWIFT J1224.9+2122</td><td>186.221</td><td>21.401</td><td>12.60</td><td>PG 1222+216</td><td>0.0</td><td>186.2269</td><td>21.3796</td><td>24.50</td><td>21.63</td><td>27.16</td><td>0.0</td><td>1.70</td><td>1.45</td><td>1.96</td><td>1.80</td><td>0.432</td><td>46.22</td><td>0.0</td><td>80</td><td>Beamed AGN</td><td>3.0 .. 22.5</td><td>0.000757230446 .. 0.016293589</td><td>0.00400736462 .. 0.0504963249</td></tr>\n",
       "</table></div>"
      ],
      "text/plain": [
       "<Table length=1>\n",
       "Index      BAT_NAME      ...              Flux            \n",
       "                         ...         keV / (s cm2)        \n",
       "int64      bytes22       ...           float64[8]         \n",
       "----- ------------------ ... -----------------------------\n",
       "  614 SWIFT J1224.9+2122 ... 0.00400736462 .. 0.0504963249"
      ]
     },
     "execution_count": 81,
     "metadata": {},
     "output_type": "execute_result"
    }
   ],
   "source": [
    "obj_name = table1['COUNTERPART_NAME']\n",
    "name = 'PG 1222+216'\n",
    "wg2 = (obj_name == name)\n",
    "table1[wg2]"
   ]
  },
  {
   "cell_type": "code",
   "execution_count": 82,
   "metadata": {},
   "outputs": [
    {
     "name": "stdout",
     "output_type": "stream",
     "text": [
      "[0.016733200530681513, 0.021908902300206645, 0.028982753492378877, 0.041833001326703784, 0.06123724356957946, 0.08660254037844387, 0.12247448713915891, 0.1710263137648707]\n",
      "[4.007364620000001e-06, 5.61628398e-06, 4.02160501e-06, 5.17058698e-06, 5.57197491e-06, 5.61379129e-06, 1.0977961099999999e-05, 5.04963249e-05]\n",
      "[7.572304459999999e-07, 9.01977241e-07, 7.638644889999999e-07, 8.84956447e-07, 1.0694153600000001e-06, 1.97383342e-06, 3.64640518e-06, 1.6293589000000003e-05]\n"
     ]
    }
   ],
   "source": [
    "Obj_GROJ1224_spectra_swift = [] \n",
    "Obj_GROJ1224_spectra_swift_err = []\n",
    "\n",
    "for gal in table1[wg2]:\n",
    "    Obj_GROJ1224_spectra_swift.extend(gal['Flux'])\n",
    "    Obj_GROJ1224_spectra_swift_err.extend(gal['Flux_err'])\n",
    "\n",
    "Bat_Energy_Band = [math.sqrt(14*20), math.sqrt(20*24), math.sqrt(24*35), math.sqrt(35*50), math.sqrt(50*75), math.sqrt(75*100), math.sqrt(100*150), math.sqrt(150*195)]\n",
    "Bat_Energy_BandMeV = [x * .001 for x in Bat_Energy_Band]\n",
    "print(Bat_Energy_BandMeV)\n",
    "\n",
    "\n",
    "Obj_GROJ1224_spectra_swift = [i * (1e-3) for i in Obj_GROJ1224_spectra_swift]\n",
    "Obj_GROJ1224_spectra_swift_err = [i * (1e-3) for i in Obj_GROJ1224_spectra_swift_err]\n",
    "\n",
    "print(Obj_GROJ1224_spectra_swift)\n",
    "print(Obj_GROJ1224_spectra_swift_err)"
   ]
  },
  {
   "cell_type": "code",
   "execution_count": 83,
   "metadata": {},
   "outputs": [
    {
     "data": {
      "text/html": [
       "<div><i>Table length=1</i>\n",
       "<table id=\"table2293855859920\" class=\"table-striped table-bordered table-condensed\">\n",
       "<thead><tr><th>Name</th><th>RAdeg</th><th>DEdeg</th><th>GLON</th><th>GLAT</th><th>ePos</th><th>Signi</th><th>EF30-100</th><th>e_EF30-100</th><th>EF100-300</th><th>e_EF100-300</th><th>F30-100</th><th>e_F30-100</th><th>F100-300</th><th>e_F100-300</th><th>Class1</th><th>z</th><th>Assoc1</th><th>Assoc3FGL</th><th>AssocCOMP</th></tr></thead>\n",
       "<thead><tr><th></th><th>deg</th><th>deg</th><th>deg</th><th>deg</th><th>deg</th><th></th><th>mW / m2</th><th>mW / m2</th><th>mW / m2</th><th>mW / m2</th><th>1/cm2/s</th><th>1/cm2/s</th><th>1/cm2/s</th><th>1/cm2/s</th><th></th><th></th><th></th><th></th><th></th></tr></thead>\n",
       "<thead><tr><th>bytes15</th><th>float64</th><th>float64</th><th>float64</th><th>float64</th><th>float64</th><th>float64</th><th>float64</th><th>float64</th><th>float64</th><th>float64</th><th>float64</th><th>float64</th><th>float64</th><th>float64</th><th>bytes5</th><th>float64</th><th>bytes18</th><th>bytes18</th><th>bytes23</th></tr></thead>\n",
       "<tr><td>1FLE J1224+2118</td><td>186.245590</td><td>21.313829</td><td>255.477493</td><td>81.625549</td><td>0.243811</td><td>28.172</td><td>5.635250e-11</td><td>1.249500e-11</td><td>4.976590e-11</td><td>1.479410e-11</td><td>6.763930e-07</td><td>1.499760e-07</td><td>2.144660e-07</td><td>5.630340e-08</td><td>fsrq</td><td>0.435000</td><td>3FGL J1224.9+2122</td><td>3FGL J1224.9+2122</td><td>GROJ1224+2155</td></tr>\n",
       "</table></div>"
      ],
      "text/plain": [
       "<Table length=1>\n",
       "      Name        RAdeg    ...     Assoc3FGL             AssocCOMP       \n",
       "                   deg     ...                                           \n",
       "    bytes15      float64   ...      bytes18               bytes23        \n",
       "--------------- ---------- ... ------------------ -----------------------\n",
       "1FLE J1224+2118 186.245590 ... 3FGL J1224.9+2122  GROJ1224+2155          "
      ]
     },
     "execution_count": 83,
     "metadata": {},
     "output_type": "execute_result"
    }
   ],
   "source": [
    "FLE_obj_name = bright_FLE['AssocCOMP']\n",
    "obj_name_COMP = 'GROJ1224+2155          '\n",
    "\n",
    "wg9 = (obj_name_COMP == FLE_obj_name)\n",
    "#print(wg9)\n",
    "\n",
    "bright_FLE[wg9]"
   ]
  },
  {
   "cell_type": "code",
   "execution_count": 84,
   "metadata": {},
   "outputs": [
    {
     "name": "stdout",
     "output_type": "stream",
     "text": [
      "[5.63525e-11]\n",
      "[1.2495e-11]\n",
      "[4.97659e-11]\n",
      "[1.47941e-11]\n",
      "[3.51724692275e-05, 3.10614362509e-05]\n",
      "[7.798766745e-06, 9.2337523091e-06]\n",
      "[54.772255750516614, 173.20508075688772]\n"
     ]
    }
   ],
   "source": [
    "EFBucket30_100 = []\n",
    "EFBucket30_100e = []\n",
    "EFBucket100_300 = []\n",
    "EFBucket100_300e = []\n",
    "\n",
    "for gal in bright_FLE[wg9]:\n",
    "    EFBucket30_100.append(gal['EF30-100'])\n",
    "    EFBucket30_100e.append(gal['e_EF30-100'])\n",
    "    EFBucket100_300.append(gal['EF100-300'])\n",
    "    EFBucket100_300e.append(gal['e_EF100-300'])\n",
    "\n",
    "print(EFBucket30_100)\n",
    "print(EFBucket30_100e)\n",
    "print(EFBucket100_300)\n",
    "print(EFBucket100_300e)\n",
    "\n",
    "EF_FLE = EFBucket30_100 + EFBucket100_300\n",
    "EF_FLEe = EFBucket30_100e + EFBucket100_300e\n",
    "\n",
    "EF_FLE = [624151 * x for x in EF_FLE]\n",
    "EF_FLEe = [624151 * x for x in EF_FLEe]\n",
    "\n",
    "\n",
    "print(EF_FLE)\n",
    "print(EF_FLEe)\n",
    "\n",
    "EBucket30_100 = math.sqrt(30*100)\n",
    "EBucket100_300 = math.sqrt(100*300)\n",
    "\n",
    "EBuckets = [EBucket30_100, EBucket100_300]\n",
    "print(EBuckets)"
   ]
  },
  {
   "cell_type": "code",
   "execution_count": 85,
   "metadata": {},
   "outputs": [
    {
     "data": {
      "text/plain": [
       "Text(0.5, 1.0, 'GRO J1224+2155')"
      ]
     },
     "execution_count": 85,
     "metadata": {},
     "output_type": "execute_result"
    },
    {
     "data": {
      "image/png": "[encoded data removed]",
      "text/plain": [
       "<Figure size 640x480 with 1 Axes>"
      ]
     },
     "metadata": {},
     "output_type": "display_data"
    }
   ],
   "source": [
    "plt.errorbar(Bat_Energy_BandMeV, Obj_GROJ1224_spectra_swift, Obj_GROJ1224_spectra_swift_err, fmt = 'o', markersize = 3, color = 'blue', label = 'Swift')\n",
    "plt.errorbar(COMPTEL_GROJ1224_EnergyBand, COMPTEL_GROJ1224_EnergyFlux, yerr = COMPTEL_GROJ1224_EnergyFlux_err, fmt = 'o', markersize = 3, color = 'orange', label = 'COMPTEL')\n",
    "plt.scatter(COMTPEL_GROJ1224_EnergyBand_UL, COMPTEL_GROJ1224_EnergyFlux_UL, marker = r'$\\downarrow$', color = 'orange')\n",
    "plt.errorbar(Fermi_Energy_BandMeV, Obj_GROJ1224_spectra_fermi, Obj_GROJ1224_spectra_fermi_yerr, fmt = 'o', markersize = 3, color = 'red', label = 'Fermi')\n",
    "plt.errorbar(EBuckets, EF_FLE, yerr = EF_FLEe, fmt = 'o', markersize = 3, color = 'purple', label = '1FLE')\n",
    "plt.legend(loc='upper right')\n",
    "plt.xscale('log')\n",
    "plt.yscale('log')\n",
    "plt.xlabel('Energy in MeV')\n",
    "plt.ylabel('Flux (MeV s^-1 cm^-2)')\n",
    "plt.title('GRO J1224+2155')"
   ]
  },
  {
   "cell_type": "markdown",
   "metadata": {},
   "source": [
    "# PKS 0528+134"
   ]
  },
  {
   "cell_type": "code",
   "execution_count": 86,
   "metadata": {},
   "outputs": [],
   "source": [
    "Obj_PKS0528_COMPTEL_PhotonFlux_075_1MEV1 = 8.7 * (1e-5)\n",
    "Obj_PKS0528_COMPTEL_PhotonFlux_1_3MEV1 = 5.8 * (1e-5)\n",
    "Obj_PKS0528_COMPTEL_PhotonFlux_3_10MEV1 = 4.3  * (1e-5)\n",
    "Obj_PKS0528_COMPTEL_PhotonFlux_10_30MEV1 = 2.0 * (1e-5)\n",
    "\n",
    "Obj_PKS0528_COMPTEL_EnergyFlux_075_1MEV1 = math.sqrt(0.75) * Obj_PKS0528_COMPTEL_PhotonFlux_075_1MEV1\n",
    "Obj_PKS0528_COMPTEL_EnergyFlux_1_3MEV1 = math.sqrt(3) * Obj_PKS0528_COMPTEL_PhotonFlux_1_3MEV1\n",
    "Obj_PKS0528_COMPTEL_EnergyFlux_3_10MEV1 = math.sqrt(30) * Obj_PKS0528_COMPTEL_PhotonFlux_3_10MEV1\n",
    "Obj_PKS0528_COMPTEL_EnergyFlux_10_30MEV1 = math.sqrt(300) * Obj_PKS0528_COMPTEL_PhotonFlux_10_30MEV1\n",
    "\n",
    "Obj_PKS0528_COMPTEL_PhotonFlux_075_1MEV_err1 = 0 * (1e-5)\n",
    "Obj_PKS0528_COMPTEL_PhotonFlux_1_3MEV_err1 = 3.4 * (1e-5)\n",
    "Obj_PKS0528_COMPTEL_PhotonFlux_3_10MEV_err1 = 1.4 * (1e-5)\n",
    "Obj_PKS0528_COMPTEL_PhotonFlux_10_30MEV_err1 = 0.5 * (1e-5)\n",
    "\n",
    "Obj_PKS0528_COMPTEL_EnergyFlux_075_1MEV_err1 = math.sqrt(0.75) * Obj_PKS0528_COMPTEL_PhotonFlux_075_1MEV_err1\n",
    "Obj_PKS0528_COMPTEL_EnergyFlux_1_3MEV_err1 = math.sqrt(3) * Obj_PKS0528_COMPTEL_PhotonFlux_1_3MEV_err1\n",
    "Obj_PKS0528_COMPTEL_EnergyFlux_3_10MEV_err1 = math.sqrt(30) * Obj_PKS0528_COMPTEL_PhotonFlux_3_10MEV_err1\n",
    "Obj_PKS0528_COMPTEL_EnergyFlux_10_30MEV_err1 = math.sqrt(300) * Obj_PKS0528_COMPTEL_PhotonFlux_10_30MEV_err1\n",
    "\n",
    "COMPTEL_PKS0528_EnergyBand_UL1 = [math.sqrt(0.75)]\n",
    "COMPTEL_PKS0528_EnergyBand1 = [math.sqrt(3), math.sqrt(30), math.sqrt(300)]\n",
    "\n",
    "COMPTEL_PKS0528_EnergyFlux_UL1 = [Obj_PKS0528_COMPTEL_EnergyFlux_075_1MEV1]\n",
    "COMPTEL_PKS0528_EnergyFlux_err1 = [Obj_PKS0528_COMPTEL_PhotonFlux_1_3MEV_err1, Obj_PKS0528_COMPTEL_PhotonFlux_3_10MEV_err1, Obj_PKS0528_COMPTEL_PhotonFlux_10_30MEV_err1]\n",
    "COMPTEL_PKS0528_EnergyFlux1 = [Obj_PKS0528_COMPTEL_EnergyFlux_1_3MEV1, Obj_PKS0528_COMPTEL_EnergyFlux_3_10MEV1, Obj_PKS0528_COMPTEL_EnergyFlux_10_30MEV1]"
   ]
  },
  {
   "cell_type": "code",
   "execution_count": 87,
   "metadata": {},
   "outputs": [],
   "source": [
    "Obj_PKS0528_COMPTEL_PhotonFlux_075_1MEV2 = 4.2 * (1e-5)\n",
    "Obj_PKS0528_COMPTEL_PhotonFlux_1_3MEV2 = 8.5 * (1e-5)\n",
    "Obj_PKS0528_COMPTEL_PhotonFlux_3_10MEV2 = 2.3  * (1e-5)\n",
    "Obj_PKS0528_COMPTEL_PhotonFlux_10_30MEV2 = 1.3 * (1e-5)\n",
    "\n",
    "Obj_PKS0528_COMPTEL_EnergyFlux_075_1MEV2 = math.sqrt(0.75) * Obj_PKS0528_COMPTEL_PhotonFlux_075_1MEV2\n",
    "Obj_PKS0528_COMPTEL_EnergyFlux_1_3MEV2 = math.sqrt(3) * Obj_PKS0528_COMPTEL_PhotonFlux_1_3MEV2\n",
    "Obj_PKS0528_COMPTEL_EnergyFlux_3_10MEV2 = math.sqrt(30) * Obj_PKS0528_COMPTEL_PhotonFlux_3_10MEV2\n",
    "Obj_PKS0528_COMPTEL_EnergyFlux_10_30MEV2 = math.sqrt(300) * Obj_PKS0528_COMPTEL_PhotonFlux_10_30MEV2\n",
    "\n",
    "Obj_PKS0528_COMPTEL_PhotonFlux_075_1MEV_err2 = 3.4 * (1e-5)\n",
    "Obj_PKS0528_COMPTEL_PhotonFlux_1_3MEV_err2 = 2.7 * (1e-5)\n",
    "Obj_PKS0528_COMPTEL_PhotonFlux_3_10MEV_err2 = 1.0 * (1e-5)\n",
    "Obj_PKS0528_COMPTEL_PhotonFlux_10_30MEV_err2 = 0.4 * (1e-5)\n",
    "\n",
    "Obj_PKS0528_COMPTEL_EnergyFlux_075_1MEV_err2 = math.sqrt(0.75) * Obj_PKS0528_COMPTEL_PhotonFlux_075_1MEV_err2\n",
    "Obj_PKS0528_COMPTEL_EnergyFlux_1_3MEV_err2 = math.sqrt(3) * Obj_PKS0528_COMPTEL_PhotonFlux_1_3MEV_err2\n",
    "Obj_PKS0528_COMPTEL_EnergyFlux_3_10MEV_err2 = math.sqrt(30) * Obj_PKS0528_COMPTEL_PhotonFlux_3_10MEV_err2\n",
    "Obj_PKS0528_COMPTEL_EnergyFlux_10_30MEV_err2 = math.sqrt(300) * Obj_PKS0528_COMPTEL_PhotonFlux_10_30MEV_err2\n",
    "\n",
    "COMPTEL_PKS0528_EnergyBand2 = [math.sqrt(0.75), math.sqrt(3), math.sqrt(30), math.sqrt(300)]\n",
    "\n",
    "COMPTEL_PKS0528_EnergyFlux_err2 = [Obj_PKS0528_COMPTEL_EnergyFlux_075_1MEV_err2, Obj_PKS0528_COMPTEL_EnergyFlux_1_3MEV_err2, Obj_PKS0528_COMPTEL_PhotonFlux_3_10MEV_err2, Obj_PKS0528_COMPTEL_EnergyFlux_10_30MEV_err2]\n",
    "COMPTEL_PKS0528_EnergyFlux2 = [Obj_PKS0528_COMPTEL_EnergyFlux_075_1MEV2, Obj_PKS0528_COMPTEL_EnergyFlux_1_3MEV2, Obj_PKS0528_COMPTEL_EnergyFlux_3_10MEV2, Obj_PKS0528_COMPTEL_EnergyFlux_10_30MEV2]"
   ]
  },
  {
   "cell_type": "code",
   "execution_count": 88,
   "metadata": {},
   "outputs": [
    {
     "name": "stdout",
     "output_type": "stream",
     "text": [
      "[False False False ... False False False]\n"
     ]
    },
    {
     "data": {
      "text/html": [
       "<div><i>Table length=1</i>\n",
       "<table id=\"table2293889487888\" class=\"table-striped table-bordered table-condensed\">\n",
       "<thead><tr><th>Source_Name</th><th>RAJ2000</th><th>DEJ2000</th><th>GLON</th><th>GLAT</th><th>Conf_68_SemiMajor</th><th>Conf_68_SemiMinor</th><th>Conf_68_PosAng</th><th>Conf_95_SemiMajor</th><th>Conf_95_SemiMinor</th><th>Conf_95_PosAng</th><th>ROI_num</th><th>Extended_Source_Name</th><th>Signif_Avg</th><th>Pivot_Energy</th><th>Flux1000</th><th>Unc_Flux1000</th><th>Energy_Flux100</th><th>Unc_Energy_Flux100</th><th>SpectrumType</th><th>PL_Flux_Density</th><th>Unc_PL_Flux_Density</th><th>PL_Index</th><th>Unc_PL_Index</th><th>LP_Flux_Density</th><th>Unc_LP_Flux_Density</th><th>LP_Index</th><th>Unc_LP_Index</th><th>LP_beta</th><th>Unc_LP_beta</th><th>LP_SigCurv</th><th>PLEC_Flux_Density</th><th>Unc_PLEC_Flux_Density</th><th>PLEC_Index</th><th>Unc_PLEC_Index</th><th>PLEC_Expfactor</th><th>Unc_PLEC_Expfactor</th><th>PLEC_Exp_Index</th><th>Unc_PLEC_Exp_Index</th><th>PLEC_SigCurv</th><th>Npred</th><th>Flux_Band</th><th>Unc_Flux_Band</th><th>nuFnu_Band</th><th>Sqrt_TS_Band</th><th>Variability_Index</th><th>Frac_Variability</th><th>Unc_Frac_Variability</th><th>Signif_Peak</th><th>Flux_Peak</th><th>Unc_Flux_Peak</th><th>Time_Peak</th><th>Peak_Interval</th><th>Flux_History</th><th>Unc_Flux_History</th><th>Sqrt_TS_History</th><th>Variability2_Index</th><th>Frac2_Variability</th><th>Unc_Frac2_Variability</th><th>Signif2_Peak</th><th>Flux2_Peak</th><th>Unc_Flux2_Peak</th><th>Time2_Peak</th><th>Peak2_Interval</th><th>Flux2_History</th><th>Unc_Flux2_History</th><th>Sqrt_TS2_History</th><th>ASSOC_FGL</th><th>ASSOC_FHL</th><th>ASSOC_GAM1</th><th>ASSOC_GAM2</th><th>ASSOC_GAM3</th><th>TEVCAT_FLAG</th><th>ASSOC_TEV</th><th>CLASS1</th><th>CLASS2</th><th>ASSOC1</th><th>ASSOC2</th><th>ASSOC_PROB_BAY</th><th>ASSOC_PROB_LR</th><th>RA_Counterpart</th><th>DEC_Counterpart</th><th>Unc_Counterpart</th><th>Flags</th></tr></thead>\n",
       "<thead><tr><th></th><th>deg</th><th>deg</th><th>deg</th><th>deg</th><th>deg</th><th>deg</th><th>deg</th><th>deg</th><th>deg</th><th>deg</th><th></th><th></th><th></th><th>MeV</th><th>ph / (s cm2)</th><th>ph / (s cm2)</th><th>erg / (s cm2)</th><th>erg / (s cm2)</th><th></th><th>ph / (MeV s cm2)</th><th>ph / (MeV s cm2)</th><th></th><th></th><th>ph / (MeV s cm2)</th><th>ph / (MeV s cm2)</th><th></th><th></th><th></th><th></th><th></th><th>ph / (MeV s cm2)</th><th>ph / (MeV s cm2)</th><th></th><th></th><th></th><th></th><th></th><th></th><th></th><th></th><th>ph / (s cm2)</th><th>ph / (s cm2)</th><th>erg / (s cm2)</th><th></th><th></th><th></th><th></th><th></th><th>ph / (s cm2)</th><th>ph / (s cm2)</th><th>s</th><th>s</th><th>ph / (s cm2)</th><th>ph / (s cm2)</th><th></th><th></th><th></th><th></th><th></th><th>ph / (s cm2)</th><th>ph / (s cm2)</th><th>s</th><th>s</th><th>ph / (s cm2)</th><th>ph / (s cm2)</th><th></th><th></th><th></th><th></th><th></th><th></th><th></th><th></th><th></th><th></th><th></th><th></th><th></th><th></th><th>deg</th><th>deg</th><th>deg</th><th></th></tr></thead>\n",
       "<thead><tr><th>bytes18</th><th>float32</th><th>float32</th><th>float32</th><th>float32</th><th>float32</th><th>float32</th><th>float32</th><th>float32</th><th>float32</th><th>float32</th><th>int16</th><th>bytes18</th><th>float32</th><th>float32</th><th>float32</th><th>float32</th><th>float32</th><th>float32</th><th>bytes17</th><th>float32</th><th>float32</th><th>float32</th><th>float32</th><th>float32</th><th>float32</th><th>float32</th><th>float32</th><th>float32</th><th>float32</th><th>float32</th><th>float32</th><th>float32</th><th>float32</th><th>float32</th><th>float32</th><th>float32</th><th>float32</th><th>float32</th><th>float32</th><th>float32</th><th>float32[7]</th><th>float32[7,2]</th><th>float32[7]</th><th>float32[7]</th><th>float32</th><th>float32</th><th>float32</th><th>float32</th><th>float32</th><th>float32</th><th>float64</th><th>float32</th><th>float32[8]</th><th>float32[8,2]</th><th>float32[8]</th><th>float32</th><th>float32</th><th>float32</th><th>float32</th><th>float32</th><th>float32</th><th>float64</th><th>float32</th><th>float32[48]</th><th>float32[48,2]</th><th>float32[48]</th><th>bytes18</th><th>bytes18</th><th>bytes18</th><th>bytes18</th><th>bytes18</th><th>bytes1</th><th>bytes26</th><th>bytes5</th><th>bytes5</th><th>bytes28</th><th>bytes26</th><th>float32</th><th>float32</th><th>float64</th><th>float64</th><th>float32</th><th>int16</th></tr></thead>\n",
       "<tr><td>4FGL J0530.9+1332</td><td>82.7364</td><td>13.5402</td><td>191.3612</td><td>-11.0065</td><td>0.0228</td><td>0.0210</td><td>23.730</td><td>0.0369</td><td>0.0341</td><td>23.730</td><td>858</td><td></td><td>26.917</td><td>736.41</td><td>2.0537e-09</td><td>1.1899e-10</td><td>2.5775e-11</td><td>1.8933e-12</td><td>LogParabola</td><td>6.7134e-12</td><td>3.1248e-13</td><td>2.5757</td><td>0.0343</td><td>8.5092e-12</td><td>4.5934e-13</td><td>2.5016</td><td>0.0596</td><td>0.2437</td><td>0.0506</td><td>6.706</td><td>8.2811e-12</td><td>4.5359e-13</td><td>1.8863</td><td>0.1573</td><td>0.00999</td><td>0.00232</td><td>0.6667</td><td>--</td><td>6.185</td><td>2915.51</td><td>6.924727e-08 .. 1.5326091e-12</td><td>-6.138056e-08 .. 6.1407264e-12</td><td>1.1380634e-11 .. 4.3069206e-14</td><td>1.1384275 .. 0.61632246</td><td>402.3596</td><td>1.0224</td><td>0.2774</td><td>23.655</td><td>1.4356816e-07</td><td>7.96768e-09</td><td>349790016.0</td><td>31560000.0</td><td>8.202372e-08 .. 1.1339679e-08</td><td>-6.2535883e-09 .. 5.37027e-09</td><td>16.38329 .. 2.3393593</td><td>727.5315</td><td>1.2304</td><td>0.1341</td><td>16.631</td><td>2.4005791e-07</td><td>1.9505062e-08</td><td>242073712.0</td><td>5032582.5</td><td>2.4005791e-07 .. 2.1390296e-08</td><td>-1.9505062e-08 .. 1.40120076e-08</td><td>16.631462 .. 1.7198346</td><td>3FGL J0530.8+1330</td><td></td><td>J0531+1334</td><td>3EG J0530+1323</td><td>EGR J0530+1331</td><td>N</td><td></td><td>FSRQ</td><td></td><td>PKS 0528+134</td><td></td><td>1.0000</td><td>0.9940</td><td>82.7351</td><td>13.5320</td><td>0.00000</td><td>0</td></tr>\n",
       "</table></div>"
      ],
      "text/plain": [
       "<Table length=1>\n",
       "   Source_Name     RAJ2000  DEJ2000  ... DEC_Counterpart Unc_Counterpart Flags\n",
       "                     deg      deg    ...       deg             deg            \n",
       "     bytes18       float32  float32  ...     float64         float32     int16\n",
       "------------------ -------- -------- ... --------------- --------------- -----\n",
       "4FGL J0530.9+1332   82.7364  13.5402 ...         13.5320         0.00000     0"
      ]
     },
     "execution_count": 88,
     "metadata": {},
     "output_type": "execute_result"
    }
   ],
   "source": [
    "fermi_obj_name = table['ASSOC1']\n",
    "objname_fermi = 'PKS 0528+134                ' \n",
    "\n",
    "wg3 = (fermi_obj_name == objname_fermi)\n",
    "print(wg3)\n",
    "\n",
    "table[wg3]"
   ]
  },
  {
   "cell_type": "code",
   "execution_count": 89,
   "metadata": {},
   "outputs": [
    {
     "name": "stdout",
     "output_type": "stream",
     "text": [
      "[70.71067811865477, 173.20508075688772, 547.722557505166, 1732.0508075688772, 5477.2255750516615, 17320.508075688773, 94868.32980505137]\n",
      "[7.103234267861677e-06, 6.244257400893002e-06, 5.057512902748203e-06, 2.364447393817231e-06, 8.285422234700348e-07, 1.2287258077412562e-07, 2.688168814501561e-08]\n"
     ]
    }
   ],
   "source": [
    "Obj_PKS0528_spectra_fermi = []\n",
    "\n",
    "for gal in table[wg3]:\n",
    "    Obj_PKS0528_spectra_fermi.extend(gal['nuFnu_Band'])\n",
    "\n",
    "Obj_PKS0528_spectra_fermi = [i * (624151) for i in Obj_PKS0528_spectra_fermi] \n",
    "\n",
    "Fermi_Energy_BandMeV = [1000 * math.sqrt(.05*.1), 1000 * math.sqrt(.1*.3), 1000 * math.sqrt(.3*1), 1000 * math.sqrt(1*3), 1000 * math.sqrt(3*10), 1000 * math.sqrt(10*30), 1000 * math.sqrt(30*300)]\n",
    "\n",
    "print(Fermi_Energy_BandMeV)\n",
    "\n",
    "print(Obj_PKS0528_spectra_fermi)\n",
    "\n",
    "Obj_PKS0528_spectra_fermi_yerrmin = [6.296284291882083e-06, 1.0615924309767914e-06, 3.2865782252241045e-07, 1.9082087810246687e-07, 1.3832316571226577e-07, 7.076770759351277e-08, 0.0]\n",
    "Obj_PKS0528_spectra_fermi_yerrmax = [3.7410890932460493e-06, 1.1193401948888073e-06, 3.2865783774831906e-07, 1.9082088787913888e-07, 1.4969799659662582e-07, 1.079433411725557e-07, 1.0770723003563384e-07]\n",
    "Obj_PKS0528_spectra_fermi_yerr = [Obj_PKS0528_spectra_fermi_yerrmin, Obj_PKS0528_spectra_fermi_yerrmax]"
   ]
  },
  {
   "cell_type": "code",
   "execution_count": 90,
   "metadata": {},
   "outputs": [
    {
     "data": {
      "text/html": [
       "<div><i>Table length=1</i>\n",
       "<table id=\"table2293883872208\" class=\"table-striped table-bordered table-condensed\">\n",
       "<thead><tr><th>Index</th><th>BAT_NAME</th><th>RA</th><th>DEC</th><th>SNR</th><th>COUNTERPART_NAME</th><th>OTHER_NAME</th><th>CTPT_RA</th><th>CTPT_DEC</th><th>FLUX</th><th>FLUX_LO</th><th>FLUX_HI</th><th>CONTA</th><th>GAMMA</th><th>GAMM_lo</th><th>GAMM_hi</th><th>CHI_SQ_R</th><th>REDSHIFT</th><th>LUM</th><th>ASSOC_STREN</th><th>CL2</th><th>TYPE</th><th>Energy_err</th><th>Flux_err</th><th>Flux</th></tr></thead>\n",
       "<thead><tr><th></th><th></th><th>deg</th><th>deg</th><th></th><th></th><th></th><th>deg</th><th>deg</th><th>10^-12er</th><th>10^-12er</th><th>10^-12er</th><th></th><th></th><th></th><th></th><th></th><th></th><th></th><th></th><th></th><th></th><th>keV</th><th>keV / (s cm2)</th><th>keV / (s cm2)</th></tr></thead>\n",
       "<thead><tr><th>int64</th><th>bytes22</th><th>bytes7</th><th>bytes7</th><th>bytes8</th><th>bytes30</th><th>float64</th><th>bytes8</th><th>bytes8</th><th>bytes8</th><th>bytes8</th><th>bytes8</th><th>bytes5</th><th>bytes5</th><th>bytes7</th><th>bytes7</th><th>bytes9</th><th>float64</th><th>float64</th><th>float64</th><th>bytes3</th><th>bytes25</th><th>float64[8]</th><th>float64[8]</th><th>float64[8]</th></tr></thead>\n",
       "<tr><td>282</td><td>SWIFT J0530.8+1333</td><td>82.742</td><td>13.572</td><td>4.74</td><td>PKS 0528+134</td><td>0.0</td><td>82.7351</td><td>13.5320</td><td>18.24</td><td>14.84</td><td>22.96</td><td>0.0</td><td>1.25</td><td>0.75</td><td>1.73</td><td>2.30</td><td>2.06</td><td>47.75</td><td>0.0</td><td>80</td><td>Beamed AGN</td><td>3.0 .. 22.5</td><td>0.00106426375 .. 0.0216995981</td><td>0.000233800194 .. -0.0252453517</td></tr>\n",
       "</table></div>"
      ],
      "text/plain": [
       "<Table length=1>\n",
       "Index      BAT_NAME      ...               Flux             \n",
       "                         ...          keV / (s cm2)         \n",
       "int64      bytes22       ...            float64[8]          \n",
       "----- ------------------ ... -------------------------------\n",
       "  282 SWIFT J0530.8+1333 ... 0.000233800194 .. -0.0252453517"
      ]
     },
     "execution_count": 90,
     "metadata": {},
     "output_type": "execute_result"
    }
   ],
   "source": [
    "obj_name = table1['COUNTERPART_NAME']\n",
    "name = 'PKS 0528+134'\n",
    "wg2 = (obj_name == name)\n",
    "table1[wg2]"
   ]
  },
  {
   "cell_type": "code",
   "execution_count": 91,
   "metadata": {},
   "outputs": [
    {
     "name": "stdout",
     "output_type": "stream",
     "text": [
      "[0.016733200530681513, 0.021908902300206645, 0.028982753492378877, 0.041833001326703784, 0.06123724356957946, 0.08660254037844387, 0.12247448713915891, 0.1710263137648707]\n",
      "[2.33800194e-07, 2.2295804200000003e-06, 3.1682041e-06, 2.8319202800000002e-06, 3.69375967e-06, 1.11239264e-05, -2.7793936900000002e-06, -2.52453517e-05]\n",
      "[1.0642637500000001e-06, 1.25197286e-06, 1.0831869400000001e-06, 1.2324110100000002e-06, 1.42104377e-06, 2.5704552000000003e-06, 4.938037600000001e-06, 2.1699598099999997e-05]\n"
     ]
    }
   ],
   "source": [
    "Obj_PKS0528_spectra_swift = [] \n",
    "Obj_PKS0528_spectra_swift_err = []\n",
    "\n",
    "for gal in table1[wg2]:\n",
    "    Obj_PKS0528_spectra_swift.extend(gal['Flux'])\n",
    "    Obj_PKS0528_spectra_swift_err.extend(gal['Flux_err'])\n",
    "\n",
    "Bat_Energy_Band = [math.sqrt(14*20), math.sqrt(20*24), math.sqrt(24*35), math.sqrt(35*50), math.sqrt(50*75), math.sqrt(75*100), math.sqrt(100*150), math.sqrt(150*195)]\n",
    "Bat_Energy_BandMeV = [x * .001 for x in Bat_Energy_Band]\n",
    "print(Bat_Energy_BandMeV)\n",
    "\n",
    "\n",
    "Obj_PKS0528_spectra_swift = [i * (1e-3) for i in Obj_PKS0528_spectra_swift]\n",
    "Obj_PKS0528_spectra_swift_err = [i * (1e-3) for i in Obj_PKS0528_spectra_swift_err]\n",
    "\n",
    "print(Obj_PKS0528_spectra_swift)\n",
    "print(Obj_PKS0528_spectra_swift_err)"
   ]
  },
  {
   "cell_type": "code",
   "execution_count": 92,
   "metadata": {},
   "outputs": [
    {
     "data": {
      "text/plain": [
       "Text(0.5, 1.0, 'PKS 0528+134')"
      ]
     },
     "execution_count": 92,
     "metadata": {},
     "output_type": "execute_result"
    },
    {
     "data": {
      "image/png": "[encoded data removed]",
      "text/plain": [
       "<Figure size 640x480 with 1 Axes>"
      ]
     },
     "metadata": {},
     "output_type": "display_data"
    }
   ],
   "source": [
    "plt.errorbar(Bat_Energy_BandMeV, Obj_PKS0528_spectra_swift, Obj_PKS0528_spectra_swift_err, fmt = 'o', markersize = 3, color = 'blue', label = 'Swift')\n",
    "plt.errorbar(COMPTEL_PKS0528_EnergyBand1, COMPTEL_PKS0528_EnergyFlux1, yerr = COMPTEL_PKS0528_EnergyFlux_err1, fmt = 'o', markersize = 3, color = 'orange', label = 'COMPTEL - Phase I+II')\n",
    "plt.scatter(COMPTEL_PKS0528_EnergyBand_UL1, COMPTEL_PKS0528_EnergyFlux_UL1, marker = r'$\\downarrow$', color = 'orange')\n",
    "plt.errorbar(Fermi_Energy_BandMeV, Obj_PKS0528_spectra_fermi, Obj_PKS0528_spectra_fermi_yerr, fmt = 'o', markersize = 3, color = 'red', label = 'Fermi')\n",
    "plt.errorbar(COMPTEL_PKS0528_EnergyBand2, COMPTEL_PKS0528_EnergyFlux2, yerr = COMPTEL_PKS0528_EnergyFlux_err2, fmt = 'o', markersize = 3, color = 'green', label = 'COMPTEL - Phase I-III')\n",
    "plt.legend(loc='upper right')\n",
    "plt.xscale('log')\n",
    "plt.yscale('log')\n",
    "plt.xlabel('Energy in MeV')\n",
    "plt.ylabel('Flux (MeV s^-1 cm^-2)')\n",
    "plt.title('PKS 0528+134')"
   ]
  },
  {
   "cell_type": "markdown",
   "metadata": {},
   "source": [
    "# PKS 1522-297"
   ]
  },
  {
   "cell_type": "code",
   "execution_count": 96,
   "metadata": {},
   "outputs": [],
   "source": [
    "Obj_PKS1622_COMPTEL_PhotonFlux_075_1MEV = 22 * (1e-5)\n",
    "Obj_PKS1622_COMPTEL_PhotonFlux_1_3MEV = 13.5 * (1e-5)\n",
    "Obj_PKS1622_COMPTEL_PhotonFlux_3_10MEV = 6.1 * (1e-5)\n",
    "Obj_PKS1622_COMPTEL_PhotonFlux_10_30MEV = 3.3 * (1e-5)\n",
    "\n",
    "Obj_PKS1622_COMPTEL_EnergyFlux_075_1MEV = math.sqrt(0.75) * Obj_PKS1622_COMPTEL_PhotonFlux_075_1MEV\n",
    "Obj_PKS1622_COMPTEL_EnergyFlux_1_3MEV = math.sqrt(3) * Obj_PKS1622_COMPTEL_PhotonFlux_1_3MEV\n",
    "Obj_PKS1622_COMPTEL_EnergyFlux_3_10MEV = math.sqrt(30) * Obj_PKS1622_COMPTEL_PhotonFlux_3_10MEV\n",
    "Obj_PKS1622_COMPTEL_EnergyFlux_10_30MEV = math.sqrt(300) * Obj_PKS1622_COMPTEL_PhotonFlux_10_30MEV\n",
    "\n",
    "Obj_PKS1622_COMPTEL_PhotonFlux_075_1MEV_err = 0 * (1e-5)\n",
    "Obj_PKS1622_COMPTEL_PhotonFlux_1_3MEV_err = 0 * (1e-5)\n",
    "Obj_PKS1622_COMPTEL_PhotonFlux_3_10MEV_err = 0 * (1e-5)\n",
    "Obj_PKS1622_COMPTEL_PhotonFlux_10_30MEV_err = 0.7 * (1e-5)\n",
    "\n",
    "Obj_PKS1622_COMPTEL_EnergyFlux_075_1MEV_err = math.sqrt(0.75) * Obj_PKS1622_COMPTEL_PhotonFlux_075_1MEV_err\n",
    "Obj_PKS1622_COMPTEL_EnergyFlux_1_3MEV_err = math.sqrt(3) * Obj_PKS1622_COMPTEL_PhotonFlux_1_3MEV_err\n",
    "Obj_PKS1622_COMPTEL_EnergyFlux_3_10MEV_err = math.sqrt(30) * Obj_PKS1622_COMPTEL_PhotonFlux_3_10MEV_err\n",
    "Obj_PKS1622_COMPTEL_EnergyFlux_10_30MEV_err = math.sqrt(300) * Obj_PKS1622_COMPTEL_PhotonFlux_10_30MEV_err\n",
    "\n",
    "COMPTEL_PKS1622_EnergyBand = [math.sqrt(300)]\n",
    "COMTPEL_PKS1622_EnergyBand_UL = [math.sqrt(0.75), math.sqrt(3), math.sqrt(30)]\n",
    "\n",
    "COMPTEL_PKS1622_EnergyFlux = [Obj_PKS1622_COMPTEL_EnergyFlux_10_30MEV]\n",
    "COMPTEL_PKS1622_EnergyFlux_err = [Obj_PKS1622_COMPTEL_PhotonFlux_10_30MEV_err]\n",
    "COMPTEL_PKS1622_EnergyFlux_UL = [Obj_PKS1622_COMPTEL_EnergyFlux_075_1MEV, Obj_PKS1622_COMPTEL_EnergyFlux_1_3MEV, Obj_PKS1622_COMPTEL_EnergyFlux_3_10MEV]"
   ]
  },
  {
   "cell_type": "code",
   "execution_count": 97,
   "metadata": {},
   "outputs": [
    {
     "name": "stdout",
     "output_type": "stream",
     "text": [
      "[False False False ... False False False]\n"
     ]
    },
    {
     "data": {
      "text/html": [
       "<div><i>Table length=1</i>\n",
       "<table id=\"table2293896041488\" class=\"table-striped table-bordered table-condensed\">\n",
       "<thead><tr><th>Source_Name</th><th>RAJ2000</th><th>DEJ2000</th><th>GLON</th><th>GLAT</th><th>Conf_68_SemiMajor</th><th>Conf_68_SemiMinor</th><th>Conf_68_PosAng</th><th>Conf_95_SemiMajor</th><th>Conf_95_SemiMinor</th><th>Conf_95_PosAng</th><th>ROI_num</th><th>Extended_Source_Name</th><th>Signif_Avg</th><th>Pivot_Energy</th><th>Flux1000</th><th>Unc_Flux1000</th><th>Energy_Flux100</th><th>Unc_Energy_Flux100</th><th>SpectrumType</th><th>PL_Flux_Density</th><th>Unc_PL_Flux_Density</th><th>PL_Index</th><th>Unc_PL_Index</th><th>LP_Flux_Density</th><th>Unc_LP_Flux_Density</th><th>LP_Index</th><th>Unc_LP_Index</th><th>LP_beta</th><th>Unc_LP_beta</th><th>LP_SigCurv</th><th>PLEC_Flux_Density</th><th>Unc_PLEC_Flux_Density</th><th>PLEC_Index</th><th>Unc_PLEC_Index</th><th>PLEC_Expfactor</th><th>Unc_PLEC_Expfactor</th><th>PLEC_Exp_Index</th><th>Unc_PLEC_Exp_Index</th><th>PLEC_SigCurv</th><th>Npred</th><th>Flux_Band</th><th>Unc_Flux_Band</th><th>nuFnu_Band</th><th>Sqrt_TS_Band</th><th>Variability_Index</th><th>Frac_Variability</th><th>Unc_Frac_Variability</th><th>Signif_Peak</th><th>Flux_Peak</th><th>Unc_Flux_Peak</th><th>Time_Peak</th><th>Peak_Interval</th><th>Flux_History</th><th>Unc_Flux_History</th><th>Sqrt_TS_History</th><th>Variability2_Index</th><th>Frac2_Variability</th><th>Unc_Frac2_Variability</th><th>Signif2_Peak</th><th>Flux2_Peak</th><th>Unc_Flux2_Peak</th><th>Time2_Peak</th><th>Peak2_Interval</th><th>Flux2_History</th><th>Unc_Flux2_History</th><th>Sqrt_TS2_History</th><th>ASSOC_FGL</th><th>ASSOC_FHL</th><th>ASSOC_GAM1</th><th>ASSOC_GAM2</th><th>ASSOC_GAM3</th><th>TEVCAT_FLAG</th><th>ASSOC_TEV</th><th>CLASS1</th><th>CLASS2</th><th>ASSOC1</th><th>ASSOC2</th><th>ASSOC_PROB_BAY</th><th>ASSOC_PROB_LR</th><th>RA_Counterpart</th><th>DEC_Counterpart</th><th>Unc_Counterpart</th><th>Flags</th></tr></thead>\n",
       "<thead><tr><th></th><th>deg</th><th>deg</th><th>deg</th><th>deg</th><th>deg</th><th>deg</th><th>deg</th><th>deg</th><th>deg</th><th>deg</th><th></th><th></th><th></th><th>MeV</th><th>ph / (s cm2)</th><th>ph / (s cm2)</th><th>erg / (s cm2)</th><th>erg / (s cm2)</th><th></th><th>ph / (MeV s cm2)</th><th>ph / (MeV s cm2)</th><th></th><th></th><th>ph / (MeV s cm2)</th><th>ph / (MeV s cm2)</th><th></th><th></th><th></th><th></th><th></th><th>ph / (MeV s cm2)</th><th>ph / (MeV s cm2)</th><th></th><th></th><th></th><th></th><th></th><th></th><th></th><th></th><th>ph / (s cm2)</th><th>ph / (s cm2)</th><th>erg / (s cm2)</th><th></th><th></th><th></th><th></th><th></th><th>ph / (s cm2)</th><th>ph / (s cm2)</th><th>s</th><th>s</th><th>ph / (s cm2)</th><th>ph / (s cm2)</th><th></th><th></th><th></th><th></th><th></th><th>ph / (s cm2)</th><th>ph / (s cm2)</th><th>s</th><th>s</th><th>ph / (s cm2)</th><th>ph / (s cm2)</th><th></th><th></th><th></th><th></th><th></th><th></th><th></th><th></th><th></th><th></th><th></th><th></th><th></th><th></th><th>deg</th><th>deg</th><th>deg</th><th></th></tr></thead>\n",
       "<thead><tr><th>bytes18</th><th>float32</th><th>float32</th><th>float32</th><th>float32</th><th>float32</th><th>float32</th><th>float32</th><th>float32</th><th>float32</th><th>float32</th><th>int16</th><th>bytes18</th><th>float32</th><th>float32</th><th>float32</th><th>float32</th><th>float32</th><th>float32</th><th>bytes17</th><th>float32</th><th>float32</th><th>float32</th><th>float32</th><th>float32</th><th>float32</th><th>float32</th><th>float32</th><th>float32</th><th>float32</th><th>float32</th><th>float32</th><th>float32</th><th>float32</th><th>float32</th><th>float32</th><th>float32</th><th>float32</th><th>float32</th><th>float32</th><th>float32</th><th>float32[7]</th><th>float32[7,2]</th><th>float32[7]</th><th>float32[7]</th><th>float32</th><th>float32</th><th>float32</th><th>float32</th><th>float32</th><th>float32</th><th>float64</th><th>float32</th><th>float32[8]</th><th>float32[8,2]</th><th>float32[8]</th><th>float32</th><th>float32</th><th>float32</th><th>float32</th><th>float32</th><th>float32</th><th>float64</th><th>float32</th><th>float32[48]</th><th>float32[48,2]</th><th>float32[48]</th><th>bytes18</th><th>bytes18</th><th>bytes18</th><th>bytes18</th><th>bytes18</th><th>bytes1</th><th>bytes26</th><th>bytes5</th><th>bytes5</th><th>bytes28</th><th>bytes26</th><th>float32</th><th>float32</th><th>float64</th><th>float64</th><th>float32</th><th>int16</th></tr></thead>\n",
       "<tr><td>4FGL J1626.0-2950</td><td>246.5150</td><td>-29.8486</td><td>348.8178</td><td>13.3280</td><td>0.0143</td><td>0.0127</td><td>19.920</td><td>0.0232</td><td>0.0206</td><td>19.920</td><td>779</td><td></td><td>45.057</td><td>598.93</td><td>3.0748e-09</td><td>1.2023e-10</td><td>4.2333e-11</td><td>1.5458e-12</td><td>LogParabola</td><td>1.7104e-11</td><td>5.0611e-13</td><td>2.5494</td><td>0.0241</td><td>1.9341e-11</td><td>6.6618e-13</td><td>2.4726</td><td>0.0335</td><td>0.1161</td><td>0.0216</td><td>5.426</td><td>1.8521e-11</td><td>6.3552e-13</td><td>2.2691</td><td>0.0736</td><td>0.00379</td><td>0.00102</td><td>0.6667</td><td>--</td><td>4.453</td><td>4738.03</td><td>9.7610105e-08 .. 1.1663472e-11</td><td>-4.0526075e-08 .. 7.798689e-12</td><td>1.5651775e-11 .. 3.8308058e-13</td><td>2.441363 .. 3.5950463</td><td>376.0275</td><td>0.6034</td><td>0.1641</td><td>29.995</td><td>1.4543681e-07</td><td>6.3467414e-09</td><td>444470016.0</td><td>31560000.0</td><td>4.042333e-08 .. 1.3231323e-07</td><td>-5.795035e-09 .. 7.1861996e-09</td><td>7.9631777 .. 23.653406</td><td>853.9994</td><td>0.7805</td><td>0.0850</td><td>19.434</td><td>2.7664547e-07</td><td>1.9243222e-08</td><td>473400000.0</td><td>5260000.0</td><td>5.6773064e-08 .. 3.498312e-08</td><td>-1.401848e-08 .. 1.1062381e-08</td><td>4.769775 .. 3.6438313</td><td>3FGL J1626.0-2951</td><td>3FHL J1625.9-2951</td><td>J1626-2943</td><td>3EG J1625-2955</td><td>EGR J1625-2958</td><td>N</td><td></td><td>FSRQ</td><td></td><td>PKS B1622-297</td><td></td><td>1.0000</td><td>0.9997</td><td>246.5251</td><td>-29.8575</td><td>0.00000</td><td>0</td></tr>\n",
       "</table></div>"
      ],
      "text/plain": [
       "<Table length=1>\n",
       "   Source_Name     RAJ2000  DEJ2000  ... DEC_Counterpart Unc_Counterpart Flags\n",
       "                     deg      deg    ...       deg             deg            \n",
       "     bytes18       float32  float32  ...     float64         float32     int16\n",
       "------------------ -------- -------- ... --------------- --------------- -----\n",
       "4FGL J1626.0-2950  246.5150 -29.8486 ...        -29.8575         0.00000     0"
      ]
     },
     "execution_count": 97,
     "metadata": {},
     "output_type": "execute_result"
    }
   ],
   "source": [
    "fermi_obj_name = table['ASSOC1']\n",
    "objname_fermi = 'PKS B1622-297               ' \n",
    "\n",
    "wg3 = (fermi_obj_name == objname_fermi)\n",
    "print(wg3)\n",
    "\n",
    "table[wg3]"
   ]
  },
  {
   "cell_type": "code",
   "execution_count": 98,
   "metadata": {},
   "outputs": [
    {
     "name": "stdout",
     "output_type": "stream",
     "text": [
      "[70.71067811865477, 173.20508075688772, 547.722557505166, 1732.0508075688772, 5477.2255750516615, 17320.508075688773, 94868.32980505137]\n",
      "[9.769071027353887e-06, 1.0431291060973916e-05, 6.990192988392749e-06, 3.68120170646637e-06, 1.2996609930512708e-06, 5.417520764025726e-07, 2.3910012983269766e-07]\n"
     ]
    }
   ],
   "source": [
    "Obj_PKS1622_spectra_fermi = []\n",
    "\n",
    "for gal in table[wg3]:\n",
    "    Obj_PKS1622_spectra_fermi.extend(gal['nuFnu_Band'])\n",
    "\n",
    "Obj_PKS1622_spectra_fermi = [i * (624151) for i in Obj_PKS1622_spectra_fermi] \n",
    "\n",
    "Fermi_Energy_BandMeV = [1000 * math.sqrt(.05*.1), 1000 * math.sqrt(.1*.3), 1000 * math.sqrt(.3*1), 1000 * math.sqrt(1*3), 1000 * math.sqrt(3*10), 1000 * math.sqrt(10*30), 1000 * math.sqrt(30*300)]\n",
    "\n",
    "print(Fermi_Energy_BandMeV)\n",
    "\n",
    "print(Obj_PKS1622_spectra_fermi)\n",
    "\n",
    "Obj_PKS1622_spectra_fermi_yerrmin = [4.0559541089370266e-06, 8.235729015831092e-07, 2.985576899612987e-07, 2.0026428446191422e-07, 1.5460918944930476e-07, 1.4770174811495028e-07, 1.1203249711063562e-07]\n",
    "Obj_PKS1622_spectra_fermi_yerrmax = [3.680159308743977e-06, 8.235729015831092e-07, 2.985576899612987e-07, 2.0026428446191422e-07, 1.6428682776903564e-07, 1.757598175152386e-07, 1.5987242161328717e-07]\n",
    "Obj_PKS1622_spectra_fermi_yerr = [Obj_PKS1622_spectra_fermi_yerrmin, Obj_PKS1622_spectra_fermi_yerrmax]"
   ]
  },
  {
   "cell_type": "code",
   "execution_count": 99,
   "metadata": {},
   "outputs": [
    {
     "data": {
      "text/html": [
       "<div><i>Table length=1</i>\n",
       "<table id=\"table2293890692880\" class=\"table-striped table-bordered table-condensed\">\n",
       "<thead><tr><th>Index</th><th>BAT_NAME</th><th>RA</th><th>DEC</th><th>SNR</th><th>COUNTERPART_NAME</th><th>OTHER_NAME</th><th>CTPT_RA</th><th>CTPT_DEC</th><th>FLUX</th><th>FLUX_LO</th><th>FLUX_HI</th><th>CONTA</th><th>GAMMA</th><th>GAMM_lo</th><th>GAMM_hi</th><th>CHI_SQ_R</th><th>REDSHIFT</th><th>LUM</th><th>ASSOC_STREN</th><th>CL2</th><th>TYPE</th><th>Energy_err</th><th>Flux_err</th><th>Flux</th></tr></thead>\n",
       "<thead><tr><th></th><th></th><th>deg</th><th>deg</th><th></th><th></th><th></th><th>deg</th><th>deg</th><th>10^-12er</th><th>10^-12er</th><th>10^-12er</th><th></th><th></th><th></th><th></th><th></th><th></th><th></th><th></th><th></th><th></th><th>keV</th><th>keV / (s cm2)</th><th>keV / (s cm2)</th></tr></thead>\n",
       "<thead><tr><th>int64</th><th>bytes22</th><th>bytes7</th><th>bytes7</th><th>bytes8</th><th>bytes30</th><th>float64</th><th>bytes8</th><th>bytes8</th><th>bytes8</th><th>bytes8</th><th>bytes8</th><th>bytes5</th><th>bytes5</th><th>bytes7</th><th>bytes7</th><th>bytes9</th><th>float64</th><th>float64</th><th>float64</th><th>bytes3</th><th>bytes25</th><th>float64[8]</th><th>float64[8]</th><th>float64[8]</th></tr></thead>\n",
       "<tr><td>808</td><td>SWIFT J1626.5-2951</td><td>246.554</td><td>-29.855</td><td>5.07</td><td>PKS 1622-29</td><td>0.0</td><td>246.5251</td><td>-29.8575</td><td>15.54</td><td>12.64</td><td>19.09</td><td>0.0</td><td>1.32</td><td>0.66</td><td>1.99</td><td>1.00</td><td>0.815</td><td>46.69</td><td>0.0</td><td>80</td><td>Beamed AGN</td><td>3.0 .. 22.5</td><td>0.00126115826 .. 0.0177975725</td><td>0.0023802123 .. -0.0170777645</td></tr>\n",
       "</table></div>"
      ],
      "text/plain": [
       "<Table length=1>\n",
       "Index      BAT_NAME      ...              Flux            \n",
       "                         ...         keV / (s cm2)        \n",
       "int64      bytes22       ...           float64[8]         \n",
       "----- ------------------ ... -----------------------------\n",
       "  808 SWIFT J1626.5-2951 ... 0.0023802123 .. -0.0170777645"
      ]
     },
     "execution_count": 99,
     "metadata": {},
     "output_type": "execute_result"
    }
   ],
   "source": [
    "obj_name = table1['COUNTERPART_NAME']\n",
    "name = 'PKS 1622-29'\n",
    "wg2 = (obj_name == name)\n",
    "table1[wg2]"
   ]
  },
  {
   "cell_type": "code",
   "execution_count": 100,
   "metadata": {},
   "outputs": [
    {
     "name": "stdout",
     "output_type": "stream",
     "text": [
      "[0.016733200530681513, 0.021908902300206645, 0.028982753492378877, 0.041833001326703784, 0.06123724356957946, 0.08660254037844387, 0.12247448713915891, 0.1710263137648707]\n",
      "[2.3802123000000002e-06, 2.70619732e-06, 1.36569946e-06, 2.72666733e-06, 2.56664376e-06, 6.614626850000001e-06, 8.68858397e-06, -1.7077764499999997e-05]\n",
      "[1.2611582599999999e-06, 1.1796074699999999e-06, 9.57568176e-07, 1.01660134e-06, 1.23042322e-06, 2.24051159e-06, 4.0323315199999995e-06, 1.7797572500000002e-05]\n"
     ]
    }
   ],
   "source": [
    "Obj_PKS1622_spectra_swift = [] \n",
    "Obj_PKS1622_spectra_swift_err = []\n",
    "\n",
    "for gal in table1[wg2]:\n",
    "    Obj_PKS1622_spectra_swift.extend(gal['Flux'])\n",
    "    Obj_PKS1622_spectra_swift_err.extend(gal['Flux_err'])\n",
    "\n",
    "Bat_Energy_Band = [math.sqrt(14*20), math.sqrt(20*24), math.sqrt(24*35), math.sqrt(35*50), math.sqrt(50*75), math.sqrt(75*100), math.sqrt(100*150), math.sqrt(150*195)]\n",
    "Bat_Energy_BandMeV = [x * .001 for x in Bat_Energy_Band]\n",
    "print(Bat_Energy_BandMeV)\n",
    "\n",
    "\n",
    "Obj_PKS1622_spectra_swift = [i * (1e-3) for i in Obj_PKS1622_spectra_swift]\n",
    "Obj_PKS1622_spectra_swift_err = [i * (1e-3) for i in Obj_PKS1622_spectra_swift_err]\n",
    "\n",
    "print(Obj_PKS1622_spectra_swift)\n",
    "print(Obj_PKS1622_spectra_swift_err)"
   ]
  },
  {
   "cell_type": "code",
   "execution_count": 101,
   "metadata": {},
   "outputs": [
    {
     "data": {
      "text/html": [
       "<div><i>Table length=1</i>\n",
       "<table id=\"table2293891758032\" class=\"table-striped table-bordered table-condensed\">\n",
       "<thead><tr><th>Name</th><th>RAdeg</th><th>DEdeg</th><th>GLON</th><th>GLAT</th><th>ePos</th><th>Signi</th><th>EF30-100</th><th>e_EF30-100</th><th>EF100-300</th><th>e_EF100-300</th><th>F30-100</th><th>e_F30-100</th><th>F100-300</th><th>e_F100-300</th><th>Class1</th><th>z</th><th>Assoc1</th><th>Assoc3FGL</th><th>AssocCOMP</th></tr></thead>\n",
       "<thead><tr><th></th><th>deg</th><th>deg</th><th>deg</th><th>deg</th><th>deg</th><th></th><th>mW / m2</th><th>mW / m2</th><th>mW / m2</th><th>mW / m2</th><th>1/cm2/s</th><th>1/cm2/s</th><th>1/cm2/s</th><th>1/cm2/s</th><th></th><th></th><th></th><th></th><th></th></tr></thead>\n",
       "<thead><tr><th>bytes15</th><th>float64</th><th>float64</th><th>float64</th><th>float64</th><th>float64</th><th>float64</th><th>float64</th><th>float64</th><th>float64</th><th>float64</th><th>float64</th><th>float64</th><th>float64</th><th>float64</th><th>bytes5</th><th>float64</th><th>bytes18</th><th>bytes18</th><th>bytes23</th></tr></thead>\n",
       "<tr><td>1FLE J1625-2926</td><td>246.427643</td><td>-29.434141</td><td>349.079071</td><td>13.664161</td><td>0.246676</td><td>4.228</td><td>1.206180e-11</td><td>3.992080e-12</td><td>1.368360e-11</td><td>3.884660e-12</td><td>1.447770e-07</td><td>4.791650e-08</td><td>4.590490e-08</td><td>1.478420e-08</td><td>fsrq</td><td>0.815000</td><td>3FGL J1626.0-2951</td><td>3FGL J1626.0-2951</td><td>PKS_1622-297</td></tr>\n",
       "</table></div>"
      ],
      "text/plain": [
       "<Table length=1>\n",
       "      Name        RAdeg    ...     Assoc3FGL             AssocCOMP       \n",
       "                   deg     ...                                           \n",
       "    bytes15      float64   ...      bytes18               bytes23        \n",
       "--------------- ---------- ... ------------------ -----------------------\n",
       "1FLE J1625-2926 246.427643 ... 3FGL J1626.0-2951  PKS_1622-297           "
      ]
     },
     "execution_count": 101,
     "metadata": {},
     "output_type": "execute_result"
    }
   ],
   "source": [
    "FLE_obj_name = bright_FLE['AssocCOMP']\n",
    "obj_name_COMP = 'PKS_1622-297           '\n",
    "\n",
    "wg9 = (obj_name_COMP == FLE_obj_name)\n",
    "#print(wg9)\n",
    "\n",
    "bright_FLE[wg9]"
   ]
  },
  {
   "cell_type": "code",
   "execution_count": 102,
   "metadata": {},
   "outputs": [
    {
     "name": "stdout",
     "output_type": "stream",
     "text": [
      "[1.20618e-11]\n",
      "[3.99208e-12]\n",
      "[1.36836e-11]\n",
      "[3.88466e-12]\n",
      "[7.5283845318e-06, 8.5406326236e-06]\n",
      "[2.49166072408e-06, 2.42461442366e-06]\n",
      "[54.772255750516614, 173.20508075688772]\n"
     ]
    }
   ],
   "source": [
    "EFBucket30_100 = []\n",
    "EFBucket30_100e = []\n",
    "EFBucket100_300 = []\n",
    "EFBucket100_300e = []\n",
    "\n",
    "for gal in bright_FLE[wg9]:\n",
    "    EFBucket30_100.append(gal['EF30-100'])\n",
    "    EFBucket30_100e.append(gal['e_EF30-100'])\n",
    "    EFBucket100_300.append(gal['EF100-300'])\n",
    "    EFBucket100_300e.append(gal['e_EF100-300'])\n",
    "\n",
    "print(EFBucket30_100)\n",
    "print(EFBucket30_100e)\n",
    "print(EFBucket100_300)\n",
    "print(EFBucket100_300e)\n",
    "\n",
    "EF_FLE = EFBucket30_100 + EFBucket100_300\n",
    "EF_FLEe = EFBucket30_100e + EFBucket100_300e\n",
    "\n",
    "EF_FLE = [624151 * x for x in EF_FLE]\n",
    "EF_FLEe = [624151 * x for x in EF_FLEe]\n",
    "\n",
    "\n",
    "print(EF_FLE)\n",
    "print(EF_FLEe)\n",
    "\n",
    "EBucket30_100 = math.sqrt(30*100)\n",
    "EBucket100_300 = math.sqrt(100*300)\n",
    "\n",
    "EBuckets = [EBucket30_100, EBucket100_300]\n",
    "print(EBuckets)"
   ]
  },
  {
   "cell_type": "code",
   "execution_count": 103,
   "metadata": {},
   "outputs": [
    {
     "data": {
      "text/plain": [
       "Text(0.5, 1.0, 'Spectra of Object PKS 1622-297')"
      ]
     },
     "execution_count": 103,
     "metadata": {},
     "output_type": "execute_result"
    },
    {
     "data": {
      "image/png": "[encoded data removed]",
      "text/plain": [
       "<Figure size 640x480 with 1 Axes>"
      ]
     },
     "metadata": {},
     "output_type": "display_data"
    }
   ],
   "source": [
    "plt.errorbar(Bat_Energy_BandMeV, Obj_PKS1622_spectra_swift, Obj_PKS1622_spectra_swift_err, fmt = 'o', markersize = 3, color = 'blue', label = 'Swift')\n",
    "plt.errorbar(COMPTEL_PKS1622_EnergyBand, COMPTEL_PKS1622_EnergyFlux, yerr = COMPTEL_PKS1622_EnergyFlux_err, fmt = 'o', markersize = 3, color = 'orange', label = 'COMPTEL')\n",
    "plt.scatter(COMTPEL_PKS1622_EnergyBand_UL, COMPTEL_PKS1622_EnergyFlux_UL, marker = r'$\\downarrow$', color = 'orange')\n",
    "plt.errorbar(Fermi_Energy_BandMeV, Obj_PKS1622_spectra_fermi, Obj_PKS1622_spectra_fermi_yerr, fmt = 'o', markersize = 3, color = 'red', label = 'Fermi')\n",
    "plt.errorbar(EBuckets, EF_FLE, yerr = EF_FLEe, fmt = 'o', markersize = 3, color = 'purple', label = '1FLE')\n",
    "plt.legend(loc='upper right')\n",
    "plt.xscale('log')\n",
    "plt.yscale('log')\n",
    "plt.xlabel('Energy in MeV')\n",
    "plt.ylabel('Flux (MeV s^-1 cm^-2)')\n",
    "plt.title('Spectra of Object PKS 1622-297')"
   ]
  },
  {
   "cell_type": "code",
   "execution_count": null,
   "metadata": {},
   "outputs": [],
   "source": []
  }
 ],
 "metadata": {
  "kernelspec": {
   "display_name": "Python 3",
   "language": "python",
   "name": "python3"
  },
  "language_info": {
   "codemirror_mode": {
    "name": "ipython",
    "version": 3
   },
   "file_extension": ".py",
   "mimetype": "text/x-python",
   "name": "python",
   "nbconvert_exporter": "python",
   "pygments_lexer": "ipython3",
   "version": "3.11.1"
  }
 },
 "nbformat": 4,
 "nbformat_minor": 2
}
